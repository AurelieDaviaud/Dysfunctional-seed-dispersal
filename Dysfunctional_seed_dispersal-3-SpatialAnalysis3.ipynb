{
 "cells": [
  {
   "cell_type": "markdown",
   "metadata": {},
   "source": [
    "# Dysfunctional seed dispersal in the endemic flora of Madagascar\n",
    "\n",
    "* Language: R\n",
    "* Methods: linear regression, multivariate imputation by chained equations (MICE), spatial analyses\n",
    "* Associated publication: (in prep)"
   ]
  },
  {
   "cell_type": "code",
   "execution_count": 3,
   "metadata": {
    "collapsed": false
   },
   "outputs": [],
   "source": [
    "library(raster);\n",
    "library(igraph);"
   ]
  },
  {
   "cell_type": "markdown",
   "metadata": {},
   "source": [
    "<br>\n",
    "<br>\n",
    "## Data analyses"
   ]
  },
  {
   "cell_type": "markdown",
   "metadata": {},
   "source": [
    "###### Average number of potential dispersers for each species s (over all datasets)"
   ]
  },
  {
   "cell_type": "code",
   "execution_count": 5,
   "metadata": {
    "collapsed": true
   },
   "outputs": [],
   "source": [
    "## Load data\n",
    "load(file=\"distrAreaTot.rda\")\n",
    "load(file=\"distrCoLemurTot.rda\")\n",
    "load(file=\"distrDispCoLemurTot.rda\")\n",
    "load(file=\"distrDispLemurTot.rda\")\n",
    "\n",
    "traitveg<-read.csv(\"PT-data-miceP.csv\")\n",
    "species <- subset(traitveg, .imp==\"0\", select=.id, drop=TRUE)\n",
    "\n",
    "## Prepare containers\n",
    "DispLem <- data.frame(Species=species, Mean=rep(NA, length(species)), row.names=1)\n",
    "CoLem <- data.frame(Species=species, Mean=rep(NA, length(species)), row.names=1)\n",
    "DispCoLem <- data.frame(Species=species, Mean=rep(NA, length(species)), row.names=1)\n",
    "\n",
    "\n",
    "## Loop through every plant species\n",
    "for (s in species) {\n",
    "\tfor (d in 1:20) {\n",
    "\n",
    "\tif (s %in% names(distrDispLemurTot[[d]])) {      # check whether the species is considered as endozoochorous in the dataset d\n",
    "\n",
    "        if(\"no gbif data\" %in% distrDispLemurTot[[d]][[s]]){ # if there is no gbif data (i.e. distribution data)\n",
    "\t\t\tDispLem[s, d+1] <- 1000                  # then, we give a dummy value (1000)\n",
    "\t\t\tCoLem[s, d+1] <- 1000\n",
    "\t\t\tDispCoLem[s, d+1] <- 1000\n",
    "\t\t} else {\n",
    "\n",
    "\t\t\t## Number of dispersers according to seed size only\n",
    "\t\t\tnbLemDisp <- length(distrDispLemurTot[[d]][[s]])\n",
    "\t\t\tDispLem[s, d+1] <- nbLemDisp\n",
    "\n",
    "\t\t\t## Number of dispersers according to distribution only (co-occurring lemurs)\n",
    "\t\t\tif (class(distrCoLemurTot[[d]][[s]])==\"data.frame\") {\n",
    "\t\t\tnbLemCo <- nrow(subset(distrCoLemurTot[[d]][[s]], CoArea > 0))\n",
    "\t\t\tCoLem[s, d+1] <- nbLemCo\n",
    "\t\t\t}\n",
    "\t\t\telse {\n",
    "\t\t\tCoLem[s, d+1] <- 0\n",
    "\t\t\t}\n",
    "\t\n",
    "\t\t\t## Number of dispersers according to seed size AND distribution\n",
    "\t\t\tif (class(distrDispCoLemurTot[[d]][[s]])==\"data.frame\") {\n",
    "\t\t\tnbLemDispCo <- nrow(subset(distrDispCoLemurTot[[d]][[s]], CoAreaDisp > 0))\n",
    "\t\t\tDispCoLem[s, d+1] <- nbLemDispCo\n",
    "\t\t\t}\n",
    "\t\t\telse {\n",
    "\t\t\tDispCoLem[s, d+1] <- 0\n",
    "\t\t\t}\n",
    "\t\t}\n",
    "\t\n",
    "\t} else {                      # for species not considered as endozoochorous in some datasets (depending on the imputed data)\n",
    "\t\tDispLem[s, d+1] <- NA\n",
    "\t\tCoLem[s, d+1] <- NA\n",
    "\t\tDispCoLem[s, d+1] <- NA\n",
    "\t}\n",
    "\t}\n",
    "}\n",
    "\n",
    "\n",
    "## Average the number of potential dispersers over all datasets\n",
    "DispLem[, \"Mean\"] <- rowMeans(DispLem[, 2:21], na.rm=TRUE)\n",
    "colnames(DispLem)[2:21] <- paste(\"d\",c(1:20), sep=\"\")\n",
    "CoLem[, \"Mean\"] <- rowMeans(CoLem[, 2:21], na.rm=TRUE)\t\n",
    "colnames(CoLem)[2:21] <- paste(\"d\",c(1:20), sep=\"\")\n",
    "DispCoLem[, \"Mean\"] <- rowMeans(DispCoLem[, 2:21], na.rm=TRUE)\t\n",
    "colnames(DispCoLem)[2:21] <- paste(\"d\",c(1:20), sep=\"\")\n",
    "\n",
    "## Save data\n",
    "write.table(DispLem, file=\"LemDisp.csv\", row.names=TRUE)\n",
    "write.table(CoLem, file=\"LemCo.csv\", row.names=TRUE)\n",
    "write.table(DispCoLem, file=\"LemDispCo.csv\", row.names=TRUE)"
   ]
  },
  {
   "cell_type": "code",
   "execution_count": 6,
   "metadata": {
    "collapsed": false
   },
   "outputs": [
    {
     "name": "stdout",
     "output_type": "stream",
     "text": [
      "'data.frame':\t8784 obs. of  3 variables:\n",
      " $ Dispersers                   : num  15 16 14 12 16.4 ...\n",
      " $ Co.occurring_lemurs          : num  3 6 14 5 1 0 6 9 4 4 ...\n",
      " $ Co.occurring_Disperser_lemurs: num  3 4 10 2 1 0 4 5 4 3.75 ...\n"
     ]
    }
   ],
   "source": [
    "res <- as.data.frame(cbind(DispLem[,\"Mean\"],CoLem[,\"Mean\"],DispCoLem[,\"Mean\"]))\n",
    "row.names(res) <- row.names(DispLem)\n",
    "colnames(res) <- c(\"Dispersers\", \"Co.occurring_lemurs\", \"Co.occurring_Disperser_lemurs\")\n",
    "str(res)"
   ]
  },
  {
   "cell_type": "code",
   "execution_count": 7,
   "metadata": {
    "collapsed": false
   },
   "outputs": [
    {
     "data": {
      "text/plain": [
       "   Dispersers    Co.occurring_lemurs Co.occurring_Disperser_lemurs\n",
       " Min.   : 0.00   Min.   : 0.000      Min.   : 0.00                \n",
       " 1st Qu.:16.00   1st Qu.: 1.000      1st Qu.: 1.00                \n",
       " Median :18.60   Median : 4.000      Median : 2.95                \n",
       " Mean   :17.25   Mean   : 4.228      Mean   : 3.58                \n",
       " 3rd Qu.:19.75   3rd Qu.: 6.000      3rd Qu.: 5.35                \n",
       " Max.   :20.00   Max.   :19.000      Max.   :17.00                \n",
       " NA's   :5293    NA's   :5293        NA's   :5293                 "
      ]
     },
     "metadata": {},
     "output_type": "display_data"
    }
   ],
   "source": [
    "res2 <- res[ ! res$Dispersers==1000, ]\n",
    "summary(res2)"
   ]
  },
  {
   "cell_type": "code",
   "execution_count": 8,
   "metadata": {
    "collapsed": false
   },
   "outputs": [
    {
     "data": {
      "image/png": "[encoded data removed]",
      "text/plain": [
       "plot without title"
      ]
     },
     "metadata": {},
     "output_type": "display_data"
    }
   ],
   "source": [
    "boxplot(res2, names=c('Disp', 'Co-occur', 'CoDisp'))"
   ]
  },
  {
   "cell_type": "markdown",
   "metadata": {},
   "source": [
    "We can see that plant species have between 0 and 17 available lemur dispersers (i.e. co-occurring and able to disperse the seeds; CoDisp in the boxplot), with each species having 3.6 dispersers in average. Most of them seem to have less than 5 available dispersers."
   ]
  },
  {
   "cell_type": "code",
   "execution_count": 9,
   "metadata": {
    "collapsed": false
   },
   "outputs": [
    {
     "data": {
      "text/html": [
       "74.4201457919152"
      ],
      "text/latex": [
       "74.4201457919152"
      ],
      "text/markdown": [
       "74.4201457919152"
      ],
      "text/plain": [
       "[1] 74.42015"
      ]
     },
     "metadata": {},
     "output_type": "display_data"
    }
   ],
   "source": [
    "res2 <- na.omit(res2)      # we remove the 5293 species that have always been defined as non-endozoochorous (i.e. in every imputed dataset)\n",
    "res2_5less <- res2[res2$Co.occurring_Disperser_lemurs<=5, ]\n",
    "nrow(res2_5less)/3018*100   # we have 3018 endozoochorous species for which we have distribution data."
   ]
  },
  {
   "cell_type": "markdown",
   "metadata": {},
   "source": [
    "<div class=\"alert alert-block alert-info\">\n",
    "Almost __3/4__ of the plant species studied have __5 or less__ available dispersers.<br>\n",
    "*Note: the 3018 plant species studied represent 86% of the animal-dispersed Madagascan plants.*"
   ]
  },
  {
   "cell_type": "code",
   "execution_count": 10,
   "metadata": {
    "collapsed": false
   },
   "outputs": [
    {
     "data": {
      "text/html": [
       "624"
      ],
      "text/latex": [
       "624"
      ],
      "text/markdown": [
       "624"
      ],
      "text/plain": [
       "[1] 624"
      ]
     },
     "metadata": {},
     "output_type": "display_data"
    }
   ],
   "source": [
    "res2_0 <- res2[res2$Co.occurring_Disperser_lemurs==0, ]\n",
    "nrow(res2_0)"
   ]
  },
  {
   "cell_type": "markdown",
   "metadata": {},
   "source": [
    "<div class=\"alert alert-block alert-info\">\n",
    "__21%__ of plant species __do not have any__ available lemur disperser."
   ]
  },
  {
   "cell_type": "code",
   "execution_count": 11,
   "metadata": {
    "collapsed": false
   },
   "outputs": [
    {
     "data": {
      "text/html": [
       "103"
      ],
      "text/latex": [
       "103"
      ],
      "text/markdown": [
       "103"
      ],
      "text/plain": [
       "[1] 103"
      ]
     },
     "metadata": {},
     "output_type": "display_data"
    }
   ],
   "source": [
    "res2_20_0 <- res2[res2$Dispersers==20 & res2$Co.occurring_Disperser_lemurs==0, ]\n",
    "nrow(res2_20_0)"
   ]
  },
  {
   "cell_type": "markdown",
   "metadata": {},
   "source": [
    "<div class=\"alert alert-block alert-info\">\n",
    "According to their seed size, 103 plant species could potentially be dispersed by 20 species of lemurs but, due to their distribution, they do not have any disperser available."
   ]
  },
  {
   "cell_type": "markdown",
   "metadata": {},
   "source": [
    "<br>\n",
    "<br>\n",
    "## Histogram showing the number of plant species vs the number of (co-occurring/disperser/co-occurring & disperser) lemurs"
   ]
  },
  {
   "cell_type": "code",
   "execution_count": 19,
   "metadata": {
    "collapsed": false
   },
   "outputs": [],
   "source": [
    "library(ggplot2);"
   ]
  },
  {
   "cell_type": "code",
   "execution_count": 36,
   "metadata": {
    "collapsed": false
   },
   "outputs": [
    {
     "name": "stderr",
     "output_type": "stream",
     "text": [
      "Warning message:\n",
      "\"Removed 5293 rows containing non-finite values (stat_bin).\""
     ]
    },
    {
     "data": {},
     "metadata": {},
     "output_type": "display_data"
    },
    {
     "data": {
      "image/png": "[encoded data removed]",
      "text/plain": [
       "plot without title"
      ]
     },
     "metadata": {},
     "output_type": "display_data"
    }
   ],
   "source": [
    "## Co-occurring disperser lemurs\n",
    "ggplot(data = res2, aes(x = Co.occurring_Disperser_lemurs)) + \n",
    "geom_histogram(binwidth=1, fill=\"gray\") +\n",
    "ylab(\"Number of endozoochorous plant species\") +\n",
    "xlab(\"Number of lemur dispersers\") +\n",
    "theme_classic()"
   ]
  },
  {
   "cell_type": "code",
   "execution_count": 37,
   "metadata": {
    "collapsed": false
   },
   "outputs": [
    {
     "name": "stderr",
     "output_type": "stream",
     "text": [
      "Warning message:\n",
      "\"Removed 5293 rows containing non-finite values (stat_bin).\""
     ]
    },
    {
     "data": {},
     "metadata": {},
     "output_type": "display_data"
    },
    {
     "data": {
      "image/png": "[encoded data removed]",
      "text/plain": [
       "plot without title"
      ]
     },
     "metadata": {},
     "output_type": "display_data"
    }
   ],
   "source": [
    "## Co-occurring lemurs\n",
    "ggplot(data = res2, aes(x = Co.occurring_lemurs)) + \n",
    "geom_histogram(binwidth=1, fill=\"gray\") +\n",
    "ylab(\"Number of endozoochorous plant species\") +\n",
    "xlab(\"Number of co-occurring lemurs\") +\n",
    "theme_classic()"
   ]
  },
  {
   "cell_type": "code",
   "execution_count": 38,
   "metadata": {
    "collapsed": false
   },
   "outputs": [
    {
     "name": "stderr",
     "output_type": "stream",
     "text": [
      "Warning message:\n",
      "\"Removed 5293 rows containing non-finite values (stat_bin).\""
     ]
    },
    {
     "data": {},
     "metadata": {},
     "output_type": "display_data"
    },
    {
     "data": {
      "image/png": "[encoded data removed]",
      "text/plain": [
       "plot without title"
      ]
     },
     "metadata": {},
     "output_type": "display_data"
    }
   ],
   "source": [
    "## Disperser lemurs\n",
    "ggplot(data = res2, aes(x = Dispersers)) + \n",
    "geom_histogram(binwidth=1, fill=\"gray\") +\n",
    "ylab(\"Number of endozoochorous plant species\") +\n",
    "xlab(\"Number of disperser lemurs\") +\n",
    "theme_classic()"
   ]
  },
  {
   "cell_type": "markdown",
   "metadata": {},
   "source": [
    "<br>\n",
    "The best would be to have all those graphs combined into a single one."
   ]
  },
  {
   "cell_type": "code",
   "execution_count": 41,
   "metadata": {
    "collapsed": false
   },
   "outputs": [
    {
     "name": "stdout",
     "output_type": "stream",
     "text": [
      "'data.frame':\t9054 obs. of  2 variables:\n",
      " $ type: Factor w/ 3 levels \"co\",\"codisp\",..: 1 1 1 1 1 1 1 1 1 1 ...\n",
      " $ nb  : num  0 0 0 0 0 0 0 0 0 0 ...\n"
     ]
    }
   ],
   "source": [
    "res3 <- read.csv(\"LemSpatialRes2.csv\", sep=\";\") # an \"unrolled\" version of the \"res\" dataframe\n",
    "str(res3)"
   ]
  },
  {
   "cell_type": "code",
   "execution_count": 42,
   "metadata": {
    "collapsed": false
   },
   "outputs": [
    {
     "data": {},
     "metadata": {},
     "output_type": "display_data"
    },
    {
     "data": {
      "image/png": "[encoded data removed]",
      "text/plain": [
       "plot without title"
      ]
     },
     "metadata": {},
     "output_type": "display_data"
    }
   ],
   "source": [
    "## All together\n",
    "ggplot(data = res3, aes(x = nb, fill=type)) + \n",
    "geom_histogram(binwidth=1, position=\"identity\",alpha=0.5) + \n",
    "ylab(\"Number of endozoochorous plant species\") +\n",
    "xlab(\"Number of lemurs\") +\n",
    "theme_classic() +\n",
    "theme(legend.title=element_blank()) +\n",
    "scale_fill_discrete(breaks=c(\"co\",\"disp\",\"codisp\"), labels = c(\"Co-occurring lemurs\", \"Potential dispersers\", \"Available dispersers\"))"
   ]
  },
  {
   "cell_type": "markdown",
   "metadata": {},
   "source": [
    "Frequency histogram of the number of lemur species i) co-occurring, ii) able to disperse (i.e. potential dispersers) and iii) co-occurring and able to disperse (i.e. available dispersers) endozoochorous plant species (N=3001)."
   ]
  }
 ],
 "metadata": {
  "kernelspec": {
   "display_name": "R 3.3",
   "language": "R",
   "name": "ir33"
  },
  "language_info": {
   "codemirror_mode": "r",
   "file_extension": ".r",
   "mimetype": "text/x-r-source",
   "name": "R",
   "pygments_lexer": "r",
   "version": "3.3.1"
  }
 },
 "nbformat": 4,
 "nbformat_minor": 2
}
