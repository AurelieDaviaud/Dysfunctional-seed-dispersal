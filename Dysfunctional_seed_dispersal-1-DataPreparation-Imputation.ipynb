{
 "cells": [
  {
   "cell_type": "markdown",
   "metadata": {},
   "source": [
    "# Dysfunctional seed dispersal in the endemic flora of Madagascar\n",
    "\n",
    "* Language: R\n",
    "* Methods: linear regression, multivariate imputation by chained equations (MICE), spatial analyses\n",
    "* Associated publication: (in prep)"
   ]
  },
  {
   "cell_type": "markdown",
   "metadata": {},
   "source": [
    "<br>\n",
    "<br>\n",
    "## Load and prepare plant data"
   ]
  },
  {
   "cell_type": "code",
   "execution_count": 21,
   "metadata": {
    "collapsed": false
   },
   "outputs": [
    {
     "data": {
      "text/html": [
       "88"
      ],
      "text/latex": [
       "88"
      ],
      "text/markdown": [
       "88"
      ],
      "text/plain": [
       "[1] 88"
      ]
     },
     "metadata": {},
     "output_type": "display_data"
    }
   ],
   "source": [
    "setwd(\"F:/Boulot/4-Kew/Data/Analyses\")\n",
    "\n",
    "## Load data\n",
    "pt<-read.csv(\"PlantTrait.csv\", header=T,row.names=1,sep=\";\")\n",
    "length(pt)"
   ]
  },
  {
   "cell_type": "code",
   "execution_count": 22,
   "metadata": {
    "collapsed": false
   },
   "outputs": [
    {
     "data": {
      "text/html": [
       "<table>\n",
       "<thead><tr><th></th><th scope=col>Gen</th><th scope=col>Fam</th><th scope=col>Clade1</th><th scope=col>Clade2</th><th scope=col>Origin</th><th scope=col>Lform</th><th scope=col>LF_HE.AQ</th><th scope=col>LF_EP.LI</th><th scope=col>LF_SH</th><th scope=col>LF_ST</th><th scope=col>...</th><th scope=col>Vegetation.Formation</th><th scope=col>Veg_Forest</th><th scope=col>Veg_Bush</th><th scope=col>Veg_Shrub</th><th scope=col>Veg_Grass</th><th scope=col>Veg_Mang</th><th scope=col>Veg_Anthr</th><th scope=col>Veg_ClosedVegetation</th><th scope=col>Veg_OnlyForest</th><th scope=col>IUCN</th></tr></thead>\n",
       "<tbody>\n",
       "\t<tr><th scope=row>Acanthopale_madagascariensis</th><td>Acanthopale </td><td>Acanthaceae </td><td>asterids    </td><td>asterids    </td><td>E           </td><td>NA          </td><td>NA          </td><td>NA          </td><td>NA          </td><td>NA          </td><td>...         </td><td>NA          </td><td>NA          </td><td>NA          </td><td>NA          </td><td>NA          </td><td>NA          </td><td>NA          </td><td>NA          </td><td>NA          </td><td>NA          </td></tr>\n",
       "\t<tr><th scope=row>Achyrocalyx_decaryi</th><td>Achyrocalyx </td><td>Acanthaceae </td><td>asterids    </td><td>asterids    </td><td>E           </td><td>SH          </td><td> 0          </td><td> 0          </td><td> 1          </td><td> 0          </td><td>...         </td><td>Thicket     </td><td>no          </td><td>yes         </td><td>no          </td><td>no          </td><td>no          </td><td>no          </td><td>yes         </td><td>no          </td><td>NA          </td></tr>\n",
       "\t<tr><th scope=row>Achyrocalyx_gossypinus</th><td>Achyrocalyx </td><td>Acanthaceae </td><td>asterids    </td><td>asterids    </td><td>E           </td><td>SH          </td><td> 0          </td><td> 0          </td><td> 1          </td><td> 0          </td><td>...         </td><td>Thicket     </td><td>no          </td><td>yes         </td><td>no          </td><td>no          </td><td>no          </td><td>no          </td><td>yes         </td><td>no          </td><td>NA          </td></tr>\n",
       "\t<tr><th scope=row>Achyrocalyx_pungens</th><td>Achyrocalyx </td><td>Acanthaceae </td><td>asterids    </td><td>asterids    </td><td>E           </td><td>SH          </td><td> 0          </td><td> 0          </td><td> 1          </td><td> 0          </td><td>...         </td><td>Thicket     </td><td>no          </td><td>yes         </td><td>no          </td><td>no          </td><td>no          </td><td>no          </td><td>yes         </td><td>no          </td><td>NA          </td></tr>\n",
       "\t<tr><th scope=row>Ambongia_perrieri</th><td>Ambongia    </td><td>Acanthaceae </td><td>asterids    </td><td>asterids    </td><td>E           </td><td>SH          </td><td> 0          </td><td> 0          </td><td> 1          </td><td> 0          </td><td>...         </td><td>Forest      </td><td>yes         </td><td>no          </td><td>no          </td><td>no          </td><td>no          </td><td>no          </td><td>yes         </td><td>no          </td><td>NA          </td></tr>\n",
       "\t<tr><th scope=row>Anisostachya_aequiloba</th><td>Anisostachya</td><td>Acanthaceae </td><td>asterids    </td><td>asterids    </td><td>E           </td><td>SH          </td><td> 0          </td><td> 0          </td><td> 1          </td><td> 0          </td><td>...         </td><td>NA          </td><td>NA          </td><td>NA          </td><td>NA          </td><td>NA          </td><td>NA          </td><td>NA          </td><td>NA          </td><td>NA          </td><td>NA          </td></tr>\n",
       "</tbody>\n",
       "</table>\n"
      ],
      "text/latex": [
       "\\begin{tabular}{r|llllllllllllllllllllllllllllllllllllllllllllllllllllllllllllllllllllllllllllllllllllllll}\n",
       "  & Gen & Fam & Clade1 & Clade2 & Origin & Lform & LF\\_HE.AQ & LF\\_EP.LI & LF\\_SH & LF\\_ST & ... & Vegetation.Formation & Veg\\_Forest & Veg\\_Bush & Veg\\_Shrub & Veg\\_Grass & Veg\\_Mang & Veg\\_Anthr & Veg\\_ClosedVegetation & Veg\\_OnlyForest & IUCN\\\\\n",
       "\\hline\n",
       "\tAcanthopale\\_madagascariensis & Acanthopale  & Acanthaceae  & asterids     & asterids     & E            & NA           & NA           & NA           & NA           & NA           & ...          & NA           & NA           & NA           & NA           & NA           & NA           & NA           & NA           & NA           & NA          \\\\\n",
       "\tAchyrocalyx\\_decaryi & Achyrocalyx  & Acanthaceae  & asterids     & asterids     & E            & SH           &  0           &  0           &  1           &  0           & ...          & Thicket      & no           & yes          & no           & no           & no           & no           & yes          & no           & NA          \\\\\n",
       "\tAchyrocalyx\\_gossypinus & Achyrocalyx  & Acanthaceae  & asterids     & asterids     & E            & SH           &  0           &  0           &  1           &  0           & ...          & Thicket      & no           & yes          & no           & no           & no           & no           & yes          & no           & NA          \\\\\n",
       "\tAchyrocalyx\\_pungens & Achyrocalyx  & Acanthaceae  & asterids     & asterids     & E            & SH           &  0           &  0           &  1           &  0           & ...          & Thicket      & no           & yes          & no           & no           & no           & no           & yes          & no           & NA          \\\\\n",
       "\tAmbongia\\_perrieri & Ambongia     & Acanthaceae  & asterids     & asterids     & E            & SH           &  0           &  0           &  1           &  0           & ...          & Forest       & yes          & no           & no           & no           & no           & no           & yes          & no           & NA          \\\\\n",
       "\tAnisostachya\\_aequiloba & Anisostachya & Acanthaceae  & asterids     & asterids     & E            & SH           &  0           &  0           &  1           &  0           & ...          & NA           & NA           & NA           & NA           & NA           & NA           & NA           & NA           & NA           & NA          \\\\\n",
       "\\end{tabular}\n"
      ],
      "text/markdown": [
       "\n",
       "| <!--/--> | Gen | Fam | Clade1 | Clade2 | Origin | Lform | LF_HE.AQ | LF_EP.LI | LF_SH | LF_ST | ... | Vegetation.Formation | Veg_Forest | Veg_Bush | Veg_Shrub | Veg_Grass | Veg_Mang | Veg_Anthr | Veg_ClosedVegetation | Veg_OnlyForest | IUCN | \n",
       "|---|---|---|---|---|---|\n",
       "| Acanthopale_madagascariensis | Acanthopale  | Acanthaceae  | asterids     | asterids     | E            | NA           | NA           | NA           | NA           | NA           | ...          | NA           | NA           | NA           | NA           | NA           | NA           | NA           | NA           | NA           | NA           | \n",
       "| Achyrocalyx_decaryi | Achyrocalyx  | Acanthaceae  | asterids     | asterids     | E            | SH           |  0           |  0           |  1           |  0           | ...          | Thicket      | no           | yes          | no           | no           | no           | no           | yes          | no           | NA           | \n",
       "| Achyrocalyx_gossypinus | Achyrocalyx  | Acanthaceae  | asterids     | asterids     | E            | SH           |  0           |  0           |  1           |  0           | ...          | Thicket      | no           | yes          | no           | no           | no           | no           | yes          | no           | NA           | \n",
       "| Achyrocalyx_pungens | Achyrocalyx  | Acanthaceae  | asterids     | asterids     | E            | SH           |  0           |  0           |  1           |  0           | ...          | Thicket      | no           | yes          | no           | no           | no           | no           | yes          | no           | NA           | \n",
       "| Ambongia_perrieri | Ambongia     | Acanthaceae  | asterids     | asterids     | E            | SH           |  0           |  0           |  1           |  0           | ...          | Forest       | yes          | no           | no           | no           | no           | no           | yes          | no           | NA           | \n",
       "| Anisostachya_aequiloba | Anisostachya | Acanthaceae  | asterids     | asterids     | E            | SH           |  0           |  0           |  1           |  0           | ...          | NA           | NA           | NA           | NA           | NA           | NA           | NA           | NA           | NA           | NA           | \n",
       "\n",
       "\n"
      ],
      "text/plain": [
       "                             Gen          Fam         Clade1   Clade2   Origin\n",
       "Acanthopale_madagascariensis Acanthopale  Acanthaceae asterids asterids E     \n",
       "Achyrocalyx_decaryi          Achyrocalyx  Acanthaceae asterids asterids E     \n",
       "Achyrocalyx_gossypinus       Achyrocalyx  Acanthaceae asterids asterids E     \n",
       "Achyrocalyx_pungens          Achyrocalyx  Acanthaceae asterids asterids E     \n",
       "Ambongia_perrieri            Ambongia     Acanthaceae asterids asterids E     \n",
       "Anisostachya_aequiloba       Anisostachya Acanthaceae asterids asterids E     \n",
       "                             Lform LF_HE.AQ LF_EP.LI LF_SH LF_ST ...\n",
       "Acanthopale_madagascariensis NA    NA       NA       NA    NA    ...\n",
       "Achyrocalyx_decaryi          SH     0        0        1     0    ...\n",
       "Achyrocalyx_gossypinus       SH     0        0        1     0    ...\n",
       "Achyrocalyx_pungens          SH     0        0        1     0    ...\n",
       "Ambongia_perrieri            SH     0        0        1     0    ...\n",
       "Anisostachya_aequiloba       SH     0        0        1     0    ...\n",
       "                             Vegetation.Formation Veg_Forest Veg_Bush Veg_Shrub\n",
       "Acanthopale_madagascariensis NA                   NA         NA       NA       \n",
       "Achyrocalyx_decaryi          Thicket              no         yes      no       \n",
       "Achyrocalyx_gossypinus       Thicket              no         yes      no       \n",
       "Achyrocalyx_pungens          Thicket              no         yes      no       \n",
       "Ambongia_perrieri            Forest               yes        no       no       \n",
       "Anisostachya_aequiloba       NA                   NA         NA       NA       \n",
       "                             Veg_Grass Veg_Mang Veg_Anthr Veg_ClosedVegetation\n",
       "Acanthopale_madagascariensis NA        NA       NA        NA                  \n",
       "Achyrocalyx_decaryi          no        no       no        yes                 \n",
       "Achyrocalyx_gossypinus       no        no       no        yes                 \n",
       "Achyrocalyx_pungens          no        no       no        yes                 \n",
       "Ambongia_perrieri            no        no       no        yes                 \n",
       "Anisostachya_aequiloba       NA        NA       NA        NA                  \n",
       "                             Veg_OnlyForest IUCN\n",
       "Acanthopale_madagascariensis NA             NA  \n",
       "Achyrocalyx_decaryi          no             NA  \n",
       "Achyrocalyx_gossypinus       no             NA  \n",
       "Achyrocalyx_pungens          no             NA  \n",
       "Ambongia_perrieri            no             NA  \n",
       "Anisostachya_aequiloba       NA             NA  "
      ]
     },
     "metadata": {},
     "output_type": "display_data"
    }
   ],
   "source": [
    "head(pt)"
   ]
  },
  {
   "cell_type": "markdown",
   "metadata": {},
   "source": [
    "This dataset contains 88 variables (incl. several versions for many variables).\n",
    "\n",
    "We don't need all of them. Let's clean a bit."
   ]
  },
  {
   "cell_type": "code",
   "execution_count": 17,
   "metadata": {
    "collapsed": true
   },
   "outputs": [],
   "source": [
    "## Give proper class to variables\n",
    "pt$FrLe2<-as.numeric(pt$FrLe2)\n",
    "pt$FrWi2<-as.numeric(pt$FrWi2)\n",
    "pt$SeWi2<-as.numeric(pt$SeWi2)\n",
    "pt$SeLe2<-as.numeric(pt$SeLe2)\n",
    "\n",
    "## Log-transform data to approach a normal distribution\n",
    "pt$log_FrLe<-log(pt$FrLe2)\n",
    "pt$log_FrWi<-log(pt$FrWi2)\n",
    "pt$log_SeLe<-log(pt$SeLe2)\n",
    "pt$log_SeWi<-log(pt$SeWi2)"
   ]
  },
  {
   "cell_type": "code",
   "execution_count": 18,
   "metadata": {
    "collapsed": false
   },
   "outputs": [],
   "source": [
    "## Keep only endemic species\n",
    "pt2 <-subset(pt, Origin==\"E\")         \n",
    "\n",
    "## Create file with variables needed for analyses (+ potential important predictors for imputation)\n",
    "pt3 <-subset(pt2,select=c(Gen,Fam,Clade2,Lform3, FrType2, FrClass2, Dcol2, FrHusk2, Pulp2, log_FrLe, log_FrWi, SeFr, log_SeLe, log_SeWi, Rarity3, Clim_Humid, Clim_Subhumid, Clim_Subarid, Clim_Dry, Clim_Montane, Veg_Forest, Veg_Bush, Veg_Shrub, Veg_Grass, Veg_Mang, Veg_Anthr, IUCN,FrOd2, SeProt2))\n",
    "\n",
    "## Give proper class to variables\n",
    "pt3$Rarity3<-factor(pt3$Rarity3, order = TRUE, levels = c(\"0\", \"1\", \"2\", \"3\"))\n",
    "pt3$log_FrLe<-as.numeric(pt3$log_FrLe)\n",
    "pt3$log_FrWi<-as.numeric(pt3$log_FrWi)\n",
    "pt3$log_SeWi<-as.numeric(pt3$log_SeWi)\n",
    "pt3$log_SeLe<-as.numeric(pt3$log_SeLe)\n",
    "pt3$SeFr<-as.numeric(pt3$SeFr)"
   ]
  },
  {
   "cell_type": "markdown",
   "metadata": {},
   "source": [
    "How many endemic plant species are there in Madagascar?"
   ]
  },
  {
   "cell_type": "code",
   "execution_count": 19,
   "metadata": {
    "collapsed": false
   },
   "outputs": [
    {
     "data": {
      "text/html": [
       "8788"
      ],
      "text/latex": [
       "8788"
      ],
      "text/markdown": [
       "8788"
      ],
      "text/plain": [
       "[1] 8788"
      ]
     },
     "metadata": {},
     "output_type": "display_data"
    }
   ],
   "source": [
    "nrow(pt3)"
   ]
  },
  {
   "cell_type": "code",
   "execution_count": 32,
   "metadata": {
    "collapsed": false
   },
   "outputs": [
    {
     "data": {
      "text/plain": [
       "           Gen                  Fam                     Clade2      Lform3    \n",
       " Bulbophyllum: 189   Orchidaceae  : 751   asterids         :3220   HE  :1840  \n",
       " Impatiens   : 173   Rubiaceae    : 675   basal angiosperms: 316   LI  :1202  \n",
       " Dypsis      : 163   Acanthaceae  : 473   eudicots         : 298   SH  :3004  \n",
       " Dombeya     : 155   Euphorbiaceae: 463   gymnosperm       :   6   Tree:2522  \n",
       " Croton      : 144   Fabaceae     : 449   monocots         :1741   NA's: 220  \n",
       " Euphorbia   : 130   Asteraceae   : 439   rosids           :3207              \n",
       " (Other)     :7834   (Other)      :5538                                       \n",
       "     FrType2     FrClass2         Dcol2       FrHusk2        Pulp2     \n",
       " capsule :3576   DD  :4152   brown   : 507   no   :4173   aril  : 258  \n",
       " drupe   :1667   DI  :1486   red     : 357   thick:  98   fleshy:2663  \n",
       " berry   :1237   F   :2851   black   : 217   thin : 758   no    :5225  \n",
       " achene  : 848   NA's: 299   contrast: 134   NA's :3759   other : 103  \n",
       " follicle: 355               yellow  : 131                NA's  : 539  \n",
       " (Other) : 952               (Other) : 336                             \n",
       " NA's    : 153               NA's    :7106                             \n",
       "    log_FrLe        log_FrWi           SeFr            log_SeLe     \n",
       " Min.   :0.693   Min.   :-1.609   Min.   :  0.100   Min.   :-1.609  \n",
       " 1st Qu.:4.749   1st Qu.: 1.705   1st Qu.:  1.000   1st Qu.: 0.000  \n",
       " Median :5.666   Median : 2.303   Median :  1.000   Median : 1.386  \n",
       " Mean   :5.234   Mean   : 2.261   Mean   :  3.326   Mean   : 1.280  \n",
       " 3rd Qu.:6.082   3rd Qu.: 2.879   3rd Qu.:  3.000   3rd Qu.: 2.322  \n",
       " Max.   :6.349   Max.   : 7.454   Max.   :125.000   Max.   : 4.248  \n",
       " NA's   :4364    NA's   :5474     NA's   :5162      NA's   :5431    \n",
       "    log_SeWi      Rarity3     Clim_Humid  Clim_Subhumid Clim_Subarid\n",
       " Min.   :-2.303   0   :6152   no  :4026   no  :3779     no  :6064   \n",
       " 1st Qu.: 1.099   1   :1548   yes :3242   yes :3489     yes :1204   \n",
       " Median : 1.668   2   : 419   NA's:1520   NA's:1520     NA's:1520   \n",
       " Mean   : 1.556   3   : 667                                         \n",
       " 3rd Qu.: 2.303   NA's:   2                                         \n",
       " Max.   : 4.212                                                     \n",
       " NA's   :6747                                                       \n",
       " Clim_Dry    Clim_Montane Veg_Forest  Veg_Bush    Veg_Shrub   Veg_Grass  \n",
       " no  :5459   no  :6633    no  :2236   no  :5854   no  :6227   no  :6303  \n",
       " yes :1809   yes : 635    yes :4377   yes : 759   yes : 386   yes : 310  \n",
       " NA's:1520   NA's:1520    NA's:2175   NA's:2175   NA's:2175   NA's:2175  \n",
       "                                                                         \n",
       "                                                                         \n",
       "                                                                         \n",
       "                                                                         \n",
       " Veg_Mang    Veg_Anthr        IUCN          FrOd2         SeProt2    \n",
       " no  :6609   no  :6319   EN     : 259   absent :  18   absent : 131  \n",
       " yes :   4   yes : 294   CR     : 176   present:  42   present: 665  \n",
       " NA's:2175   NA's:2175   VU     : 167   NA's   :8728   NA's   :7992  \n",
       "                         LC     : 155                                \n",
       "                         NT     :  33                                \n",
       "                         (Other):  41                                \n",
       "                         NA's   :7957                                "
      ]
     },
     "metadata": {},
     "output_type": "display_data"
    }
   ],
   "source": [
    "## Let's have a look at the data\n",
    "summary(pt3)"
   ]
  },
  {
   "cell_type": "markdown",
   "metadata": {},
   "source": [
    "It seems that the dataset has many missing data. Let's check that."
   ]
  },
  {
   "cell_type": "code",
   "execution_count": 33,
   "metadata": {
    "collapsed": false
   },
   "outputs": [
    {
     "data": {
      "text/html": [
       "37.000059369496"
      ],
      "text/latex": [
       "37.000059369496"
      ],
      "text/markdown": [
       "37.000059369496"
      ],
      "text/plain": [
       "[1] 37.00006"
      ]
     },
     "metadata": {},
     "output_type": "display_data"
    }
   ],
   "source": [
    "## Total % NA in dataset (after having removed some unnecessary variables)\n",
    "ptx <-subset(pt3,select=-c(Gen, Fam, Clade2, log_FrLe, log_SeLe, Rarity3))\n",
    "percNA <- sum(is.na(ptx))/(nrow(ptx)*ncol(ptx))*100\n",
    "percNA"
   ]
  },
  {
   "cell_type": "markdown",
   "metadata": {},
   "source": [
    "Yes, 37% of missing data. That's rather important. Let's see whether we can decrease a bit the number of missing data."
   ]
  },
  {
   "cell_type": "code",
   "execution_count": 34,
   "metadata": {
    "collapsed": false
   },
   "outputs": [
    {
     "data": {
      "text/html": [
       "<dl class=dl-horizontal>\n",
       "\t<dt>Gen</dt>\n",
       "\t\t<dd>0</dd>\n",
       "\t<dt>Fam</dt>\n",
       "\t\t<dd>0</dd>\n",
       "\t<dt>Clade2</dt>\n",
       "\t\t<dd>0</dd>\n",
       "\t<dt>Lform3</dt>\n",
       "\t\t<dd>2.5034137460173</dd>\n",
       "\t<dt>FrType2</dt>\n",
       "\t\t<dd>1.74101046882112</dd>\n",
       "\t<dt>FrClass2</dt>\n",
       "\t\t<dd>3.40236686390533</dd>\n",
       "\t<dt>Dcol2</dt>\n",
       "\t\t<dd>80.8602639963587</dd>\n",
       "\t<dt>FrHusk2</dt>\n",
       "\t\t<dd>42.7742375967228</dd>\n",
       "\t<dt>Pulp2</dt>\n",
       "\t\t<dd>6.13336367774238</dd>\n",
       "\t<dt>log_FrLe</dt>\n",
       "\t\t<dd>49.6586253982704</dd>\n",
       "\t<dt>log_FrWi</dt>\n",
       "\t\t<dd>62.2894856622667</dd>\n",
       "\t<dt>SeFr</dt>\n",
       "\t\t<dd>58.7391898042786</dd>\n",
       "\t<dt>log_SeLe</dt>\n",
       "\t\t<dd>61.8001820664543</dd>\n",
       "\t<dt>log_SeWi</dt>\n",
       "\t\t<dd>76.7751479289941</dd>\n",
       "\t<dt>Rarity3</dt>\n",
       "\t\t<dd>0.0227583067819754</dd>\n",
       "\t<dt>Clim_Humid</dt>\n",
       "\t\t<dd>17.2963131543013</dd>\n",
       "\t<dt>Clim_Subhumid</dt>\n",
       "\t\t<dd>17.2963131543013</dd>\n",
       "\t<dt>Clim_Subarid</dt>\n",
       "\t\t<dd>17.2963131543013</dd>\n",
       "\t<dt>Clim_Dry</dt>\n",
       "\t\t<dd>17.2963131543013</dd>\n",
       "\t<dt>Clim_Montane</dt>\n",
       "\t\t<dd>17.2963131543013</dd>\n",
       "\t<dt>Veg_Forest</dt>\n",
       "\t\t<dd>24.7496586253983</dd>\n",
       "\t<dt>Veg_Bush</dt>\n",
       "\t\t<dd>24.7496586253983</dd>\n",
       "\t<dt>Veg_Shrub</dt>\n",
       "\t\t<dd>24.7496586253983</dd>\n",
       "\t<dt>Veg_Grass</dt>\n",
       "\t\t<dd>24.7496586253983</dd>\n",
       "\t<dt>Veg_Mang</dt>\n",
       "\t\t<dd>24.7496586253983</dd>\n",
       "\t<dt>Veg_Anthr</dt>\n",
       "\t\t<dd>24.7496586253983</dd>\n",
       "\t<dt>IUCN</dt>\n",
       "\t\t<dd>90.5439235320892</dd>\n",
       "\t<dt>FrOd2</dt>\n",
       "\t\t<dd>99.3172507965407</dd>\n",
       "\t<dt>SeProt2</dt>\n",
       "\t\t<dd>90.9421939007738</dd>\n",
       "</dl>\n"
      ],
      "text/latex": [
       "\\begin{description*}\n",
       "\\item[Gen] 0\n",
       "\\item[Fam] 0\n",
       "\\item[Clade2] 0\n",
       "\\item[Lform3] 2.5034137460173\n",
       "\\item[FrType2] 1.74101046882112\n",
       "\\item[FrClass2] 3.40236686390533\n",
       "\\item[Dcol2] 80.8602639963587\n",
       "\\item[FrHusk2] 42.7742375967228\n",
       "\\item[Pulp2] 6.13336367774238\n",
       "\\item[log\\textbackslash{}\\_FrLe] 49.6586253982704\n",
       "\\item[log\\textbackslash{}\\_FrWi] 62.2894856622667\n",
       "\\item[SeFr] 58.7391898042786\n",
       "\\item[log\\textbackslash{}\\_SeLe] 61.8001820664543\n",
       "\\item[log\\textbackslash{}\\_SeWi] 76.7751479289941\n",
       "\\item[Rarity3] 0.0227583067819754\n",
       "\\item[Clim\\textbackslash{}\\_Humid] 17.2963131543013\n",
       "\\item[Clim\\textbackslash{}\\_Subhumid] 17.2963131543013\n",
       "\\item[Clim\\textbackslash{}\\_Subarid] 17.2963131543013\n",
       "\\item[Clim\\textbackslash{}\\_Dry] 17.2963131543013\n",
       "\\item[Clim\\textbackslash{}\\_Montane] 17.2963131543013\n",
       "\\item[Veg\\textbackslash{}\\_Forest] 24.7496586253983\n",
       "\\item[Veg\\textbackslash{}\\_Bush] 24.7496586253983\n",
       "\\item[Veg\\textbackslash{}\\_Shrub] 24.7496586253983\n",
       "\\item[Veg\\textbackslash{}\\_Grass] 24.7496586253983\n",
       "\\item[Veg\\textbackslash{}\\_Mang] 24.7496586253983\n",
       "\\item[Veg\\textbackslash{}\\_Anthr] 24.7496586253983\n",
       "\\item[IUCN] 90.5439235320892\n",
       "\\item[FrOd2] 99.3172507965407\n",
       "\\item[SeProt2] 90.9421939007738\n",
       "\\end{description*}\n"
      ],
      "text/markdown": [
       "Gen\n",
       ":   0Fam\n",
       ":   0Clade2\n",
       ":   0Lform3\n",
       ":   2.5034137460173FrType2\n",
       ":   1.74101046882112FrClass2\n",
       ":   3.40236686390533Dcol2\n",
       ":   80.8602639963587FrHusk2\n",
       ":   42.7742375967228Pulp2\n",
       ":   6.13336367774238log_FrLe\n",
       ":   49.6586253982704log_FrWi\n",
       ":   62.2894856622667SeFr\n",
       ":   58.7391898042786log_SeLe\n",
       ":   61.8001820664543log_SeWi\n",
       ":   76.7751479289941Rarity3\n",
       ":   0.0227583067819754Clim_Humid\n",
       ":   17.2963131543013Clim_Subhumid\n",
       ":   17.2963131543013Clim_Subarid\n",
       ":   17.2963131543013Clim_Dry\n",
       ":   17.2963131543013Clim_Montane\n",
       ":   17.2963131543013Veg_Forest\n",
       ":   24.7496586253983Veg_Bush\n",
       ":   24.7496586253983Veg_Shrub\n",
       ":   24.7496586253983Veg_Grass\n",
       ":   24.7496586253983Veg_Mang\n",
       ":   24.7496586253983Veg_Anthr\n",
       ":   24.7496586253983IUCN\n",
       ":   90.5439235320892FrOd2\n",
       ":   99.3172507965407SeProt2\n",
       ":   90.9421939007738\n",
       "\n"
      ],
      "text/plain": [
       "          Gen           Fam        Clade2        Lform3       FrType2 \n",
       "   0.00000000    0.00000000    0.00000000    2.50341375    1.74101047 \n",
       "     FrClass2         Dcol2       FrHusk2         Pulp2      log_FrLe \n",
       "   3.40236686   80.86026400   42.77423760    6.13336368   49.65862540 \n",
       "     log_FrWi          SeFr      log_SeLe      log_SeWi       Rarity3 \n",
       "  62.28948566   58.73918980   61.80018207   76.77514793    0.02275831 \n",
       "   Clim_Humid Clim_Subhumid  Clim_Subarid      Clim_Dry  Clim_Montane \n",
       "  17.29631315   17.29631315   17.29631315   17.29631315   17.29631315 \n",
       "   Veg_Forest      Veg_Bush     Veg_Shrub     Veg_Grass      Veg_Mang \n",
       "  24.74965863   24.74965863   24.74965863   24.74965863   24.74965863 \n",
       "    Veg_Anthr          IUCN         FrOd2       SeProt2 \n",
       "  24.74965863   90.54392353   99.31725080   90.94219390 "
      ]
     },
     "metadata": {},
     "output_type": "display_data"
    }
   ],
   "source": [
    "## check % NA in each variable\n",
    "pMiss <- function(x){sum(is.na(x))/length(x)*100}\n",
    "apply(pt3,2,pMiss)"
   ]
  },
  {
   "cell_type": "markdown",
   "metadata": {},
   "source": [
    "Some variables have a very high rate of missing values. Let's remove those with more than 90% NA: FrOd2, SeProt2 and IUCN."
   ]
  },
  {
   "cell_type": "markdown",
   "metadata": {},
   "source": [
    "Now, do we have species with a high rate of missing values?"
   ]
  },
  {
   "cell_type": "code",
   "execution_count": 35,
   "metadata": {
    "collapsed": false
   },
   "outputs": [
    {
     "data": {
      "text/html": [
       "<table>\n",
       "<thead><tr><th></th><th scope=col>Gen</th><th scope=col>Fam</th><th scope=col>Clade2</th><th scope=col>Lform3</th><th scope=col>FrType2</th><th scope=col>FrClass2</th><th scope=col>Dcol2</th><th scope=col>FrHusk2</th><th scope=col>Pulp2</th><th scope=col>log_FrLe</th><th scope=col>...</th><th scope=col>Veg_Forest</th><th scope=col>Veg_Bush</th><th scope=col>Veg_Shrub</th><th scope=col>Veg_Grass</th><th scope=col>Veg_Mang</th><th scope=col>Veg_Anthr</th><th scope=col>IUCN</th><th scope=col>FrOd2</th><th scope=col>SeProt2</th><th scope=col>percentNA</th></tr></thead>\n",
       "<tbody>\n",
       "\t<tr><th scope=row>Venana_cauliflora</th><td>Venana       </td><td>Celastraceae </td><td>rosids       </td><td>NA           </td><td>NA           </td><td>NA           </td><td>NA           </td><td>NA           </td><td>NA           </td><td>      NA     </td><td>...          </td><td>NA           </td><td>NA           </td><td>NA           </td><td>NA           </td><td>NA           </td><td>NA           </td><td>NA           </td><td>NA           </td><td>NA           </td><td>100          </td></tr>\n",
       "\t<tr><th scope=row>Euphorbia_ambatomenahensis</th><td>Euphorbia    </td><td>Euphorbiaceae</td><td>rosids       </td><td>NA           </td><td>NA           </td><td>NA           </td><td>NA           </td><td>NA           </td><td>NA           </td><td>      NA     </td><td>...          </td><td>NA           </td><td>NA           </td><td>NA           </td><td>NA           </td><td>NA           </td><td>NA           </td><td>NA           </td><td>NA           </td><td>NA           </td><td>100          </td></tr>\n",
       "\t<tr><th scope=row>Euphorbia_beuginii</th><td>Euphorbia    </td><td>Euphorbiaceae</td><td>rosids       </td><td>NA           </td><td>NA           </td><td>NA           </td><td>NA           </td><td>NA           </td><td>NA           </td><td>      NA     </td><td>...          </td><td>NA           </td><td>NA           </td><td>NA           </td><td>NA           </td><td>NA           </td><td>NA           </td><td>NA           </td><td>NA           </td><td>NA           </td><td>100          </td></tr>\n",
       "\t<tr><th scope=row>Euphorbia_nicaisei</th><td>Euphorbia    </td><td>Euphorbiaceae</td><td>rosids       </td><td>NA           </td><td>NA           </td><td>NA           </td><td>NA           </td><td>NA           </td><td>NA           </td><td>      NA     </td><td>...          </td><td>NA           </td><td>NA           </td><td>NA           </td><td>NA           </td><td>NA           </td><td>NA           </td><td>NA           </td><td>NA           </td><td>NA           </td><td>100          </td></tr>\n",
       "\t<tr><th scope=row>Macaranga_madagascariensis</th><td>Macaranga    </td><td>Euphorbiaceae</td><td>rosids       </td><td>NA           </td><td>capsule      </td><td>NA           </td><td>NA           </td><td>NA           </td><td>NA           </td><td>      NA     </td><td>...          </td><td>NA           </td><td>NA           </td><td>NA           </td><td>NA           </td><td>NA           </td><td>NA           </td><td>NA           </td><td>NA           </td><td>NA           </td><td> 95          </td></tr>\n",
       "\t<tr><th scope=row>Korthalsella_taenioides</th><td>Korthalsella </td><td>Santalaceae  </td><td>eudicots     </td><td>LI           </td><td>NA           </td><td>NA           </td><td>NA           </td><td>NA           </td><td>NA           </td><td>2.079442     </td><td>...          </td><td>NA           </td><td>NA           </td><td>NA           </td><td>NA           </td><td>NA           </td><td>NA           </td><td>NA           </td><td>NA           </td><td>NA           </td><td> 90          </td></tr>\n",
       "</tbody>\n",
       "</table>\n"
      ],
      "text/latex": [
       "\\begin{tabular}{r|llllllllllllllllllllllllllllll}\n",
       "  & Gen & Fam & Clade2 & Lform3 & FrType2 & FrClass2 & Dcol2 & FrHusk2 & Pulp2 & log\\_FrLe & ... & Veg\\_Forest & Veg\\_Bush & Veg\\_Shrub & Veg\\_Grass & Veg\\_Mang & Veg\\_Anthr & IUCN & FrOd2 & SeProt2 & percentNA\\\\\n",
       "\\hline\n",
       "\tVenana\\_cauliflora & Venana        & Celastraceae  & rosids        & NA            & NA            & NA            & NA            & NA            & NA            &       NA      & ...           & NA            & NA            & NA            & NA            & NA            & NA            & NA            & NA            & NA            & 100          \\\\\n",
       "\tEuphorbia\\_ambatomenahensis & Euphorbia     & Euphorbiaceae & rosids        & NA            & NA            & NA            & NA            & NA            & NA            &       NA      & ...           & NA            & NA            & NA            & NA            & NA            & NA            & NA            & NA            & NA            & 100          \\\\\n",
       "\tEuphorbia\\_beuginii & Euphorbia     & Euphorbiaceae & rosids        & NA            & NA            & NA            & NA            & NA            & NA            &       NA      & ...           & NA            & NA            & NA            & NA            & NA            & NA            & NA            & NA            & NA            & 100          \\\\\n",
       "\tEuphorbia\\_nicaisei & Euphorbia     & Euphorbiaceae & rosids        & NA            & NA            & NA            & NA            & NA            & NA            &       NA      & ...           & NA            & NA            & NA            & NA            & NA            & NA            & NA            & NA            & NA            & 100          \\\\\n",
       "\tMacaranga\\_madagascariensis & Macaranga     & Euphorbiaceae & rosids        & NA            & capsule       & NA            & NA            & NA            & NA            &       NA      & ...           & NA            & NA            & NA            & NA            & NA            & NA            & NA            & NA            & NA            &  95          \\\\\n",
       "\tKorthalsella\\_taenioides & Korthalsella  & Santalaceae   & eudicots      & LI            & NA            & NA            & NA            & NA            & NA            & 2.079442      & ...           & NA            & NA            & NA            & NA            & NA            & NA            & NA            & NA            & NA            &  90          \\\\\n",
       "\\end{tabular}\n"
      ],
      "text/markdown": [
       "\n",
       "| <!--/--> | Gen | Fam | Clade2 | Lform3 | FrType2 | FrClass2 | Dcol2 | FrHusk2 | Pulp2 | log_FrLe | ... | Veg_Forest | Veg_Bush | Veg_Shrub | Veg_Grass | Veg_Mang | Veg_Anthr | IUCN | FrOd2 | SeProt2 | percentNA | \n",
       "|---|---|---|---|---|---|\n",
       "| Venana_cauliflora | Venana        | Celastraceae  | rosids        | NA            | NA            | NA            | NA            | NA            | NA            |       NA      | ...           | NA            | NA            | NA            | NA            | NA            | NA            | NA            | NA            | NA            | 100           | \n",
       "| Euphorbia_ambatomenahensis | Euphorbia     | Euphorbiaceae | rosids        | NA            | NA            | NA            | NA            | NA            | NA            |       NA      | ...           | NA            | NA            | NA            | NA            | NA            | NA            | NA            | NA            | NA            | 100           | \n",
       "| Euphorbia_beuginii | Euphorbia     | Euphorbiaceae | rosids        | NA            | NA            | NA            | NA            | NA            | NA            |       NA      | ...           | NA            | NA            | NA            | NA            | NA            | NA            | NA            | NA            | NA            | 100           | \n",
       "| Euphorbia_nicaisei | Euphorbia     | Euphorbiaceae | rosids        | NA            | NA            | NA            | NA            | NA            | NA            |       NA      | ...           | NA            | NA            | NA            | NA            | NA            | NA            | NA            | NA            | NA            | 100           | \n",
       "| Macaranga_madagascariensis | Macaranga     | Euphorbiaceae | rosids        | NA            | capsule       | NA            | NA            | NA            | NA            |       NA      | ...           | NA            | NA            | NA            | NA            | NA            | NA            | NA            | NA            | NA            |  95           | \n",
       "| Korthalsella_taenioides | Korthalsella  | Santalaceae   | eudicots      | LI            | NA            | NA            | NA            | NA            | NA            | 2.079442      | ...           | NA            | NA            | NA            | NA            | NA            | NA            | NA            | NA            | NA            |  90           | \n",
       "\n",
       "\n"
      ],
      "text/plain": [
       "                           Gen          Fam           Clade2   Lform3 FrType2\n",
       "Venana_cauliflora          Venana       Celastraceae  rosids   NA     NA     \n",
       "Euphorbia_ambatomenahensis Euphorbia    Euphorbiaceae rosids   NA     NA     \n",
       "Euphorbia_beuginii         Euphorbia    Euphorbiaceae rosids   NA     NA     \n",
       "Euphorbia_nicaisei         Euphorbia    Euphorbiaceae rosids   NA     NA     \n",
       "Macaranga_madagascariensis Macaranga    Euphorbiaceae rosids   NA     capsule\n",
       "Korthalsella_taenioides    Korthalsella Santalaceae   eudicots LI     NA     \n",
       "                           FrClass2 Dcol2 FrHusk2 Pulp2 log_FrLe ... Veg_Forest\n",
       "Venana_cauliflora          NA       NA    NA      NA          NA ... NA        \n",
       "Euphorbia_ambatomenahensis NA       NA    NA      NA          NA ... NA        \n",
       "Euphorbia_beuginii         NA       NA    NA      NA          NA ... NA        \n",
       "Euphorbia_nicaisei         NA       NA    NA      NA          NA ... NA        \n",
       "Macaranga_madagascariensis NA       NA    NA      NA          NA ... NA        \n",
       "Korthalsella_taenioides    NA       NA    NA      NA    2.079442 ... NA        \n",
       "                           Veg_Bush Veg_Shrub Veg_Grass Veg_Mang Veg_Anthr IUCN\n",
       "Venana_cauliflora          NA       NA        NA        NA       NA        NA  \n",
       "Euphorbia_ambatomenahensis NA       NA        NA        NA       NA        NA  \n",
       "Euphorbia_beuginii         NA       NA        NA        NA       NA        NA  \n",
       "Euphorbia_nicaisei         NA       NA        NA        NA       NA        NA  \n",
       "Macaranga_madagascariensis NA       NA        NA        NA       NA        NA  \n",
       "Korthalsella_taenioides    NA       NA        NA        NA       NA        NA  \n",
       "                           FrOd2 SeProt2 percentNA\n",
       "Venana_cauliflora          NA    NA      100      \n",
       "Euphorbia_ambatomenahensis NA    NA      100      \n",
       "Euphorbia_beuginii         NA    NA      100      \n",
       "Euphorbia_nicaisei         NA    NA      100      \n",
       "Macaranga_madagascariensis NA    NA       95      \n",
       "Korthalsella_taenioides    NA    NA       90      "
      ]
     },
     "metadata": {},
     "output_type": "display_data"
    }
   ],
   "source": [
    "# check % NA in observations\n",
    "pMiss <- function(x){sum(is.na(x))/length(x)*100}\n",
    "\n",
    "pty <-subset(pt3,select=-c(Gen, Fam, Clade2, log_FrLe, log_SeLe, Rarity3, FrOd2, SeProt2, IUCN))\n",
    "pt3$percentNA<-apply(pty,1,pMiss)\n",
    "pt3 <- pt3[order(-pt3$percentNA),]\n",
    "head(pt3)"
   ]
  },
  {
   "cell_type": "markdown",
   "metadata": {},
   "source": [
    "There are 4 species without any data (100% NA). Let's remove them."
   ]
  },
  {
   "cell_type": "code",
   "execution_count": 36,
   "metadata": {
    "collapsed": true
   },
   "outputs": [],
   "source": [
    "## Remove species with 100% NA (i.e. no data)\n",
    "pt4 <-pt3[ ! pt3$percentNA== 100, ]"
   ]
  },
  {
   "cell_type": "code",
   "execution_count": 37,
   "metadata": {
    "collapsed": false
   },
   "outputs": [
    {
     "data": {
      "text/html": [
       "4"
      ],
      "text/latex": [
       "4"
      ],
      "text/markdown": [
       "4"
      ],
      "text/plain": [
       "[1] 4"
      ]
     },
     "metadata": {},
     "output_type": "display_data"
    }
   ],
   "source": [
    "## Number of species removed\n",
    "nrow(pt3)-nrow(pt4)"
   ]
  },
  {
   "cell_type": "code",
   "execution_count": 38,
   "metadata": {
    "collapsed": false
   },
   "outputs": [
    {
     "data": {
      "text/html": [
       "8784"
      ],
      "text/latex": [
       "8784"
      ],
      "text/markdown": [
       "8784"
      ],
      "text/plain": [
       "[1] 8784"
      ]
     },
     "metadata": {},
     "output_type": "display_data"
    }
   ],
   "source": [
    "## New number of species\n",
    "nrow(pt4)"
   ]
  },
  {
   "cell_type": "markdown",
   "metadata": {},
   "source": [
    "Now, let's check again the percentage of missing data in the dataset."
   ]
  },
  {
   "cell_type": "code",
   "execution_count": 42,
   "metadata": {
    "collapsed": false
   },
   "outputs": [
    {
     "data": {
      "text/html": [
       "27.1212811171828"
      ],
      "text/latex": [
       "27.1212811171828"
      ],
      "text/markdown": [
       "27.1212811171828"
      ],
      "text/plain": [
       "[1] 27.12128"
      ]
     },
     "metadata": {},
     "output_type": "display_data"
    }
   ],
   "source": [
    "## Total % NA in dataset (after having removed some unnecessary variables)\n",
    "ptz <-subset(pt4,select=-c(Gen, Fam, Clade2, log_FrLe, log_SeLe, Rarity3, FrOd2, SeProt2, IUCN))\n",
    "percNA2 <- sum(is.na(ptz))/(nrow(ptz)*ncol(ptz))*100\n",
    "percNA2"
   ]
  },
  {
   "cell_type": "code",
   "execution_count": 39,
   "metadata": {
    "collapsed": false
   },
   "outputs": [
    {
     "data": {
      "text/html": [
       "281"
      ],
      "text/latex": [
       "281"
      ],
      "text/markdown": [
       "281"
      ],
      "text/plain": [
       "[1] 281"
      ]
     },
     "metadata": {},
     "output_type": "display_data"
    }
   ],
   "source": [
    "## Number of species with all the data available (0 NA)\n",
    "pt_all <-pt4[pt4$percentNA== 0, ]\n",
    "nrow(pt_all)"
   ]
  },
  {
   "cell_type": "markdown",
   "metadata": {},
   "source": [
    "Due to the random scattering of missing values across the dataset, a complete case analysis, in which all observations with one or more missing values are omitted, would cover only 281 species (i.e. just 3% of the original 8784 species). This would lead to non-negligible loss of power with misleading results and biased estimates of parameters. \n",
    "\n",
    "We have to perform __multiple imputations__ of missing values."
   ]
  },
  {
   "cell_type": "markdown",
   "metadata": {},
   "source": [
    "<br>\n",
    "## Imputation of missing data\n",
    "\n",
    "We will perform __multivariate imputations by chained equations (MICE)__."
   ]
  },
  {
   "cell_type": "code",
   "execution_count": 45,
   "metadata": {
    "collapsed": false
   },
   "outputs": [],
   "source": [
    "library(mice);\n",
    "pt5 <-read.csv(\"planttrait2.csv\", header=T, sep=\";\",row.names=1) "
   ]
  },
  {
   "cell_type": "code",
   "execution_count": 46,
   "metadata": {
    "collapsed": false
   },
   "outputs": [
    {
     "name": "stdout",
     "output_type": "stream",
     "text": [
      "'data.frame':\t8784 obs. of  29 variables:\n",
      " $ Gen          : Factor w/ 1049 levels \"Abrahamia\",\"Abrus\",..: 6 7 7 7 39 61 61 61 61 61 ...\n",
      " $ Fam          : Factor w/ 165 levels \"Acanthaceae\",..: 1 1 1 1 1 1 1 1 1 1 ...\n",
      " $ Clade2       : Factor w/ 6 levels \"asterids\",\"basal angiosperms\",..: 1 1 1 1 1 1 1 1 1 1 ...\n",
      " $ Lform3       : Factor w/ 4 levels \"HE\",\"LI\",\"SH\",..: NA 3 3 3 3 3 3 3 3 3 ...\n",
      " $ FrType2      : Factor w/ 17 levels \"achene\",\"berry\",..: 4 4 4 4 4 4 4 4 4 4 ...\n",
      " $ FrClass2     : Factor w/ 3 levels \"DD\",\"DI\",\"F\": 1 1 1 1 1 1 1 1 1 1 ...\n",
      " $ Dcol2        : Factor w/ 11 levels \"black\",\"blue\",..: NA NA NA NA NA NA NA NA NA NA ...\n",
      " $ FrHusk2      : Factor w/ 3 levels \"no\",\"thick\",\"thin\": 1 1 1 1 1 1 1 1 1 1 ...\n",
      " $ Pulp2        : Factor w/ 4 levels \"aril\",\"fleshy\",..: 3 3 3 3 3 3 3 3 3 3 ...\n",
      " $ log_FrLe     : num  NA NA NA NA NA ...\n",
      " $ log_FrWi     : num  NA NA NA NA NA NA NA NA NA NA ...\n",
      " $ SeFr         : num  NA NA NA NA NA NA NA NA NA NA ...\n",
      " $ log_SeLe     : num  NA NA NA NA NA NA NA NA NA NA ...\n",
      " $ log_SeWi     : num  NA NA NA NA NA NA NA NA NA NA ...\n",
      " $ Rarity3      : Ord.factor w/ 4 levels \"0\"<\"1\"<\"2\"<\"3\": 1 2 3 2 2 1 1 1 1 1 ...\n",
      " $ Clim_Humid   : Factor w/ 2 levels \"no\",\"yes\": 2 1 1 1 1 NA NA NA NA NA ...\n",
      " $ Clim_Subhumid: Factor w/ 2 levels \"no\",\"yes\": 2 1 1 1 2 NA NA NA NA NA ...\n",
      " $ Clim_Subarid : Factor w/ 2 levels \"no\",\"yes\": 1 2 2 2 1 NA NA NA NA NA ...\n",
      " $ Clim_Dry     : Factor w/ 2 levels \"no\",\"yes\": 1 1 1 1 2 NA NA NA NA NA ...\n",
      " $ Clim_Montane : Factor w/ 2 levels \"no\",\"yes\": 1 1 1 1 1 NA NA NA NA NA ...\n",
      " $ Veg_Forest   : Factor w/ 2 levels \"no\",\"yes\": NA 1 1 1 2 NA NA NA NA NA ...\n",
      " $ Veg_Bush     : Factor w/ 2 levels \"no\",\"yes\": NA 2 2 2 1 NA NA NA NA NA ...\n",
      " $ Veg_Shrub    : Factor w/ 2 levels \"no\",\"yes\": NA 1 1 1 1 NA NA NA NA NA ...\n",
      " $ Veg_Grass    : Factor w/ 2 levels \"no\",\"yes\": NA 1 1 1 1 NA NA NA NA NA ...\n",
      " $ Veg_Mang     : Factor w/ 2 levels \"no\",\"yes\": NA 1 1 1 1 NA NA NA NA NA ...\n",
      " $ Veg_Anthr    : Factor w/ 2 levels \"no\",\"yes\": NA 1 1 1 1 NA NA NA NA NA ...\n",
      " $ IUCN         : Factor w/ 8 levels \"CR\",\"DD\",\"EN\",..: NA NA NA NA NA NA NA NA NA NA ...\n",
      " $ FrOd2        : Factor w/ 2 levels \"absent\",\"present\": NA NA NA NA NA NA NA NA NA NA ...\n",
      " $ SeProt2      : Factor w/ 2 levels \"absent\",\"present\": NA NA NA NA NA NA NA NA NA NA ...\n"
     ]
    }
   ],
   "source": [
    "## Give proper class to variables\n",
    "pt5$Rarity3<-factor(pt5$Rarity3, order = TRUE, levels = c(\"0\", \"1\", \"2\", \"3\"))\n",
    "pt5$log_FrLe<-as.numeric(pt5$log_FrLe)\n",
    "pt5$log_FrWi<-as.numeric(pt5$log_FrWi)\n",
    "pt5$log_SeWi<-as.numeric(pt5$log_SeWi)\n",
    "pt5$log_SeLe<-as.numeric(pt5$log_SeLe)\n",
    "pt5$SeFr<-as.numeric(pt5$SeFr)\n",
    "\n",
    "str(pt5)"
   ]
  },
  {
   "cell_type": "markdown",
   "metadata": {},
   "source": [
    "Legend:Gen=genus; Fam=family; Lform3=life form (HE=herb,LI=liana,SH=shrub,Tree); FrType=fruit type; FrClass2=fruit class (DD=dry dehiscent, DI=dry indehiscent, F=fleshy); Dcol2=diaspore colour; FrHusk2=fruit husk; FrLe=fruit length; FrWi=fruit width; SeFr=number of seeds per fruit; SeLe=seed length; SeWi=seed width; "
   ]
  },
  {
   "cell_type": "markdown",
   "metadata": {},
   "source": [
    "<br>\n",
    "We will use \n",
    "* the predictive mean matching for continuous data to preserve non-linear relationships, \n",
    "* the logistic regression for binary variables, \n",
    "* the multinomial logistic regression for categorical variables with more than two factors, and \n",
    "* the proportional odds model for ordered categorical data. \n",
    "\n",
    "NB: for categorical data, 'cart' seems to be better than 'polyreg' and 'polr'(cf. Akande 2015); however, we have some predictors with many levels (family, genus), so it is impossible to use a method based on trees."
   ]
  },
  {
   "cell_type": "code",
   "execution_count": 47,
   "metadata": {
    "collapsed": true
   },
   "outputs": [],
   "source": [
    "## Prepare predictor matrix\n",
    "new.pred<-quickpred(pt5) \n",
    "\n",
    "ini <- mice(pt5, maxit=0, pri=F)\t# create the mids object called ini containing the default settings\t\n",
    "meth <- ini$meth\n",
    "meth[c(\"Gen\",\"Fam\",\"Clade2\",\"FrClass2\",\"log_FrLe\",\"log_SeLe\", \"Veg_Mang\",\"FrOd2\", \"SeProt2\", \"IUCN\")] <- \"\"\t# Skip a variable from imputation while this variable will still be used for prediction; Veg_Mang is too unbalanced (proba to have 'no' ~1)\n",
    "meth[c(\"Clim_Humid\",\"Clim_Subhumid\",\"Clim_Subarid\",\"Clim_Dry\",\"Clim_Montane\",\"Veg_Forest\",\"Veg_Bush\",\"Veg_Shrub\",\"Veg_Grass\",\"Veg_Anthr\")] <- \"logreg\"\n",
    "meth[c(\"Lform3\",\"FrType2\",\"Dcol2\",\"FrHusk2\",\"Pulp2\")] <- \"polyreg\"\n",
    "meth[c(\"log_FrWi\",\"SeFr\", \"log_SeWi\")] <- \"pmm\"\n",
    "meth[\"Rarity3\"] <- \"polr\""
   ]
  },
  {
   "cell_type": "code",
   "execution_count": null,
   "metadata": {
    "collapsed": true
   },
   "outputs": [],
   "source": [
    "## Impute missing data\n",
    "imputed_Data <- mice(pt5, MaxNWts = 20000, m=20, pred=new.pred, meth=meth, maxit = 10, seed=123)\n",
    "summary(imputed_Data)"
   ]
  },
  {
   "cell_type": "markdown",
   "metadata": {},
   "source": [
    "NB: the code is very long to run (5 days) so the output has been copied-pasted from a previous run in the following cell."
   ]
  },
  {
   "cell_type": "code",
   "execution_count": null,
   "metadata": {
    "collapsed": true
   },
   "outputs": [],
   "source": [
    "Multiply imputed data set\n",
    "Call:\n",
    "mice(data = pt5, m = 20, method = meth, predictorMatrix = new.pred, \n",
    "    maxit = 10, seed = 123, MaxNWts = 20000)\n",
    "Number of multiple imputations:  20\n",
    "Missing cells per column:\n",
    "          Gen           Fam        Clade2        Lform3       FrType2      FrClass2         Dcol2       FrHusk2         Pulp2      log_FrLe      log_FrWi \n",
    "            0             0             0           216           149           295          7102          3755           535          4360          5470 \n",
    "         SeFr      log_SeLe      log_SeWi       Rarity3    Clim_Humid Clim_Subhumid  Clim_Subarid      Clim_Dry  Clim_Montane    Veg_Forest      Veg_Bush \n",
    "         5158          5427          6743             2          1516          1516          1516          1516          1516          2171          2171 \n",
    "    Veg_Shrub     Veg_Grass      Veg_Mang     Veg_Anthr          IUCN         FrOd2       SeProt2 \n",
    "         2171          2171          2171          2171          7953          8724          7988 \n",
    "Imputation methods:\n",
    "          Gen           Fam        Clade2        Lform3       FrType2      FrClass2         Dcol2       FrHusk2         Pulp2      log_FrLe      log_FrWi \n",
    "           \"\"            \"\"            \"\"     \"polyreg\"     \"polyreg\"            \"\"     \"polyreg\"     \"polyreg\"     \"polyreg\"            \"\"         \"pmm\" \n",
    "         SeFr      log_SeLe      log_SeWi       Rarity3    Clim_Humid Clim_Subhumid  Clim_Subarid      Clim_Dry  Clim_Montane    Veg_Forest      Veg_Bush \n",
    "        \"pmm\"            \"\"         \"pmm\"        \"polr\"      \"logreg\"      \"logreg\"      \"logreg\"      \"logreg\"      \"logreg\"      \"logreg\"      \"logreg\" \n",
    "    Veg_Shrub     Veg_Grass      Veg_Mang     Veg_Anthr          IUCN         FrOd2       SeProt2 \n",
    "     \"logreg\"      \"logreg\"            \"\"      \"logreg\"            \"\"            \"\"            \"\" \n",
    "VisitSequence:\n",
    "       Lform3       FrType2         Dcol2       FrHusk2         Pulp2      log_FrWi          SeFr      log_SeWi       Rarity3    Clim_Humid Clim_Subhumid \n",
    "            4             5             7             8             9            11            12            14            15            16            17 \n",
    " Clim_Subarid      Clim_Dry  Clim_Montane    Veg_Forest      Veg_Bush     Veg_Shrub     Veg_Grass      Veg_Mang     Veg_Anthr \n",
    "           18            19            20            21            22            23            24            25            26 \n",
    "PredictorMatrix:\n",
    "              Gen Fam Clade2 Lform3 FrType2 FrClass2 Dcol2 FrHusk2 Pulp2 log_FrLe log_FrWi SeFr log_SeLe log_SeWi Rarity3 Clim_Humid Clim_Subhumid Clim_Subarid\n",
    "Gen             0   0      0      0       0        0     0       0     0        0        0    0        0        0       0          0             0            0\n",
    "Fam             0   0      0      0       0        0     0       0     0        0        0    0        0        0       0          0             0            0\n",
    "Clade2          0   0      0      0       0        0     0       0     0        0        0    0        0        0       0          0             0            0\n",
    "Lform3          1   0      0      0       1        0     0       1     1        0        1    0        0        1       0          1             1            0\n",
    "FrType2         0   0      0      1       0        0     1       0     0        0        1    1        0        0       0          0             1            1\n",
    "FrClass2        1   1      1      1       0        0     1       1     1        0        1    1        0        1       0          1             1            0\n",
    "Dcol2           1   0      1      1       1        0     0       1     1        0        1    0        0        1       0          1             0            1\n",
    "FrHusk2         1   1      1      1       0        0     1       0     1        0        1    1        0        1       1          1             0            0\n",
    "Pulp2           1   1      1      1       1        0     1       1     0        0        1    0        0        1       0          1             1            0\n",
    "log_FrLe        1   0      0      1       1        0     1       1     1        0        0    0        0        1       1          0             0            0\n",
    "log_FrWi        0   0      1      1       1        0     0       1     1        0        0    0        0        1       1          0             1            0\n",
    "SeFr            1   0      1      1       1        0     0       1     1        0        1    0        0        1       0          0             0            1\n",
    "log_SeLe        1   1      1      1       1        0     1       1     1        0        1    1        0        1       1          1             1            1\n",
    "log_SeWi        0   0      1      1       1        0     0       1     1        0        1    1        0        0       0          1             1            0\n",
    "Rarity3         0   0      0      0       0        0     0       1     0        0        0    0        0        0       0          0             1            1\n",
    "Clim_Humid      0   0      0      1       0        0     1       1     1        0        0    0        0        1       1          0             1            1\n",
    "Clim_Subhumid   0   0      0      1       1        0     0       0     1        0        1    0        0        1       1          1             0            1\n",
    "Clim_Subarid    0   0      0      0       1        0     1       0     0        0        0    1        0        0       1          1             1            0\n",
    "Clim_Dry        0   0      0      0       1        0     0       0     0        0        1    0        0        0       1          1             1            0\n",
    "Clim_Montane    0   0      0      1       1        0     0       0     1        0        1    0        0        1       1          1             1            1\n",
    "Veg_Forest      0   1      0      1       1        0     1       1     1        0        1    0        0        1       1          1             0            1\n",
    "Veg_Bush        0   0      0      0       0        0     1       0     0        0        0    0        0        0       1          1             1            1\n",
    "Veg_Shrub       0   0      0      0       0        0     0       0     1        0        1    0        0        1       1          0             1            0\n",
    "Veg_Grass       0   0      0      1       0        0     0       0     1        0        0    0        0        1       1          1             1            0\n",
    "Veg_Mang        0   0      0      0       0        0     0       0     0        0        0    0        0        0       1          0             0            0\n",
    "Veg_Anthr       0   0      0      0       0        0     0       0     0        0        0    0        0        0       1          0             0            0\n",
    "IUCN            0   0      1      0       1        0     0       0     0        0        0    0        0        1       1          0             0            1\n",
    "FrOd2           1   0      1      1       0        0     0       1     0        0        1    0        0        1       0          1             1            1\n",
    "SeProt2         0   1      1      1       1        0     1       1     1        0        1    0        0        1       0          1             0            0\n",
    "              Clim_Dry Clim_Montane Veg_Forest Veg_Bush Veg_Shrub Veg_Grass Veg_Mang Veg_Anthr IUCN FrOd2 SeProt2\n",
    "Gen                  0            0          0        0         0         0        0         0    0     0       0\n",
    "Fam                  0            0          0        0         0         0        0         0    0     0       0\n",
    "Clade2               0            0          0        0         0         0        0         0    0     0       0\n",
    "Lform3               0            1          1        0         0         1        0         0    0     0       0\n",
    "FrType2              1            1          1        0         0         0        0         0    0     0       0\n",
    "FrClass2             0            0          1        0         0         0        0         0    0     0       0\n",
    "Dcol2                0            0          1        1         0         0        0         0    0     0       0\n",
    "FrHusk2              0            0          1        0         0         0        0         0    0     0       0\n",
    "Pulp2                0            1          1        0         1         1        0         0    0     0       0\n",
    "log_FrLe             0            0          1        0         0         0        0         0    0     0       0\n",
    "log_FrWi             1            1          1        0         1         0        0         0    0     0       0\n",
    "SeFr                 0            0          0        0         0         0        0         0    0     0       0\n",
    "log_SeLe             1            1          1        0         1         0        0         0    0     0       0\n",
    "log_SeWi             1            1          1        0         1         1        0         0    0     0       0\n",
    "Rarity3              0            0          0        1         0         0        0         0    0     0       0\n",
    "Clim_Humid           1            1          1        1         0         1        0         0    0     0       0\n",
    "Clim_Subhumid        1            1          0        1         1         1        0         0    0     0       0\n",
    "Clim_Subarid         0            1          1        1         0         0        0         0    0     0       0\n",
    "Clim_Dry             0            1          0        0         0         0        0         0    0     0       0\n",
    "Clim_Montane         1            0          1        0         1         1        0         0    0     0       0\n",
    "Veg_Forest           0            1          0        1         1         1        0         0    0     0       0\n",
    "Veg_Bush             0            0          1        0         0         0        0         0    0     0       0\n",
    "Veg_Shrub            0            1          1        0         0         0        0         0    0     0       0\n",
    "Veg_Grass            0            1          1        0         0         0        0         1    0     0       0\n",
    "Veg_Mang             0            0          0        0         0         0        0         0    0     0       0\n",
    "Veg_Anthr            0            0          0        0         0         1        0         0    0     0       0\n",
    "IUCN                 0            0          0        1         0         0        0         0    0     0       0\n",
    "FrOd2                1            1          1        1         0         1        0         0    0     0       0\n",
    "SeProt2              0            0          1        0         0         0        0         0    0     0       0\n",
    "Random generator seed value:  123 "
   ]
  },
  {
   "cell_type": "code",
   "execution_count": null,
   "metadata": {
    "collapsed": true
   },
   "outputs": [],
   "source": [
    "## Save imputed dataset\n",
    "Datimp <- complete(imputed_Data, \"long\", include=TRUE)\n",
    "write.table(Datimp, file=\"PT-data-mice2.csv\", sep=\",\",row.names=FALSE)"
   ]
  }
 ],
 "metadata": {
  "kernelspec": {
   "display_name": "R 3.3",
   "language": "R",
   "name": "ir33"
  },
  "language_info": {
   "codemirror_mode": "r",
   "file_extension": ".r",
   "mimetype": "text/x-r-source",
   "name": "R",
   "pygments_lexer": "r",
   "version": "3.3.1"
  }
 },
 "nbformat": 4,
 "nbformat_minor": 2
}
