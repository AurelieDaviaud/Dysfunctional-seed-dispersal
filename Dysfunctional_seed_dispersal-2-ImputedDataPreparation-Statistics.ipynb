{
 "cells": [
  {
   "cell_type": "markdown",
   "metadata": {},
   "source": [
    "# Dysfunctional seed dispersal in the endemic flora of Madagascar\n",
    "\n",
    "* Language: R\n",
    "* Methods: linear regression, multivariate imputation by chained equations (MICE), spatial analyses\n",
    "* Associated publication: (in prep)"
   ]
  },
  {
   "cell_type": "markdown",
   "metadata": {},
   "source": [
    "<br>\n",
    "To highlight a potential dysfunctional seed dispersal in a plant species, we need a new variable: the __number of potential seed dispersers__ for each plant species. In other words, we have to count the number of dispersers that are able to ingest a species' seeds, given the seed size.\n",
    "\n",
    "To have this variable, we will compare the __seed size of each plant species__ to the __size of the largest seed able to be ingested by each disperser__.\n",
    "\n",
    "Now we have imputed our plant dataset, we have the seed size of every plant species but we still need to know the size of the largest seed able to be ingested by each disperser.\n",
    "Actually, we have this data (from fieldwork observations) for most dispersers but not for all: we lack the data for some lemur species. How can we do then?\n",
    "\n",
    "Let's see whether we can __predict__ the missing values from other data.\n",
    "\n",
    "From the litterature, we have learnt that the maximum ingestible food size in lemurs is linked to their body mass. Let's check that with our data. We can fit a linear model with the width of the largest seed ingested by each frugivore (Vb) as a dependent variable and the body mass as an independent variable. "
   ]
  },
  {
   "cell_type": "markdown",
   "metadata": {},
   "source": [
    "## Predict the size of the largest seed able to be ingested by each disperser\n",
    "#### Function adapted from Federman et al (2016) PNAS, 113(18): 5041–5046"
   ]
  },
  {
   "cell_type": "code",
   "execution_count": 2,
   "metadata": {
    "collapsed": false
   },
   "outputs": [
    {
     "data": {
      "text/html": [
       "<table>\n",
       "<thead><tr><th scope=col>Species</th><th scope=col>Body_mass_kg</th><th scope=col>Vb_diam_cm</th></tr></thead>\n",
       "<tbody>\n",
       "\t<tr><td>Cheirogaleus_medius</td><td>0.275              </td><td>1.000              </td></tr>\n",
       "\t<tr><td>Eulemur_collaris   </td><td>2.310              </td><td>2.455              </td></tr>\n",
       "\t<tr><td>Eulemur_macaco     </td><td>2.283              </td><td>2.455              </td></tr>\n",
       "\t<tr><td>Eulemur_mongoz     </td><td>1.599              </td><td>1.300              </td></tr>\n",
       "\t<tr><td>Eulemur_rubriventer</td><td>2.232              </td><td>1.560              </td></tr>\n",
       "\t<tr><td>Lemur_catta        </td><td>2.431              </td><td>1.100              </td></tr>\n",
       "</tbody>\n",
       "</table>\n"
      ],
      "text/latex": [
       "\\begin{tabular}{r|lll}\n",
       " Species & Body\\_mass\\_kg & Vb\\_diam\\_cm\\\\\n",
       "\\hline\n",
       "\t Cheirogaleus\\_medius & 0.275                 & 1.000                \\\\\n",
       "\t Eulemur\\_collaris    & 2.310                 & 2.455                \\\\\n",
       "\t Eulemur\\_macaco      & 2.283                 & 2.455                \\\\\n",
       "\t Eulemur\\_mongoz      & 1.599                 & 1.300                \\\\\n",
       "\t Eulemur\\_rubriventer & 2.232                 & 1.560                \\\\\n",
       "\t Lemur\\_catta         & 2.431                 & 1.100                \\\\\n",
       "\\end{tabular}\n"
      ],
      "text/markdown": [
       "\n",
       "Species | Body_mass_kg | Vb_diam_cm | \n",
       "|---|---|---|---|---|---|\n",
       "| Cheirogaleus_medius | 0.275               | 1.000               | \n",
       "| Eulemur_collaris    | 2.310               | 2.455               | \n",
       "| Eulemur_macaco      | 2.283               | 2.455               | \n",
       "| Eulemur_mongoz      | 1.599               | 1.300               | \n",
       "| Eulemur_rubriventer | 2.232               | 1.560               | \n",
       "| Lemur_catta         | 2.431               | 1.100               | \n",
       "\n",
       "\n"
      ],
      "text/plain": [
       "  Species             Body_mass_kg Vb_diam_cm\n",
       "1 Cheirogaleus_medius 0.275        1.000     \n",
       "2 Eulemur_collaris    2.310        2.455     \n",
       "3 Eulemur_macaco      2.283        2.455     \n",
       "4 Eulemur_mongoz      1.599        1.300     \n",
       "5 Eulemur_rubriventer 2.232        1.560     \n",
       "6 Lemur_catta         2.431        1.100     "
      ]
     },
     "metadata": {},
     "output_type": "display_data"
    }
   ],
   "source": [
    "## Lemur species that have empirical Vb measurements. We will use these data to predict the Vb of the other species\n",
    "vb<-read.csv(\"empirical_Vb_measurements.csv\", sep=\";\") \n",
    "head(vb)"
   ]
  },
  {
   "cell_type": "code",
   "execution_count": 3,
   "metadata": {
    "collapsed": false
   },
   "outputs": [
    {
     "data": {
      "text/html": [
       "<table>\n",
       "<thead><tr><th scope=col>Species</th><th scope=col>Body_mass_kg</th></tr></thead>\n",
       "<tbody>\n",
       "\t<tr><td>Archaeolemur_majori       </td><td>18.2                      </td></tr>\n",
       "\t<tr><td>Babakotia_ radofilai      </td><td>20.7                      </td></tr>\n",
       "\t<tr><td>Hadropithecus_stenognathus</td><td>35.4                      </td></tr>\n",
       "\t<tr><td>Megaladapis_edwardsi      </td><td>75.4                      </td></tr>\n",
       "\t<tr><td>Mesopropithecus_globiceps </td><td>10.6                      </td></tr>\n",
       "\t<tr><td>Palaeopropithecus_ingens  </td><td>52.6                      </td></tr>\n",
       "</tbody>\n",
       "</table>\n"
      ],
      "text/latex": [
       "\\begin{tabular}{r|ll}\n",
       " Species & Body\\_mass\\_kg\\\\\n",
       "\\hline\n",
       "\t Archaeolemur\\_majori        & 18.2                        \\\\\n",
       "\t Babakotia\\_ radofilai       & 20.7                        \\\\\n",
       "\t Hadropithecus\\_stenognathus & 35.4                        \\\\\n",
       "\t Megaladapis\\_edwardsi       & 75.4                        \\\\\n",
       "\t Mesopropithecus\\_globiceps  & 10.6                        \\\\\n",
       "\t Palaeopropithecus\\_ingens   & 52.6                        \\\\\n",
       "\\end{tabular}\n"
      ],
      "text/markdown": [
       "\n",
       "Species | Body_mass_kg | \n",
       "|---|---|---|---|---|---|\n",
       "| Archaeolemur_majori        | 18.2                       | \n",
       "| Babakotia_ radofilai       | 20.7                       | \n",
       "| Hadropithecus_stenognathus | 35.4                       | \n",
       "| Megaladapis_edwardsi       | 75.4                       | \n",
       "| Mesopropithecus_globiceps  | 10.6                       | \n",
       "| Palaeopropithecus_ingens   | 52.6                       | \n",
       "\n",
       "\n"
      ],
      "text/plain": [
       "  Species                    Body_mass_kg\n",
       "1 Archaeolemur_majori        18.2        \n",
       "2 Babakotia_ radofilai       20.7        \n",
       "3 Hadropithecus_stenognathus 35.4        \n",
       "4 Megaladapis_edwardsi       75.4        \n",
       "5 Mesopropithecus_globiceps  10.6        \n",
       "6 Palaeopropithecus_ingens   52.6        "
      ]
     },
     "metadata": {},
     "output_type": "display_data"
    }
   ],
   "source": [
    "## Lemur species for which we need to predict Vb\n",
    "topredict<-read.csv(\"Body_mass_for_Vb_estimates.csv\", sep=\";\")\n",
    "head(topredict)"
   ]
  },
  {
   "cell_type": "code",
   "execution_count": 4,
   "metadata": {
    "collapsed": false
   },
   "outputs": [
    {
     "data": {
      "text/plain": [
       "\n",
       "Call:\n",
       "lm(formula = vb ~ mass, data = vb)\n",
       "\n",
       "Residuals:\n",
       "     Min       1Q   Median       3Q      Max \n",
       "-0.49696 -0.13786  0.01244  0.21277  0.32329 \n",
       "\n",
       "Coefficients:\n",
       "            Estimate Std. Error t value Pr(>|t|)    \n",
       "(Intercept)  0.34578    0.07719    4.48 0.000932 ***\n",
       "mass         0.27748    0.05377    5.16 0.000313 ***\n",
       "---\n",
       "Signif. codes:  0 '***' 0.001 '**' 0.01 '*' 0.05 '.' 0.1 ' ' 1\n",
       "\n",
       "Residual standard error: 0.2783 on 11 degrees of freedom\n",
       "Multiple R-squared:  0.7077,\tAdjusted R-squared:  0.6811 \n",
       "F-statistic: 26.63 on 1 and 11 DF,  p-value: 0.0003133\n"
      ]
     },
     "metadata": {},
     "output_type": "display_data"
    }
   ],
   "source": [
    "## Log transform data\n",
    "vb$mass<-log(vb[,2])\n",
    "vb$vb<-log(vb[,3])\n",
    "topredict$mass<-log(topredict[,2])\n",
    "\n",
    "## Run a linear regression of lg Vb ~ log body mass to establish the predictive value\n",
    "trait<-lm(vb~mass, data=vb)\n",
    "summary(trait)"
   ]
  },
  {
   "cell_type": "code",
   "execution_count": 5,
   "metadata": {
    "collapsed": false
   },
   "outputs": [
    {
     "data": {
      "text/html": [
       "<dl class=dl-horizontal>\n",
       "\t<dt>(Intercept)</dt>\n",
       "\t\t<dd>0.345782271239907</dd>\n",
       "\t<dt>mass</dt>\n",
       "\t\t<dd>0.277479144653511</dd>\n",
       "</dl>\n"
      ],
      "text/latex": [
       "\\begin{description*}\n",
       "\\item[(Intercept)] 0.345782271239907\n",
       "\\item[mass] 0.277479144653511\n",
       "\\end{description*}\n"
      ],
      "text/markdown": [
       "(Intercept)\n",
       ":   0.345782271239907mass\n",
       ":   0.277479144653511\n",
       "\n"
      ],
      "text/plain": [
       "(Intercept)        mass \n",
       "  0.3457823   0.2774791 "
      ]
     },
     "metadata": {},
     "output_type": "display_data"
    },
    {
     "data": {
      "image/png": "[encoded data removed]",
      "text/plain": [
       "plot without title"
      ]
     },
     "metadata": {},
     "output_type": "display_data"
    }
   ],
   "source": [
    "coefficients(trait)\n",
    "plot(vb~mass, data=vb, pch=16, xlab=\"log(mass)\")\n",
    "abline(trait, col=\"black\")"
   ]
  },
  {
   "cell_type": "markdown",
   "metadata": {},
   "source": [
    "OK, so we've established a strong linear relationship between body mass and Vb. Now, let's predict the Vb of the remaining frugivorous lemurs with their body mass."
   ]
  },
  {
   "cell_type": "code",
   "execution_count": 6,
   "metadata": {
    "collapsed": false
   },
   "outputs": [
    {
     "data": {
      "text/html": [
       "<table>\n",
       "<thead><tr><th></th><th scope=col>Predicted Vb (log)</th><th scope=col>Low-Interval</th><th scope=col>High-Interval</th><th scope=col>Predicted Vb (mm)</th></tr></thead>\n",
       "<tbody>\n",
       "\t<tr><th scope=row>Archaeolemur_majori</th><td>1.150866</td><td>31.60930</td><td>31.60930</td><td>31.60930</td></tr>\n",
       "\t<tr><th scope=row>Babakotia_ radofilai</th><td>1.186581</td><td>32.75862</td><td>32.75862</td><td>32.75862</td></tr>\n",
       "\t<tr><th scope=row>Hadropithecus_stenognathus</th><td>1.335470</td><td>38.01784</td><td>38.01784</td><td>38.01784</td></tr>\n",
       "\t<tr><th scope=row>Megaladapis_edwardsi</th><td>1.545271</td><td>46.89243</td><td>46.89243</td><td>46.89243</td></tr>\n",
       "\t<tr><th scope=row>Mesopropithecus_globiceps</th><td>1.000870</td><td>27.20648</td><td>27.20648</td><td>27.20648</td></tr>\n",
       "\t<tr><th scope=row>Palaeopropithecus_ingens</th><td>1.445353</td><td>42.43351</td><td>42.43351</td><td>42.43351</td></tr>\n",
       "</tbody>\n",
       "</table>\n"
      ],
      "text/latex": [
       "\\begin{tabular}{r|llll}\n",
       "  & Predicted Vb (log) & Low-Interval & High-Interval & Predicted Vb (mm)\\\\\n",
       "\\hline\n",
       "\tArchaeolemur\\_majori & 1.150866 & 31.60930 & 31.60930 & 31.60930\\\\\n",
       "\tBabakotia\\_ radofilai & 1.186581 & 32.75862 & 32.75862 & 32.75862\\\\\n",
       "\tHadropithecus\\_stenognathus & 1.335470 & 38.01784 & 38.01784 & 38.01784\\\\\n",
       "\tMegaladapis\\_edwardsi & 1.545271 & 46.89243 & 46.89243 & 46.89243\\\\\n",
       "\tMesopropithecus\\_globiceps & 1.000870 & 27.20648 & 27.20648 & 27.20648\\\\\n",
       "\tPalaeopropithecus\\_ingens & 1.445353 & 42.43351 & 42.43351 & 42.43351\\\\\n",
       "\\end{tabular}\n"
      ],
      "text/markdown": [
       "\n",
       "| <!--/--> | Predicted Vb (log) | Low-Interval | High-Interval | Predicted Vb (mm) | \n",
       "|---|---|---|---|---|---|\n",
       "| Archaeolemur_majori | 1.150866 | 31.60930 | 31.60930 | 31.60930 | \n",
       "| Babakotia_ radofilai | 1.186581 | 32.75862 | 32.75862 | 32.75862 | \n",
       "| Hadropithecus_stenognathus | 1.335470 | 38.01784 | 38.01784 | 38.01784 | \n",
       "| Megaladapis_edwardsi | 1.545271 | 46.89243 | 46.89243 | 46.89243 | \n",
       "| Mesopropithecus_globiceps | 1.000870 | 27.20648 | 27.20648 | 27.20648 | \n",
       "| Palaeopropithecus_ingens | 1.445353 | 42.43351 | 42.43351 | 42.43351 | \n",
       "\n",
       "\n"
      ],
      "text/plain": [
       "                           Predicted Vb (log) Low-Interval High-Interval\n",
       "Archaeolemur_majori        1.150866           31.60930     31.60930     \n",
       "Babakotia_ radofilai       1.186581           32.75862     32.75862     \n",
       "Hadropithecus_stenognathus 1.335470           38.01784     38.01784     \n",
       "Megaladapis_edwardsi       1.545271           46.89243     46.89243     \n",
       "Mesopropithecus_globiceps  1.000870           27.20648     27.20648     \n",
       "Palaeopropithecus_ingens   1.445353           42.43351     42.43351     \n",
       "                           Predicted Vb (mm)\n",
       "Archaeolemur_majori        31.60930         \n",
       "Babakotia_ radofilai       32.75862         \n",
       "Hadropithecus_stenognathus 38.01784         \n",
       "Megaladapis_edwardsi       46.89243         \n",
       "Mesopropithecus_globiceps  27.20648         \n",
       "Palaeopropithecus_ingens   42.43351         "
      ]
     },
     "metadata": {},
     "output_type": "display_data"
    }
   ],
   "source": [
    "output=matrix(nrow=length(topredict$mass), ncol=4)\n",
    "for (i in 1:length(topredict$mass)){\n",
    "    newdata <- data.frame(mass=topredict$mass[i])\n",
    "    output[i,1:3] <- predict(trait, newdata, interval=\"confidence\")\n",
    "    output[i,-1] <- exp(output[i,1])*10\n",
    "}\n",
    "colnames(output) <- c(\"Predicted Vb (log)\", \"Low-Interval\", \"High-Interval\", \"Predicted Vb (mm)\")\n",
    "rownames(output) <- topredict$Species\n",
    "head(output  )                              # predicted vb values and their 95% confidence intervals"
   ]
  },
  {
   "cell_type": "code",
   "execution_count": 7,
   "metadata": {
    "collapsed": false
   },
   "outputs": [
    {
     "data": {
      "image/png": "[encoded data removed]",
      "text/plain": [
       "plot without title"
      ]
     },
     "metadata": {},
     "output_type": "display_data"
    }
   ],
   "source": [
    "plot(vb~mass, data=vb, ylim=c(-0.6,2.5), xlim=c(-3,5), col=\"black\", pch=16, xlab=\"log(mass)\")\n",
    "abline(trait, col=\"black\")\n",
    "\n",
    "## map the predicted Vb values onto the regression line\n",
    "points(topredict$mass,output[,1], col= \"red\", pch=16)\n",
    "\n",
    "## make a vector of all body mass data so that we can plot the 95% confidence intervals\n",
    "newx<-sort(c(vb$mass, topredict$mass))\n",
    "\n",
    "## generate confidence intervals for the entire dataset\n",
    "a<-predict(trait, newdata=data.frame(mass=newx), interval=\"confidence\")\n",
    "\n",
    "## add 95% confidence interval lines\n",
    "lines(newx, a[,2], lty=3)\n",
    "lines(newx, a[,3], lty=3)"
   ]
  },
  {
   "cell_type": "markdown",
   "metadata": {},
   "source": [
    "<br>\n",
    "<br>\n",
    "## Prepare imputed plant datasets"
   ]
  },
  {
   "cell_type": "code",
   "execution_count": 8,
   "metadata": {
    "collapsed": false
   },
   "outputs": [
    {
     "data": {
      "text/plain": [
       "      .imp                       .id                   Gen        \n",
       " Min.   : 0   Abrahamia_buxifolia  :    21   Bulbophyllum:  3969  \n",
       " 1st Qu.: 5   Abrahamia_deflexa    :    21   Impatiens   :  3633  \n",
       " Median :10   Abrahamia_ditimena   :    21   Dypsis      :  3423  \n",
       " Mean   :10   Abrahamia_grandidieri:    21   Dombeya     :  3255  \n",
       " 3rd Qu.:15   Abrahamia_humbertii  :    21   Croton      :  3024  \n",
       " Max.   :20   Abrahamia_ibityensis :    21   Euphorbia   :  2667  \n",
       "              (Other)              :184338   (Other)     :164493  \n",
       "            Fam                       Clade2       Lform3          FrType2     \n",
       " Orchidaceae  : 15771   asterids         :67620   HE  :39334   capsule :76332  \n",
       " Rubiaceae    : 14175   basal angiosperms: 6636   LI  :25762   drupe   :35500  \n",
       " Acanthaceae  :  9933   eudicots         : 6258   SH  :64711   berry   :26297  \n",
       " Euphorbiaceae:  9660   gymnosperm       :  126   Tree:54441   achene  :18114  \n",
       " Fabaceae     :  9429   monocots         :36561   NA's:  216   follicle: 7680  \n",
       " Asteraceae   :  9219   rosids           :67263                (Other) :20392  \n",
       " (Other)      :116277                                          NA's    :  149  \n",
       " FrClass2          Dcol2        FrHusk2          Pulp2           log_FrLe    \n",
       " DD  :87192   brown   :35393   no   :113377   aril  :  5845   Min.   :0.69   \n",
       " DI  :31206   contrast:21992   thick: 23253   fleshy: 60179   1st Qu.:4.75   \n",
       " F   :59871   red     :21955   thin : 44079   no    :114586   Median :5.67   \n",
       " NA's: 6195   blue    :19592   NA's :  3755   other :  3322   Mean   :5.23   \n",
       "              grey    :17990                  NA's  :   532   3rd Qu.:6.08   \n",
       "              (Other) :60440                                  Max.   :6.35   \n",
       "              NA's    : 7102                                  NA's   :91560  \n",
       "    log_FrWi           SeFr           log_SeLe         log_SeWi     \n",
       " Min.   :-1.609   Min.   :  0.10   Min.   :-1.61    Min.   :-2.303  \n",
       " 1st Qu.: 1.386   1st Qu.:  1.00   1st Qu.: 0.00    1st Qu.: 0.262  \n",
       " Median : 1.946   Median :  3.00   Median : 1.39    Median : 1.099  \n",
       " Mean   : 1.904   Mean   : 10.81   Mean   : 1.28    Mean   : 0.971  \n",
       " 3rd Qu.: 2.565   3rd Qu.:  7.00   3rd Qu.: 2.32    3rd Qu.: 1.705  \n",
       " Max.   : 7.454   Max.   :125.00   Max.   : 4.25    Max.   : 4.212  \n",
       " NA's   :5470     NA's   :5158     NA's   :113967   NA's   :6743    \n",
       "    Rarity3       Clim_Humid    Clim_Subhumid Clim_Subarid  Clim_Dry     \n",
       " Min.   :0.0000   no  :100463   no  :94034    no  :150755   no  :136921  \n",
       " 1st Qu.:0.0000   yes : 82485   yes :88914    yes : 32193   yes : 46027  \n",
       " Median :0.0000   NA's:  1516   NA's: 1516    NA's:  1516   NA's:  1516  \n",
       " Mean   :0.4996                                                          \n",
       " 3rd Qu.:1.0000                                                          \n",
       " Max.   :3.0000                                                          \n",
       " NA's   :2                                                               \n",
       " Clim_Montane  Veg_Forest    Veg_Bush      Veg_Shrub     Veg_Grass    \n",
       " no  :167288   no  : 62880   no  :159480   no  :172170   no  :173492  \n",
       " yes : 15660   yes :119413   yes : 22813   yes : 10123   yes :  8801  \n",
       " NA's:  1516   NA's:  2171   NA's:  2171   NA's:  2171   NA's:  2171  \n",
       "                                                                      \n",
       "                                                                      \n",
       "                                                                      \n",
       "                                                                      \n",
       " Veg_Mang      Veg_Anthr          IUCN            FrOd2           SeProt2      \n",
       " no  :138789   no  :173729   EN     :  5439   absent :   378   absent :  2751  \n",
       " yes :    84   yes :  8564   CR     :  3696   present:   882   present: 13965  \n",
       " NA's: 45591   NA's:  2171   VU     :  3507   NA's   :183204   NA's   :167748  \n",
       "                             LC     :  3255                                    \n",
       "                             NT     :   693                                    \n",
       "                             (Other):   861                                    \n",
       "                             NA's   :167013                                    "
      ]
     },
     "metadata": {},
     "output_type": "display_data"
    }
   ],
   "source": [
    "planttraitimp <-read.csv(\"PT-data-mice2.csv\", header=T,sep=\",\")\n",
    "summary(planttraitimp)"
   ]
  },
  {
   "cell_type": "code",
   "execution_count": 42,
   "metadata": {
    "collapsed": true
   },
   "outputs": [],
   "source": [
    "## Keep only imputed datasets (1=>20) by removing the original dataset (0)\n",
    "planttraitimp2 <-planttraitimp[ ! planttraitimp$.imp== \"0\", ]"
   ]
  },
  {
   "cell_type": "code",
   "execution_count": 43,
   "metadata": {
    "collapsed": true
   },
   "outputs": [],
   "source": [
    "## Give proper class to variables\n",
    "planttraitimp2$.imp<-as.factor(planttraitimp2$.imp)\n",
    "planttraitimp2$Rarity3 <- factor(planttraitimp2$Rarity3, order = TRUE, levels = c(\"0\", \"1\", \"2\", \"3\"))"
   ]
  },
  {
   "cell_type": "markdown",
   "metadata": {},
   "source": [
    "We will create some additional variables by combining some of the old ones. This will makes the analyses easier."
   ]
  },
  {
   "cell_type": "code",
   "execution_count": 44,
   "metadata": {
    "collapsed": false
   },
   "outputs": [],
   "source": [
    "## Combine pulp types into two categories: pulp/no_pulp\n",
    "planttraitimp2$Pulp3 <- ifelse(planttraitimp2$Pulp2==\"NA\", \"NA\",\n",
    "\tifelse(planttraitimp2$Pulp2==\"no\", \"no_pulp\", \"pulp\"))\n",
    "planttraitimp2$Pulp3 <- factor(planttraitimp2$Pulp3)\n",
    "\n",
    "## Combine bioclimates\n",
    "planttraitimp2$Clim_Humid2<- ifelse(planttraitimp2$Clim_Humid==\"NA\", \"NA\",\n",
    "\tifelse(planttraitimp2$Clim_Humid==\"yes\"|planttraitimp2$Clim_Subhumid==\"yes\"| planttraitimp2$Clim_Montane==\"yes\",\"yes\", \"no\"))\n",
    "planttraitimp2$Clim_Humid2 <- factor(planttraitimp2$Clim_Humid2)\n",
    "\n",
    "planttraitimp2$Clim_Dry2<- ifelse(planttraitimp2$Clim_Humid==\"NA\", \"NA\",\n",
    "\tifelse(planttraitimp2$Clim_Subarid==\"yes\"|planttraitimp2$Clim_Dry==\"yes\",\"yes\", \"no\"))\n",
    "planttraitimp2$Clim_Dry2 <- factor(planttraitimp2$Clim_Dry2)\n",
    "\n",
    "## Combine vegetation formations\n",
    "planttraitimp2$Veg_Closed<- ifelse(planttraitimp2$Veg_Forest==\"NA\", \"NA\",\n",
    "\tifelse(planttraitimp2$Veg_Forest==\"yes\"|planttraitimp2$Veg_Bush==\"yes\", \"yes\", \"no\"))\n",
    "planttraitimp2$Veg_Closed <- factor(planttraitimp2$Veg_Closed)\n",
    "\n",
    "planttraitimp2$Veg_OnlyForest<- ifelse(planttraitimp2$Veg_Forest==\"NA\", \"NA\",\n",
    "\tifelse(planttraitimp2$Veg_Forest==\"yes\" & planttraitimp2$Veg_Bush==\"no\" & planttraitimp2$Veg_Shrub==\"no\" & planttraitimp2$Veg_Grass==\"no\" & planttraitimp2$Veg_Mang==\"no\" & planttraitimp2$Veg_Anthr==\"no\" ,\"yes\", \"no\"))\n",
    "planttraitimp2$Veg_OnlyForest <- factor(planttraitimp2$Veg_OnlyForest)"
   ]
  },
  {
   "cell_type": "markdown",
   "metadata": {},
   "source": [
    "Now, we have to assign seed dispersal syndromes to each plant species.\n",
    "\n",
    "But, what's a __seed dispersal syndrome__?<br>\n",
    "It is a set of fruit/seed/plant traits used to predict the most likely dispersal agents. For example, when we have a seed with a pappus or a wing, then it is likely to be dispersed by wind (anemochory). If a seed displays hooks, then it is probably dispersed while attached to the fur of animals (epizoochory). Fleshy fruits are mainly dispersed through the guts of animals (endozoochory).\n",
    "\n",
    "So, first, we define __endozoochorous__ (with pulp or mimetic seeds) and non-endozoochorous species, to separate plant species that are dispersed by animals from other plant species."
   ]
  },
  {
   "cell_type": "code",
   "execution_count": 45,
   "metadata": {
    "collapsed": false
   },
   "outputs": [],
   "source": [
    "# endozoochorous (biotic)/non-endozoochorous (abiotic)\n",
    "planttraitimp2$SyndAB2 <- ifelse(planttraitimp2$Pulp3==\"NA\", \"NA\",\n",
    "\tifelse(planttraitimp2$Gen==\"Adenanthera\"|planttraitimp2$Gen==\"Erythrina\"|planttraitimp2$.id==\"Abrus_aureus\"|planttraitimp2$.id==\"Abrus_diversifoliolatus\"|planttraitimp2$.id==\"Abrus_parvifolius\", \"Biotic\",\t\t# mimetic seeds\n",
    "\t\tifelse(planttraitimp2$Pulp3==\"pulp\", \"Biotic\",\"Abiotic\")))\n",
    "planttraitimp2$SyndAB2 <- factor(planttraitimp2$SyndAB2)"
   ]
  },
  {
   "cell_type": "markdown",
   "metadata": {},
   "source": [
    "Then, among animal_dispersed plant species, we define the bird-syndrome and the primate-syndrome as following:<br>\n",
    "* __primate-dispersed__ species: diaspores with green, brown or white colour (e.g. Adansonia spp.)\n",
    "* __bird-dispersed__ species: diaspores with thin fruit husk or without fruit husk, and contrasting, purple or blue colour (e.g. Commiphora spp.)\n",
    "\n",
    "*Note: When we say that a species displays a primate-syndrome, it doesn't mean that it is dispersed only by primates. It just means that this species is probably best adapted to be dispersed by primates but it can still be dispersed (though probably less effectively) by other dispersers. A plant species often has a variety of dispersers.*"
   ]
  },
  {
   "cell_type": "code",
   "execution_count": 46,
   "metadata": {
    "collapsed": true
   },
   "outputs": [],
   "source": [
    "# syndBPMAD4 =  colour \n",
    "planttraitimp2$SyndBPMAD4 <- ifelse(planttraitimp2$Dcol2==\"NA\", \"NA\",\n",
    "\tifelse(planttraitimp2$SyndAB2==\"Abiotic\", NA,\n",
    "\t\tifelse(planttraitimp2$Gen==\"Eriosema\"|planttraitimp2$Gen==\"Oxalis\", NA,\n",
    "\t\t\tifelse(planttraitimp2$Dcol2==\"contrast\"|planttraitimp2$Dcol2==\"blue\"|planttraitimp2$Dcol2==\"purple\", \"Bird\",\n",
    "\t\t\t\tifelse(planttraitimp2$Dcol2==\"green\"|planttraitimp2$Dcol2==\"brown\"|planttraitimp2$Dcol2==\"white\", \"Primate\", NA)))))\n",
    "planttraitimp2$SyndBPMAD4 <- factor(planttraitimp2$SyndBPMAD4)\n",
    "\n",
    "\n",
    "# syndBPMADH4 =  colour + husk\n",
    "planttraitimp2$SyndBPMADH4 <- ifelse(planttraitimp2$Dcol2==\"NA\", \"NA\",\n",
    "\tifelse(planttraitimp2$SyndAB2==\"Abiotic\", NA,\n",
    "\t\tifelse(planttraitimp2$Gen==\"Eriosema\"|planttraitimp2$Gen==\"Oxalis\", NA,\n",
    "\t\t\tifelse(planttraitimp2$FrHusk2==\"thick\", \"Primate\",\n",
    "\t\t\t\tifelse(planttraitimp2$Dcol2==\"contrast\"|planttraitimp2$Dcol2==\"blue\"|planttraitimp2$Dcol2==\"purple\", \"Bird\",\n",
    "\t\t\t\t\tifelse(planttraitimp2$Dcol2==\"green\"|planttraitimp2$Dcol2==\"brown\"|planttraitimp2$Dcol2==\"white\", \"Primate\", NA))))))\n",
    "planttraitimp2$SyndBPMADH4 <- factor(planttraitimp2$SyndBPMADH4)"
   ]
  },
  {
   "cell_type": "markdown",
   "metadata": {},
   "source": [
    "Now, it is time to count the __number of potential seed dispersers__ for each plant species. <br>\n",
    "We will use the data on animals that we have already prepared.<br>\n",
    "We will compare the seed size of each plant and the size of the largest seed able to be ingested by each disperser.<br>\n",
    "To have a comprehensive count, we won't focus on primate/bird-syndromes and take into account all endozoochorous species."
   ]
  },
  {
   "cell_type": "code",
   "execution_count": 50,
   "metadata": {
    "collapsed": true
   },
   "outputs": [],
   "source": [
    "planttraitimp2$SeWi <- exp(planttraitimp2$log_SeWi)\n",
    "planttraitimp2$SeWi <- as.numeric(planttraitimp2$SeWi)\n",
    "\n",
    "# Number of potential primate dispersers\n",
    "planttraitimp2$Nprimate <-ifelse(planttraitimp2$Pulp3==\"no_pulp\", NA,\n",
    "\tifelse(planttraitimp2$SeWi<=5.3, 20,                                       # any seed smaller than 5.3 mm may be ingested by any of the 20 lemur dispersers \n",
    "\t\tifelse(planttraitimp2$SeWi>5.3 & planttraitimp2$SeWi<=6, 19,           # any seed between 5.3 and 6 mm may be ingested by 19 lemur dispersers\n",
    "\t\t\tifelse(planttraitimp2$SeWi>6 & planttraitimp2$SeWi<=8, 18,         # any seed between 6 and 8 mm may be ingested by 18 lemur dispersers\n",
    "\t\t\t\tifelse(planttraitimp2$SeWi>8 & planttraitimp2$SeWi<=10, 16,    # ...\n",
    "\t\t\t\t\tifelse(planttraitimp2$SeWi>10 & planttraitimp2$SeWi<=11, 15,\n",
    "\t\t\t\t\tifelse(planttraitimp2$SeWi>11 & planttraitimp2$SeWi<=13, 14,\n",
    "\t\t\t\t\tifelse(planttraitimp2$SeWi>13 & planttraitimp2$SeWi<=14.9, 13,\n",
    "\t\t\t\t\tifelse(planttraitimp2$SeWi>14 & planttraitimp2$SeWi<=15.6, 12,\n",
    "\t\t\t\t\tifelse(planttraitimp2$SeWi>15.6 & planttraitimp2$SeWi<=16.8, 10,\n",
    "\t\t\t\t\tifelse(planttraitimp2$SeWi>16.8 & planttraitimp2$SeWi<=17.1, 9,\n",
    "\t\t\t\t\tifelse(planttraitimp2$SeWi>17.1 & planttraitimp2$SeWi<=17.7, 7,\n",
    "\t\t\t\t\tifelse(planttraitimp2$SeWi>17.7 & planttraitimp2$SeWi<=18, 6,\n",
    "\t\t\t\t\tifelse(planttraitimp2$SeWi>18 & planttraitimp2$SeWi<=19.5, 5,\n",
    "\t\t\t\t\tifelse(planttraitimp2$SeWi>19.5 & planttraitimp2$SeWi<=24.55, 4,0)))))))))))))))\n",
    "planttraitimp2$Nprimate <- as.numeric(planttraitimp2$Nprimate)\n",
    "\n",
    "\n",
    "# Number of potential bird dispersers\n",
    "planttraitimp2$Nbird <-ifelse(planttraitimp2$SyndAB2==\"Abiotic\", NA,\n",
    "\tifelse(planttraitimp2$SeWi<=4.9, 5,\n",
    "\t\tifelse(planttraitimp2$SeWi>4.9 & planttraitimp2$SeWi<=6, 3,\n",
    "\t\t\tifelse(planttraitimp2$SeWi>6 & planttraitimp2$SeWi<=10.7, 2,\n",
    "\t\t\t\tifelse(planttraitimp2$SeWi>10.7 & planttraitimp2$SeWi<=11.88, 1,0)))))\n",
    "planttraitimp2$Nbird <- as.numeric(planttraitimp2$Nbird)\n",
    "\n",
    "\n",
    "# Number of potential bat dispersers\n",
    "planttraitimp2$Nbat <-ifelse(planttraitimp2$Pulp3==\"no_pulp\", NA,\n",
    "\tifelse(planttraitimp2$SeWi<=3, 3,\n",
    "\t\tifelse(planttraitimp2$SeWi>3 & planttraitimp2$SeWi<=6.43, 2,\n",
    "\t\t\tifelse(planttraitimp2$SeWi>6.43 & planttraitimp2$SeWi<=9.6, 1,0))))\n",
    "planttraitimp2$Nbat <- as.numeric(planttraitimp2$Nbat)\n",
    "\n",
    "\n",
    "# Total number of dispersers\n",
    "planttraitimp2$Total_disp<-apply(planttraitimp2[,c(\"Nbird\",\"Nprimate\",\"Nbat\")],1,function(x){z <- x[!is.na(x)]; ifelse(length(z), sum(z), NA)})\n",
    "planttraitimp2$Total_disp <- as.numeric(planttraitimp2$Total_disp)"
   ]
  },
  {
   "cell_type": "markdown",
   "metadata": {},
   "source": [
    "Some plant species have 0 potential disperser. Their seeds are too large to be dispersed by any extant disperser. They were probably adapted to be dispersed by now extinct large animals (giant lemurs, elephant birds...). <br>\n",
    "That's why we define these plants as __anachronistic__."
   ]
  },
  {
   "cell_type": "code",
   "execution_count": 51,
   "metadata": {
    "collapsed": true
   },
   "outputs": [],
   "source": [
    "# Anachronistic species\n",
    "planttraitimp2$AnachSeExtr<-ifelse(planttraitimp2$Nbird==\"NA\", \"NA\",\n",
    "\tifelse(planttraitimp2$Total_disp == 0, \"yes\", \"no\"))\n",
    "planttraitimp2$AnachSeExtr <- factor(planttraitimp2$AnachSeExtr)"
   ]
  },
  {
   "cell_type": "code",
   "execution_count": 52,
   "metadata": {
    "collapsed": false
   },
   "outputs": [
    {
     "data": {
      "text/plain": [
       "      .imp                           .id                   Gen        \n",
       " 1      :  8784   Abrahamia_buxifolia  :    20   Bulbophyllum:  3780  \n",
       " 2      :  8784   Abrahamia_deflexa    :    20   Impatiens   :  3460  \n",
       " 3      :  8784   Abrahamia_ditimena   :    20   Dypsis      :  3260  \n",
       " 4      :  8784   Abrahamia_grandidieri:    20   Dombeya     :  3100  \n",
       " 5      :  8784   Abrahamia_humbertii  :    20   Croton      :  2880  \n",
       " 6      :  8784   Abrahamia_ibityensis :    20   Euphorbia   :  2540  \n",
       " (Other):122976   (Other)              :175560   (Other)     :156660  \n",
       "            Fam                       Clade2       Lform3          FrType2     \n",
       " Orchidaceae  : 15020   asterids         :64400   HE  :37494   capsule :72756  \n",
       " Rubiaceae    : 13500   basal angiosperms: 6320   LI  :24560   drupe   :33833  \n",
       " Acanthaceae  :  9460   eudicots         : 5960   SH  :61707   berry   :25060  \n",
       " Euphorbiaceae:  9200   gymnosperm       :  120   Tree:51919   achene  :17266  \n",
       " Fabaceae     :  8980   monocots         :34820                follicle: 7325  \n",
       " Asteraceae   :  8780   rosids           :64060                legume  : 5392  \n",
       " (Other)      :110740                                          (Other) :14048  \n",
       " FrClass2          Dcol2        FrHusk2          Pulp2           log_FrLe    \n",
       " DD  :83040   brown   :34887   no   :109204   aril  :  5587   Min.   :0.69   \n",
       " DI  :29720   contrast:21858   thick: 23155   fleshy: 57513   1st Qu.:4.75   \n",
       " F   :57020   red     :21597   thin : 43321   no    :109361   Median :5.67   \n",
       " NA's: 5900   blue    :19558                  other :  3219   Mean   :5.23   \n",
       "              grey    :17971                                  3rd Qu.:6.08   \n",
       "              yellow  :14287                                  Max.   :6.35   \n",
       "              (Other) :45522                                  NA's   :87200  \n",
       "    log_FrWi           SeFr           log_SeLe         log_SeWi      \n",
       " Min.   :-1.609   Min.   :  0.10   Min.   :-1.61    Min.   :-2.3026  \n",
       " 1st Qu.: 1.386   1st Qu.:  1.00   1st Qu.: 0.00    1st Qu.: 0.1823  \n",
       " Median : 1.946   Median :  3.00   Median : 1.39    Median : 1.0986  \n",
       " Mean   : 1.898   Mean   : 10.97   Mean   : 1.28    Mean   : 0.9644  \n",
       " 3rd Qu.: 2.534   3rd Qu.:  7.50   3rd Qu.: 2.32    3rd Qu.: 1.7047  \n",
       " Max.   : 7.454   Max.   :125.00   Max.   : 4.25    Max.   : 4.2121  \n",
       "                                   NA's   :108540                    \n",
       " Rarity3    Clim_Humid  Clim_Subhumid Clim_Subarid Clim_Dry     Clim_Montane\n",
       " 0:122982   no :96437   no :90255     no :144691   no :131462   no :160655  \n",
       " 1: 30974   yes:79243   yes:85425     yes: 30989   yes: 44218   yes: 15025  \n",
       " 2:  8382                                                                   \n",
       " 3: 13342                                                                   \n",
       "                                                                            \n",
       "                                                                            \n",
       "                                                                            \n",
       " Veg_Forest   Veg_Bush     Veg_Shrub    Veg_Grass    Veg_Mang      Veg_Anthr   \n",
       " no : 60644   no :153626   no :165943   no :167189   no  :132180   no :167410  \n",
       " yes:115036   yes: 22054   yes:  9737   yes:  8491   yes :    80   yes:  8270  \n",
       "                                                     NA's: 43420               \n",
       "                                                                               \n",
       "                                                                               \n",
       "                                                                               \n",
       "                                                                               \n",
       "      IUCN            FrOd2           SeProt2           Pulp3       \n",
       " EN     :  5180   absent :   360   absent :  2620   no_pulp:109361  \n",
       " CR     :  3520   present:   840   present: 13300   pulp   : 66319  \n",
       " VU     :  3340   NA's   :174480   NA's   :159760                   \n",
       " LC     :  3100                                                     \n",
       " NT     :   660                                                     \n",
       " (Other):   820                                                     \n",
       " NA's   :159060                                                     \n",
       " Clim_Humid2  Clim_Dry2    Veg_Closed   Veg_OnlyForest    SyndAB2      \n",
       " no : 41971   no :111057   no : 43130   no  :71135     Abiotic:109201  \n",
       " yes:133709   yes: 64623   yes:132550   yes :80340     Biotic : 66479  \n",
       "                                        NA's:24205                     \n",
       "                                                                       \n",
       "                                                                       \n",
       "                                                                       \n",
       "                                                                       \n",
       "   SyndBPMAD4      SyndBPMADH4        Nprimate          Nbird       \n",
       " Bird   : 12757   Bird   : 11143   Min.   : 0.0     Min.   :0       \n",
       " Primate: 17022   Primate: 27240   1st Qu.:15.0     1st Qu.:2       \n",
       " NA's   :145901   NA's   :137297   Median :19.0     Median :3       \n",
       "                                   Mean   :17.1     Mean   :3       \n",
       "                                   3rd Qu.:20.0     3rd Qu.:5       \n",
       "                                   Max.   :20.0     Max.   :5       \n",
       "                                   NA's   :109361   NA's   :109201  \n",
       "      Nbat          Total_disp     AnachSeExtr        SeWi       \n",
       " Min.   :0.00     Min.   : 0.00    no  : 65913   Min.   : 0.100  \n",
       " 1st Qu.:0.00     1st Qu.:17.00    yes :   566   1st Qu.: 1.200  \n",
       " Median :2.00     Median :24.00    NA's:109201   Median : 3.000  \n",
       " Mean   :1.47     Mean   :21.52                  Mean   : 4.375  \n",
       " 3rd Qu.:2.00     3rd Qu.:27.00                  3rd Qu.: 5.500  \n",
       " Max.   :3.00     Max.   :28.00                  Max.   :67.500  \n",
       " NA's   :109361   NA's   :109201                                 "
      ]
     },
     "metadata": {},
     "output_type": "display_data"
    }
   ],
   "source": [
    "summary(planttraitimp2)"
   ]
  },
  {
   "cell_type": "code",
   "execution_count": null,
   "metadata": {
    "collapsed": true
   },
   "outputs": [],
   "source": [
    "# Save the data\n",
    "write.table(planttraitimp2, file=\"PT-data-miceP.csv\", sep=\",\",row.names=FALSE)"
   ]
  },
  {
   "cell_type": "markdown",
   "metadata": {},
   "source": [
    "<br>\n",
    "<br>\n",
    "## Some descriptive Statistics\n",
    "\n",
    "Let's see whether we can get some insights into the data."
   ]
  },
  {
   "cell_type": "code",
   "execution_count": 10,
   "metadata": {
    "collapsed": false
   },
   "outputs": [],
   "source": [
    "# Load data\n",
    "planttraitimp <- read.csv(\"PT-data-miceP.csv\", header=T,sep=\",\")\n",
    "\n",
    "# Give proper class to variables\n",
    "planttraitimp$.imp<-as.factor(planttraitimp$.imp)\n",
    "planttraitimp$Rarity3 <- factor(planttraitimp$Rarity3, order = TRUE, levels = c(\"0\", \"1\", \"2\", \"3\"))\n",
    "planttraitimp$log_FrLe<-as.numeric(planttraitimp$log_FrLe)\n",
    "planttraitimp$log_FrWi<-as.numeric(planttraitimp$log_FrWi)\n",
    "planttraitimp$log_SeWi<-as.numeric(planttraitimp$log_SeWi)\n",
    "planttraitimp$SeFr<-as.numeric(planttraitimp$SeFr)\n",
    "planttraitimp$SyndAB2 <- factor(planttraitimp$SyndAB2)\n",
    "planttraitimp$AnachSeExtr <- factor(planttraitimp$AnachSeExtr)\n",
    "\n",
    "# Format the file\n",
    "implist<-split(planttraitimp, list(planttraitimp$.imp))\n",
    "implist<-implist[-1]"
   ]
  },
  {
   "cell_type": "code",
   "execution_count": 63,
   "metadata": {
    "collapsed": false
   },
   "outputs": [
    {
     "name": "stdout",
     "output_type": "stream",
     "text": [
      "\n",
      "........................................\n",
      "SyndAB2\n",
      "\n",
      "        frequency percent\n",
      "Abiotic  5459.842   62.16\n",
      "Biotic   3324.158   37.84\n",
      "NAs         0.000    0.00\n",
      "\n",
      "........................................\n",
      "SyndBPMAD4\n",
      "\n",
      "        frequency percent\n",
      "Bird     640.3684    7.29\n",
      "Primate  852.1579    9.70\n",
      "NAs     7291.4737   83.01\n",
      "\n",
      "........................................\n",
      "SyndBPMADH4\n",
      "\n",
      "        frequency percent\n",
      "Bird     556.6842    6.34\n",
      "Primate 1375.0526   15.65\n",
      "NAs     6852.2632   78.01\n",
      "\n",
      "........................................\n",
      "Veg_Closed\n",
      "\n",
      "    frequency percent\n",
      "no   2155.368   24.54\n",
      "yes  6628.632   75.46\n",
      "NAs     0.000    0.00\n",
      "\n",
      "........................................\n",
      "Veg_OnlyForest\n",
      "\n",
      "    frequency percent\n",
      "no   3555.474   40.48\n",
      "yes  4017.000   45.73\n",
      "NAs  1211.526   13.79\n"
     ]
    }
   ],
   "source": [
    "library(miceadds);\n",
    "\n",
    "# Percentage of each level of factor in the Madagascan flora\n",
    "varnames3 <- c(\"SyndAB2\", \"SyndBPMAD4\", \"SyndBPMADH4\", \"Veg_Closed\",\"Veg_OnlyForest\")\n",
    "for (i in seq_along(varnames3)) {\n",
    "    listvar<-lapply(implist, `[`, varnames3[i])\t# list with each imputed dataset as elements, with only one variable (varnames3[i])\n",
    "    tabfun<-function(x) table(x,useNA=\"always\")\n",
    "    freq1 <- sapply(listvar, tabfun)\t\t# calculate the frequency of each level in each dataset\n",
    "    grandm <- apply(freq1,1, mean)\t\t\t# calculate the mean of frequencies of each level\n",
    "    names(grandm)[length(grandm)] <- \"NAs\"\n",
    "    grandm2<- as.data.frame(grandm)\n",
    "    colnames(grandm2)<-\"frequency\"\n",
    "    grandm2$percent <- round(grandm2$freq/sum(grandm2$freq)*100,2)\n",
    "    output.format1(stringtype=\".\" , label =varnames3[i], rep.N=1 ,stringlength = 40)\t\n",
    "    print(grandm2)\n",
    "}"
   ]
  },
  {
   "cell_type": "markdown",
   "metadata": {},
   "source": [
    "<div class=\"alert alert-block alert-success\">\n",
    "We have several interesting outputs: <br>\n",
    "1) __Only 1/3 of the Madagascan plant species are endozoochorous__, which is low compared to other tropical areas.<br>\n",
    "2) __Primate-dispersed plants dominate__, contrary to other tropical areas where bird-dispersed plants form the majority (whatever the definition SyndBPMAD4 or SyndBPMADH4. <br>\n",
    "3) 3/4 of the Madagascan flora occur in __closed vegetation__ (i.e. forest, woodland, bushland or thicket). <br>\n",
    "4) Just under half the species (46%) were __only found in forests__! Given the high deforestation rate in Madagascar. We have to worry a lot!"
   ]
  }
 ],
 "metadata": {
  "kernelspec": {
   "display_name": "R 3.3",
   "language": "R",
   "name": "ir33"
  },
  "language_info": {
   "codemirror_mode": "r",
   "file_extension": ".r",
   "mimetype": "text/x-r-source",
   "name": "R",
   "pygments_lexer": "r",
   "version": "3.3.1"
  }
 },
 "nbformat": 4,
 "nbformat_minor": 2
}
