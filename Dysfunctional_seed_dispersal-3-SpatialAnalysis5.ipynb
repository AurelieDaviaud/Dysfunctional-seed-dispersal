{
 "cells": [
  {
   "cell_type": "markdown",
   "metadata": {},
   "source": [
    "# Dysfunctional seed dispersal in the endemic flora of Madagascar\n",
    "\n",
    "* Language: R\n",
    "* Methods: linear regression, multivariate imputation by chained equations (MICE), spatial analyses\n",
    "* Associated publication: (in prep)"
   ]
  },
  {
   "cell_type": "markdown",
   "metadata": {},
   "source": [
    "## Are species displaying disfunctional dispersal already threatened with extinction?"
   ]
  },
  {
   "cell_type": "code",
   "execution_count": 12,
   "metadata": {
    "collapsed": false
   },
   "outputs": [
    {
     "data": {
      "text/html": [
       "<table>\n",
       "<thead><tr><th></th><th scope=col>Rarity3</th><th scope=col>IUCN</th></tr></thead>\n",
       "<tbody>\n",
       "\t<tr><th scope=row>Abrahamia_buxifolia</th><td>0 </td><td>NA</td></tr>\n",
       "\t<tr><th scope=row>Abrahamia_deflexa</th><td>0 </td><td>NA</td></tr>\n",
       "\t<tr><th scope=row>Abrahamia_ditimena</th><td>0 </td><td>NA</td></tr>\n",
       "\t<tr><th scope=row>Abrahamia_grandidieri</th><td>0 </td><td>LC</td></tr>\n",
       "\t<tr><th scope=row>Abrahamia_humbertii</th><td>0 </td><td>NA</td></tr>\n",
       "\t<tr><th scope=row>Abrahamia_ibityensis</th><td>0 </td><td>NA</td></tr>\n",
       "</tbody>\n",
       "</table>\n"
      ],
      "text/latex": [
       "\\begin{tabular}{r|ll}\n",
       "  & Rarity3 & IUCN\\\\\n",
       "\\hline\n",
       "\tAbrahamia\\_buxifolia & 0  & NA\\\\\n",
       "\tAbrahamia\\_deflexa & 0  & NA\\\\\n",
       "\tAbrahamia\\_ditimena & 0  & NA\\\\\n",
       "\tAbrahamia\\_grandidieri & 0  & LC\\\\\n",
       "\tAbrahamia\\_humbertii & 0  & NA\\\\\n",
       "\tAbrahamia\\_ibityensis & 0  & NA\\\\\n",
       "\\end{tabular}\n"
      ],
      "text/markdown": [
       "\n",
       "| <!--/--> | Rarity3 | IUCN | \n",
       "|---|---|---|---|---|---|\n",
       "| Abrahamia_buxifolia | 0  | NA | \n",
       "| Abrahamia_deflexa | 0  | NA | \n",
       "| Abrahamia_ditimena | 0  | NA | \n",
       "| Abrahamia_grandidieri | 0  | LC | \n",
       "| Abrahamia_humbertii | 0  | NA | \n",
       "| Abrahamia_ibityensis | 0  | NA | \n",
       "\n",
       "\n"
      ],
      "text/plain": [
       "                      Rarity3 IUCN\n",
       "Abrahamia_buxifolia   0       NA  \n",
       "Abrahamia_deflexa     0       NA  \n",
       "Abrahamia_ditimena    0       NA  \n",
       "Abrahamia_grandidieri 0       LC  \n",
       "Abrahamia_humbertii   0       NA  \n",
       "Abrahamia_ibityensis  0       NA  "
      ]
     },
     "metadata": {},
     "output_type": "display_data"
    }
   ],
   "source": [
    "pt<-read.csv(\"PT-data-miceP.csv\", header=T,sep=\",\")\n",
    "pt <- pt[pt$.imp==0,]\n",
    "row.names(pt) = pt$.id\n",
    "pt2 <- subset(pt, select=-.id)\n",
    "pt2 <- subset(pt2, select=c(Rarity3, IUCN))        # 0=not rare (more than 5 locations), 1=2-5 locations, 2=1 location, 3=0 location (only type specimen)\n",
    "head(pt2)"
   ]
  },
  {
   "cell_type": "code",
   "execution_count": 14,
   "metadata": {
    "collapsed": false
   },
   "outputs": [
    {
     "data": {
      "text/html": [
       "<table>\n",
       "<thead><tr><th scope=col>Row.names</th><th scope=col>Dispersers</th><th scope=col>Co.occurring_lemurs</th><th scope=col>Co.occurring_Disperser_lemurs</th><th scope=col>Rarity3</th><th scope=col>IUCN</th></tr></thead>\n",
       "<tbody>\n",
       "\t<tr><td>Abrahamia_buxifolia  </td><td>15.0                 </td><td> 3                   </td><td> 3                   </td><td>0                    </td><td>NA                   </td></tr>\n",
       "\t<tr><td>Abrahamia_deflexa    </td><td>16.0                 </td><td> 6                   </td><td> 4                   </td><td>0                    </td><td>NA                   </td></tr>\n",
       "\t<tr><td>Abrahamia_ditimena   </td><td>14.0                 </td><td>14                   </td><td>10                   </td><td>0                    </td><td>NA                   </td></tr>\n",
       "\t<tr><td>Abrahamia_grandidieri</td><td>12.0                 </td><td> 5                   </td><td> 2                   </td><td>0                    </td><td>LC                   </td></tr>\n",
       "\t<tr><td>Abrahamia_humbertii  </td><td>16.4                 </td><td> 1                   </td><td> 1                   </td><td>0                    </td><td>NA                   </td></tr>\n",
       "\t<tr><td>Abrahamia_ibityensis </td><td>14.0                 </td><td> 0                   </td><td> 0                   </td><td>0                    </td><td>NA                   </td></tr>\n",
       "</tbody>\n",
       "</table>\n"
      ],
      "text/latex": [
       "\\begin{tabular}{r|llllll}\n",
       " Row.names & Dispersers & Co.occurring\\_lemurs & Co.occurring\\_Disperser\\_lemurs & Rarity3 & IUCN\\\\\n",
       "\\hline\n",
       "\t Abrahamia\\_buxifolia   & 15.0                    &  3                      &  3                      & 0                       & NA                     \\\\\n",
       "\t Abrahamia\\_deflexa     & 16.0                    &  6                      &  4                      & 0                       & NA                     \\\\\n",
       "\t Abrahamia\\_ditimena    & 14.0                    & 14                      & 10                      & 0                       & NA                     \\\\\n",
       "\t Abrahamia\\_grandidieri & 12.0                    &  5                      &  2                      & 0                       & LC                     \\\\\n",
       "\t Abrahamia\\_humbertii   & 16.4                    &  1                      &  1                      & 0                       & NA                     \\\\\n",
       "\t Abrahamia\\_ibityensis  & 14.0                    &  0                      &  0                      & 0                       & NA                     \\\\\n",
       "\\end{tabular}\n"
      ],
      "text/markdown": [
       "\n",
       "Row.names | Dispersers | Co.occurring_lemurs | Co.occurring_Disperser_lemurs | Rarity3 | IUCN | \n",
       "|---|---|---|---|---|---|\n",
       "| Abrahamia_buxifolia   | 15.0                  |  3                    |  3                    | 0                     | NA                    | \n",
       "| Abrahamia_deflexa     | 16.0                  |  6                    |  4                    | 0                     | NA                    | \n",
       "| Abrahamia_ditimena    | 14.0                  | 14                    | 10                    | 0                     | NA                    | \n",
       "| Abrahamia_grandidieri | 12.0                  |  5                    |  2                    | 0                     | LC                    | \n",
       "| Abrahamia_humbertii   | 16.4                  |  1                    |  1                    | 0                     | NA                    | \n",
       "| Abrahamia_ibityensis  | 14.0                  |  0                    |  0                    | 0                     | NA                    | \n",
       "\n",
       "\n"
      ],
      "text/plain": [
       "  Row.names             Dispersers Co.occurring_lemurs\n",
       "1 Abrahamia_buxifolia   15.0        3                 \n",
       "2 Abrahamia_deflexa     16.0        6                 \n",
       "3 Abrahamia_ditimena    14.0       14                 \n",
       "4 Abrahamia_grandidieri 12.0        5                 \n",
       "5 Abrahamia_humbertii   16.4        1                 \n",
       "6 Abrahamia_ibityensis  14.0        0                 \n",
       "  Co.occurring_Disperser_lemurs Rarity3 IUCN\n",
       "1  3                            0       NA  \n",
       "2  4                            0       NA  \n",
       "3 10                            0       NA  \n",
       "4  2                            0       LC  \n",
       "5  1                            0       NA  \n",
       "6  0                            0       NA  "
      ]
     },
     "metadata": {},
     "output_type": "display_data"
    }
   ],
   "source": [
    "resThreat <- merge(res2, pt2, all.x=FALSE, by=\"row.names\")\n",
    "head(resThreat)"
   ]
  },
  {
   "cell_type": "markdown",
   "metadata": {},
   "source": [
    "##### Percentage of threatened plant species among those without any available lemur disperser "
   ]
  },
  {
   "cell_type": "code",
   "execution_count": 25,
   "metadata": {
    "collapsed": true
   },
   "outputs": [],
   "source": [
    "Threat <- c(\"VU\", \"EN\", \"CR\")         # conservation status meaning vulnerable (VU), endangered (EN) and critically endangered (CR)"
   ]
  },
  {
   "cell_type": "code",
   "execution_count": 39,
   "metadata": {
    "collapsed": false
   },
   "outputs": [
    {
     "data": {
      "text/html": [
       "100"
      ],
      "text/latex": [
       "100"
      ],
      "text/markdown": [
       "100"
      ],
      "text/plain": [
       "[1] 100"
      ]
     },
     "metadata": {},
     "output_type": "display_data"
    }
   ],
   "source": [
    "resThreat_0 <- resThreat[resThreat$Co.occurring_Disperser_lemurs==0, ]\n",
    "resThreat_0 <- resThreat_0[!is.na(resThreat_0$IUCN),]      # remove species that don't have a conservation status (IUCN = NA)\n",
    "resThreat_0 <- resThreat_0[!resThreat_0$IUCN==\"DD\", ]      # remove species considered as Data Deficient by the IUCN (i.e. not enough data available to assess the conservation status)\n",
    "nrow(resThreat_0)"
   ]
  },
  {
   "cell_type": "code",
   "execution_count": 27,
   "metadata": {
    "collapsed": false
   },
   "outputs": [
    {
     "data": {
      "text/html": [
       "93"
      ],
      "text/latex": [
       "93"
      ],
      "text/markdown": [
       "93"
      ],
      "text/plain": [
       "[1] 93"
      ]
     },
     "metadata": {},
     "output_type": "display_data"
    }
   ],
   "source": [
    "resThreat_0_T <- resThreat_0[resThreat_0$IUCN%in%Threat,]      # keep only plant species that are threatened\n",
    "nrow (resThreat_0_T)/nrow(resThreat_0)*100"
   ]
  },
  {
   "cell_type": "markdown",
   "metadata": {},
   "source": [
    "##### Percentage of threatened plant species in the whole dataset"
   ]
  },
  {
   "cell_type": "code",
   "execution_count": 40,
   "metadata": {
    "collapsed": false
   },
   "outputs": [
    {
     "data": {
      "text/html": [
       "386"
      ],
      "text/latex": [
       "386"
      ],
      "text/markdown": [
       "386"
      ],
      "text/plain": [
       "[1] 386"
      ]
     },
     "metadata": {},
     "output_type": "display_data"
    }
   ],
   "source": [
    "resThreat2 <- resThreat[!is.na(resThreat$IUCN),]        # remove species that don't have a conservation status (IUCN = NA)\n",
    "resThreat2 <- resThreat2[!resThreat2$IUCN==\"DD\", ]      # remove species considered as Data Deficient by the IUCN (i.e. not enough data available to assess the conservation status)\n",
    "nrow(resThreat2)"
   ]
  },
  {
   "cell_type": "code",
   "execution_count": 41,
   "metadata": {
    "collapsed": false
   },
   "outputs": [
    {
     "data": {
      "text/html": [
       "73.3160621761658"
      ],
      "text/latex": [
       "73.3160621761658"
      ],
      "text/markdown": [
       "73.3160621761658"
      ],
      "text/plain": [
       "[1] 73.31606"
      ]
     },
     "metadata": {},
     "output_type": "display_data"
    }
   ],
   "source": [
    "resThreat2_T <- resThreat2[resThreat2$IUCN%in%Threat,]      # keep only plant species that are threatened\n",
    "nrow (resThreat2_T)/nrow(resThreat2)*100"
   ]
  },
  {
   "cell_type": "markdown",
   "metadata": {},
   "source": [
    "<div class=\"alert alert-block alert-success\">\n",
    "Among the animal-dispersed plant species __without any available lemur disperser__ (and for which the conservation status has been assessed), __93% are already threatened with extinction__ (i.e. vulnerable, endangered or critically endangered), compared to 73% in the whole dataset (N=386 species with conservation status)."
   ]
  },
  {
   "cell_type": "code",
   "execution_count": 54,
   "metadata": {
    "collapsed": false
   },
   "outputs": [
    {
     "data": {
      "text/html": [
       "0.46388336646786"
      ],
      "text/latex": [
       "0.46388336646786"
      ],
      "text/markdown": [
       "0.46388336646786"
      ],
      "text/plain": [
       "[1] 0.4638834"
      ]
     },
     "metadata": {},
     "output_type": "display_data"
    }
   ],
   "source": [
    "NoStatus <- c(\"DD\", \"NA\")\n",
    "resNoStatus <- resThreat[resThreat$IUCN%in%NoStatus,]      # keep only plant species that have no conservation status yet\n",
    "nrow(resNoStatus)/nrow(resThreat)*100"
   ]
  },
  {
   "cell_type": "code",
   "execution_count": 59,
   "metadata": {
    "collapsed": false
   },
   "outputs": [
    {
     "data": {
      "text/html": [
       "87.2100728959576"
      ],
      "text/latex": [
       "87.2100728959576"
      ],
      "text/markdown": [
       "87.2100728959576"
      ],
      "text/plain": [
       "[1] 87.21007"
      ]
     },
     "metadata": {},
     "output_type": "display_data"
    }
   ],
   "source": [
    "resDD <- nrow(subset(resThreat,IUCN==\"DD\"))\n",
    "resNA <- sum(is.na(resThreat$IUCN))\n",
    "resNoStatus <- resDD+resNA\n",
    "resNoStatus/nrow(resThreat)*100"
   ]
  },
  {
   "cell_type": "markdown",
   "metadata": {},
   "source": [
    "<div class=\"alert alert-block alert-success\">\n",
    "Today, the __conservation status__ of __87%__ of Madagascan endozoochorous plant species is __unknown__ which strongly limits the establishment of conservation plans."
   ]
  },
  {
   "cell_type": "markdown",
   "metadata": {},
   "source": [
    "## Are species displaying disfunctional dispersal already rare?"
   ]
  },
  {
   "cell_type": "markdown",
   "metadata": {},
   "source": [
    "##### Percentage of rare plant species among those without any available lemur disperser"
   ]
  },
  {
   "cell_type": "code",
   "execution_count": 48,
   "metadata": {
    "collapsed": true
   },
   "outputs": [],
   "source": [
    "Rare <- c(2,3)"
   ]
  },
  {
   "cell_type": "code",
   "execution_count": 49,
   "metadata": {
    "collapsed": false
   },
   "outputs": [
    {
     "data": {
      "text/html": [
       "624"
      ],
      "text/latex": [
       "624"
      ],
      "text/markdown": [
       "624"
      ],
      "text/plain": [
       "[1] 624"
      ]
     },
     "metadata": {},
     "output_type": "display_data"
    }
   ],
   "source": [
    "resRare_0 <- resThreat[resThreat$Co.occurring_Disperser_lemurs==0, ]\n",
    "nrow(resRare_0)"
   ]
  },
  {
   "cell_type": "code",
   "execution_count": 50,
   "metadata": {
    "collapsed": false
   },
   "outputs": [
    {
     "data": {
      "text/html": [
       "22.275641025641"
      ],
      "text/latex": [
       "22.275641025641"
      ],
      "text/markdown": [
       "22.275641025641"
      ],
      "text/plain": [
       "[1] 22.27564"
      ]
     },
     "metadata": {},
     "output_type": "display_data"
    }
   ],
   "source": [
    "resRare_0_R <- resRare_0[resRare_0$Rarity3%in%Rare,]      # keep only plant species that are rare\n",
    "nrow(resRare_0_R)/nrow(resRare_0)*100"
   ]
  },
  {
   "cell_type": "markdown",
   "metadata": {},
   "source": [
    "##### Percentage of rare plant species in the whole dataset"
   ]
  },
  {
   "cell_type": "code",
   "execution_count": 51,
   "metadata": {
    "collapsed": false
   },
   "outputs": [
    {
     "data": {
      "text/html": [
       "3018"
      ],
      "text/latex": [
       "3018"
      ],
      "text/markdown": [
       "3018"
      ],
      "text/plain": [
       "[1] 3018"
      ]
     },
     "metadata": {},
     "output_type": "display_data"
    }
   ],
   "source": [
    "resRare2 <- resThreat[!is.na(resThreat$Rarity3),]        # Remove species whose rarity status is unknown\n",
    "nrow(resRare2)"
   ]
  },
  {
   "cell_type": "code",
   "execution_count": 52,
   "metadata": {
    "collapsed": false
   },
   "outputs": [
    {
     "data": {
      "text/html": [
       "9.44333996023857"
      ],
      "text/latex": [
       "9.44333996023857"
      ],
      "text/markdown": [
       "9.44333996023857"
      ],
      "text/plain": [
       "[1] 9.44334"
      ]
     },
     "metadata": {},
     "output_type": "display_data"
    }
   ],
   "source": [
    "resRare2_T <- resRare2[resRare2$Rarity3%in%Rare,]      # keep only plant species that are rare\n",
    "nrow(resRare2_T)/nrow(resRare2)*100"
   ]
  },
  {
   "cell_type": "markdown",
   "metadata": {},
   "source": [
    "<div class=\"alert alert-block alert-success\">\n",
    "__22%__ of the plant species __without any available disperser__ are either __already rare__, with only one recorded location, or even known to be __extinct in the wild__, compared to 9% in the whole dataset (N=3018 species). "
   ]
  }
 ],
 "metadata": {
  "kernelspec": {
   "display_name": "R 3.3",
   "language": "R",
   "name": "ir33"
  },
  "language_info": {
   "codemirror_mode": "r",
   "file_extension": ".r",
   "mimetype": "text/x-r-source",
   "name": "R",
   "pygments_lexer": "r",
   "version": "3.3.1"
  }
 },
 "nbformat": 4,
 "nbformat_minor": 2
}
