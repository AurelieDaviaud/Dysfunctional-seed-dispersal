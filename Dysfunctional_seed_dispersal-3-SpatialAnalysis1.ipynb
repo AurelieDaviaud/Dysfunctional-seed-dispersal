{
 "cells": [
  {
   "cell_type": "markdown",
   "metadata": {},
   "source": [
    "# Dysfunctional seed dispersal in the endemic flora of Madagascar\n",
    "\n",
    "* Language: R\n",
    "* Methods: linear regression, multivariate imputation by chained equations (MICE), spatial analyses\n",
    "* Associated publication: (in prep)"
   ]
  },
  {
   "cell_type": "markdown",
   "metadata": {},
   "source": [
    "Now, we want to estimate the number of available dispersers (lemurs only) by matching the __distribution of plant species__ to the __distribution of their potential dispersers__.\n",
    "\n",
    "For this purpose, we are going to work with __rasters__. What's a raster? <br>\n",
    "In its simplest form, a raster consists of a matrix of cells (or pixels) organized into rows and columns (or a grid) where each cell contains a value representing information, such as temperature. Rasters are digital aerial photographs, imagery from satellites, digital pictures, or even scanned maps. (definition from http://desktop.arcgis.com/en/arcmap/10.3/manage-data/raster-and-images/what-is-raster-data.htm)\n",
    "<br>\n",
    "<br>"
   ]
  },
  {
   "cell_type": "code",
   "execution_count": 3,
   "metadata": {
    "collapsed": false
   },
   "outputs": [],
   "source": [
    "library(raster);"
   ]
  },
  {
   "cell_type": "markdown",
   "metadata": {},
   "source": [
    "<br>\n",
    "<br>\n",
    "## Create rasters for vegetation formations and lemurs"
   ]
  },
  {
   "cell_type": "markdown",
   "metadata": {
    "collapsed": true
   },
   "source": [
    "### Plant traits"
   ]
  },
  {
   "cell_type": "code",
   "execution_count": 4,
   "metadata": {
    "collapsed": false
   },
   "outputs": [
    {
     "name": "stdout",
     "output_type": "stream",
     "text": [
      "List of 20\n",
      " $ 1 :'data.frame':\t8784 obs. of  8 variables:\n",
      "  ..$ .imp   : int [1:8784] 1 1 1 1 1 1 1 1 1 1 ...\n",
      "  ..$ .id    : Factor w/ 8784 levels \"Abrahamia_buxifolia\",..: 1 2 3 4 5 6 7 8 9 10 ...\n",
      "  ..$ SeWi   : num [1:8784] 10.3 8 12.7 15.3 13.5 ...\n",
      "  ..$ For    : Factor w/ 2 levels \"no\",\"yes\": 2 2 2 1 2 2 2 2 1 2 ...\n",
      "  ..$ Bush   : chr [1:8784] \"no\" \"no\" \"no\" \"yes\" ...\n",
      "  ..$ Grass  : Factor w/ 2 levels \"no\",\"yes\": 1 1 1 1 1 1 1 1 1 1 ...\n",
      "  ..$ Anthr  : Factor w/ 2 levels \"no\",\"yes\": 1 1 1 1 1 1 2 1 1 1 ...\n",
      "  ..$ SyndAB2: Factor w/ 2 levels \"Abiotic\",\"Biotic\": 2 2 2 2 2 2 2 2 2 2 ...\n",
      " $ 2 :'data.frame':\t8784 obs. of  8 variables:\n",
      "  ..$ .imp   : int [1:8784] 2 2 2 2 2 2 2 2 2 2 ...\n",
      "  ..$ .id    : Factor w/ 8784 levels \"Abrahamia_buxifolia\",..: 1 2 3 4 5 6 7 8 9 10 ...\n",
      "  ..$ SeWi   : num [1:8784] 10.3 8 12.7 15.3 6 ...\n",
      "  ..$ For    : Factor w/ 2 levels \"no\",\"yes\": 2 2 2 1 2 2 2 2 2 2 ...\n",
      "  ..$ Bush   : chr [1:8784] \"no\" \"no\" \"no\" \"yes\" ...\n",
      "  ..$ Grass  : Factor w/ 2 levels \"no\",\"yes\": 1 1 1 1 1 1 1 1 1 1 ...\n",
      "  ..$ Anthr  : Factor w/ 2 levels \"no\",\"yes\": 1 1 1 1 1 1 1 1 1 1 ...\n",
      "  ..$ SyndAB2: Factor w/ 2 levels \"Abiotic\",\"Biotic\": 2 2 2 2 2 2 2 2 2 2 ...\n",
      " $ 3 :'data.frame':\t8784 obs. of  8 variables:\n",
      "  ..$ .imp   : int [1:8784] 3 3 3 3 3 3 3 3 3 3 ...\n",
      "  ..$ .id    : Factor w/ 8784 levels \"Abrahamia_buxifolia\",..: 1 2 3 4 5 6 7 8 9 10 ...\n",
      "  ..$ SeWi   : num [1:8784] 10.3 8 12.7 15.3 8 ...\n",
      "  ..$ For    : Factor w/ 2 levels \"no\",\"yes\": 2 2 2 1 2 1 2 2 2 2 ...\n",
      "  ..$ Bush   : chr [1:8784] \"no\" \"no\" \"no\" \"yes\" ...\n",
      "  ..$ Grass  : Factor w/ 2 levels \"no\",\"yes\": 1 1 1 1 1 1 1 1 1 1 ...\n",
      "  ..$ Anthr  : Factor w/ 2 levels \"no\",\"yes\": 1 1 1 1 1 2 1 1 1 1 ...\n",
      "  ..$ SyndAB2: Factor w/ 2 levels \"Abiotic\",\"Biotic\": 2 2 2 2 2 2 2 2 2 2 ...\n",
      " $ 4 :'data.frame':\t8784 obs. of  8 variables:\n",
      "  ..$ .imp   : int [1:8784] 4 4 4 4 4 4 4 4 4 4 ...\n",
      "  ..$ .id    : Factor w/ 8784 levels \"Abrahamia_buxifolia\",..: 1 2 3 4 5 6 7 8 9 10 ...\n",
      "  ..$ SeWi   : num [1:8784] 10.3 8 12.7 15.3 7.5 ...\n",
      "  ..$ For    : Factor w/ 2 levels \"no\",\"yes\": 2 2 2 1 1 2 2 2 2 2 ...\n",
      "  ..$ Bush   : chr [1:8784] \"no\" \"no\" \"no\" \"yes\" ...\n",
      "  ..$ Grass  : Factor w/ 2 levels \"no\",\"yes\": 1 1 1 1 1 1 1 1 1 1 ...\n",
      "  ..$ Anthr  : Factor w/ 2 levels \"no\",\"yes\": 1 2 1 1 1 1 1 1 1 1 ...\n",
      "  ..$ SyndAB2: Factor w/ 2 levels \"Abiotic\",\"Biotic\": 2 2 2 2 2 2 2 2 2 2 ...\n",
      " $ 5 :'data.frame':\t8784 obs. of  8 variables:\n",
      "  ..$ .imp   : int [1:8784] 5 5 5 5 5 5 5 5 5 5 ...\n",
      "  ..$ .id    : Factor w/ 8784 levels \"Abrahamia_buxifolia\",..: 1 2 3 4 5 6 7 8 9 10 ...\n",
      "  ..$ SeWi   : num [1:8784] 10.3 8 12.7 15.3 10.5 ...\n",
      "  ..$ For    : Factor w/ 2 levels \"no\",\"yes\": 2 2 2 1 2 2 2 2 2 2 ...\n",
      "  ..$ Bush   : chr [1:8784] \"no\" \"no\" \"no\" \"yes\" ...\n",
      "  ..$ Grass  : Factor w/ 2 levels \"no\",\"yes\": 1 1 1 1 1 1 1 1 1 1 ...\n",
      "  ..$ Anthr  : Factor w/ 2 levels \"no\",\"yes\": 1 1 1 1 1 1 1 1 1 1 ...\n",
      "  ..$ SyndAB2: Factor w/ 2 levels \"Abiotic\",\"Biotic\": 2 2 2 2 2 2 2 2 2 2 ...\n",
      " $ 6 :'data.frame':\t8784 obs. of  8 variables:\n",
      "  ..$ .imp   : int [1:8784] 6 6 6 6 6 6 6 6 6 6 ...\n",
      "  ..$ .id    : Factor w/ 8784 levels \"Abrahamia_buxifolia\",..: 1 2 3 4 5 6 7 8 9 10 ...\n",
      "  ..$ SeWi   : num [1:8784] 10.3 8 12.7 15.3 8 ...\n",
      "  ..$ For    : Factor w/ 2 levels \"no\",\"yes\": 2 2 2 1 2 2 2 2 2 2 ...\n",
      "  ..$ Bush   : chr [1:8784] \"no\" \"no\" \"no\" \"yes\" ...\n",
      "  ..$ Grass  : Factor w/ 2 levels \"no\",\"yes\": 1 1 1 1 1 1 1 1 1 1 ...\n",
      "  ..$ Anthr  : Factor w/ 2 levels \"no\",\"yes\": 1 1 1 1 1 1 1 1 1 1 ...\n",
      "  ..$ SyndAB2: Factor w/ 2 levels \"Abiotic\",\"Biotic\": 2 2 2 2 2 2 2 2 2 2 ...\n",
      " $ 7 :'data.frame':\t8784 obs. of  8 variables:\n",
      "  ..$ .imp   : int [1:8784] 7 7 7 7 7 7 7 7 7 7 ...\n",
      "  ..$ .id    : Factor w/ 8784 levels \"Abrahamia_buxifolia\",..: 1 2 3 4 5 6 7 8 9 10 ...\n",
      "  ..$ SeWi   : num [1:8784] 10.3 8 12.7 15.3 10.3 ...\n",
      "  ..$ For    : Factor w/ 2 levels \"no\",\"yes\": 2 2 2 1 2 2 1 2 2 2 ...\n",
      "  ..$ Bush   : chr [1:8784] \"no\" \"no\" \"no\" \"yes\" ...\n",
      "  ..$ Grass  : Factor w/ 2 levels \"no\",\"yes\": 1 1 1 1 1 1 1 1 1 1 ...\n",
      "  ..$ Anthr  : Factor w/ 2 levels \"no\",\"yes\": 1 1 1 1 1 1 1 1 1 1 ...\n",
      "  ..$ SyndAB2: Factor w/ 2 levels \"Abiotic\",\"Biotic\": 2 2 2 2 2 2 2 2 2 2 ...\n",
      " $ 8 :'data.frame':\t8784 obs. of  8 variables:\n",
      "  ..$ .imp   : int [1:8784] 8 8 8 8 8 8 8 8 8 8 ...\n",
      "  ..$ .id    : Factor w/ 8784 levels \"Abrahamia_buxifolia\",..: 1 2 3 4 5 6 7 8 9 10 ...\n",
      "  ..$ SeWi   : num [1:8784] 10.3 8 12.7 15.3 13 ...\n",
      "  ..$ For    : Factor w/ 2 levels \"no\",\"yes\": 2 2 2 1 2 2 2 2 2 2 ...\n",
      "  ..$ Bush   : chr [1:8784] \"no\" \"no\" \"no\" \"yes\" ...\n",
      "  ..$ Grass  : Factor w/ 2 levels \"no\",\"yes\": 1 1 1 1 1 1 1 1 1 1 ...\n",
      "  ..$ Anthr  : Factor w/ 2 levels \"no\",\"yes\": 1 1 1 1 1 1 1 1 1 1 ...\n",
      "  ..$ SyndAB2: Factor w/ 2 levels \"Abiotic\",\"Biotic\": 2 2 2 2 2 2 2 2 2 2 ...\n",
      " $ 9 :'data.frame':\t8784 obs. of  8 variables:\n",
      "  ..$ .imp   : int [1:8784] 9 9 9 9 9 9 9 9 9 9 ...\n",
      "  ..$ .id    : Factor w/ 8784 levels \"Abrahamia_buxifolia\",..: 1 2 3 4 5 6 7 8 9 10 ...\n",
      "  ..$ SeWi   : num [1:8784] 10.3 8 12.7 15.3 8 ...\n",
      "  ..$ For    : Factor w/ 2 levels \"no\",\"yes\": 2 2 2 1 2 2 1 2 2 2 ...\n",
      "  ..$ Bush   : chr [1:8784] \"no\" \"no\" \"no\" \"yes\" ...\n",
      "  ..$ Grass  : Factor w/ 2 levels \"no\",\"yes\": 1 1 1 1 1 1 1 1 1 1 ...\n",
      "  ..$ Anthr  : Factor w/ 2 levels \"no\",\"yes\": 1 1 1 1 1 1 1 1 1 1 ...\n",
      "  ..$ SyndAB2: Factor w/ 2 levels \"Abiotic\",\"Biotic\": 2 2 2 2 2 2 2 2 2 2 ...\n",
      " $ 10:'data.frame':\t8784 obs. of  8 variables:\n",
      "  ..$ .imp   : int [1:8784] 10 10 10 10 10 10 10 10 10 10 ...\n",
      "  ..$ .id    : Factor w/ 8784 levels \"Abrahamia_buxifolia\",..: 1 2 3 4 5 6 7 8 9 10 ...\n",
      "  ..$ SeWi   : num [1:8784] 10.3 8 12.7 15.3 4 ...\n",
      "  ..$ For    : Factor w/ 2 levels \"no\",\"yes\": 2 2 2 1 2 2 2 2 2 2 ...\n",
      "  ..$ Bush   : chr [1:8784] \"no\" \"yes\" \"no\" \"yes\" ...\n",
      "  ..$ Grass  : Factor w/ 2 levels \"no\",\"yes\": 1 1 1 1 1 1 1 1 1 1 ...\n",
      "  ..$ Anthr  : Factor w/ 2 levels \"no\",\"yes\": 1 1 2 1 1 1 1 1 1 1 ...\n",
      "  ..$ SyndAB2: Factor w/ 2 levels \"Abiotic\",\"Biotic\": 2 2 2 2 2 2 2 2 2 2 ...\n",
      " $ 11:'data.frame':\t8784 obs. of  8 variables:\n",
      "  ..$ .imp   : int [1:8784] 11 11 11 11 11 11 11 11 11 11 ...\n",
      "  ..$ .id    : Factor w/ 8784 levels \"Abrahamia_buxifolia\",..: 1 2 3 4 5 6 7 8 9 10 ...\n",
      "  ..$ SeWi   : num [1:8784] 10.3 8 12.7 15.3 5.8 ...\n",
      "  ..$ For    : Factor w/ 2 levels \"no\",\"yes\": 2 2 1 1 2 1 2 2 2 2 ...\n",
      "  ..$ Bush   : chr [1:8784] \"no\" \"no\" \"yes\" \"yes\" ...\n",
      "  ..$ Grass  : Factor w/ 2 levels \"no\",\"yes\": 1 1 1 1 1 1 1 1 1 1 ...\n",
      "  ..$ Anthr  : Factor w/ 2 levels \"no\",\"yes\": 1 1 1 1 1 1 1 1 1 1 ...\n",
      "  ..$ SyndAB2: Factor w/ 2 levels \"Abiotic\",\"Biotic\": 2 2 2 2 2 2 2 2 2 2 ...\n",
      " $ 12:'data.frame':\t8784 obs. of  8 variables:\n",
      "  ..$ .imp   : int [1:8784] 12 12 12 12 12 12 12 12 12 12 ...\n",
      "  ..$ .id    : Factor w/ 8784 levels \"Abrahamia_buxifolia\",..: 1 2 3 4 5 6 7 8 9 10 ...\n",
      "  ..$ SeWi   : num [1:8784] 10.3 8 12.7 15.3 9 ...\n",
      "  ..$ For    : Factor w/ 2 levels \"no\",\"yes\": 2 2 2 1 2 2 2 2 2 2 ...\n",
      "  ..$ Bush   : chr [1:8784] \"no\" \"no\" \"no\" \"yes\" ...\n",
      "  ..$ Grass  : Factor w/ 2 levels \"no\",\"yes\": 1 1 1 1 1 1 1 1 1 1 ...\n",
      "  ..$ Anthr  : Factor w/ 2 levels \"no\",\"yes\": 1 1 1 1 1 1 1 1 1 1 ...\n",
      "  ..$ SyndAB2: Factor w/ 2 levels \"Abiotic\",\"Biotic\": 2 2 2 2 2 2 2 2 2 2 ...\n",
      " $ 13:'data.frame':\t8784 obs. of  8 variables:\n",
      "  ..$ .imp   : int [1:8784] 13 13 13 13 13 13 13 13 13 13 ...\n",
      "  ..$ .id    : Factor w/ 8784 levels \"Abrahamia_buxifolia\",..: 1 2 3 4 5 6 7 8 9 10 ...\n",
      "  ..$ SeWi   : num [1:8784] 10.3 8 12.7 15.3 5.3 ...\n",
      "  ..$ For    : Factor w/ 2 levels \"no\",\"yes\": 2 1 2 1 2 2 2 2 2 2 ...\n",
      "  ..$ Bush   : chr [1:8784] \"no\" \"no\" \"no\" \"yes\" ...\n",
      "  ..$ Grass  : Factor w/ 2 levels \"no\",\"yes\": 1 1 1 1 1 1 1 1 1 1 ...\n",
      "  ..$ Anthr  : Factor w/ 2 levels \"no\",\"yes\": 1 1 1 1 1 1 1 1 1 1 ...\n",
      "  ..$ SyndAB2: Factor w/ 2 levels \"Abiotic\",\"Biotic\": 2 2 2 2 2 2 2 2 2 2 ...\n",
      " $ 14:'data.frame':\t8784 obs. of  8 variables:\n",
      "  ..$ .imp   : int [1:8784] 14 14 14 14 14 14 14 14 14 14 ...\n",
      "  ..$ .id    : Factor w/ 8784 levels \"Abrahamia_buxifolia\",..: 1 2 3 4 5 6 7 8 9 10 ...\n",
      "  ..$ SeWi   : num [1:8784] 10.3 8 12.7 15.3 8 ...\n",
      "  ..$ For    : Factor w/ 2 levels \"no\",\"yes\": 2 2 2 1 2 2 2 2 2 2 ...\n",
      "  ..$ Bush   : chr [1:8784] \"no\" \"no\" \"no\" \"yes\" ...\n",
      "  ..$ Grass  : Factor w/ 2 levels \"no\",\"yes\": 1 1 1 1 1 1 1 1 1 1 ...\n",
      "  ..$ Anthr  : Factor w/ 2 levels \"no\",\"yes\": 1 1 1 1 1 1 1 2 1 1 ...\n",
      "  ..$ SyndAB2: Factor w/ 2 levels \"Abiotic\",\"Biotic\": 2 2 2 2 2 2 2 2 2 2 ...\n",
      " $ 15:'data.frame':\t8784 obs. of  8 variables:\n",
      "  ..$ .imp   : int [1:8784] 15 15 15 15 15 15 15 15 15 15 ...\n",
      "  ..$ .id    : Factor w/ 8784 levels \"Abrahamia_buxifolia\",..: 1 2 3 4 5 6 7 8 9 10 ...\n",
      "  ..$ SeWi   : num [1:8784] 10.3 8 12.7 15.3 11.5 ...\n",
      "  ..$ For    : Factor w/ 2 levels \"no\",\"yes\": 2 2 2 1 2 2 2 2 2 2 ...\n",
      "  ..$ Bush   : chr [1:8784] \"no\" \"no\" \"no\" \"yes\" ...\n",
      "  ..$ Grass  : Factor w/ 2 levels \"no\",\"yes\": 1 1 1 1 1 1 1 1 1 1 ...\n",
      "  ..$ Anthr  : Factor w/ 2 levels \"no\",\"yes\": 1 1 1 1 2 1 1 1 1 1 ...\n",
      "  ..$ SyndAB2: Factor w/ 2 levels \"Abiotic\",\"Biotic\": 2 2 2 2 2 2 2 2 2 2 ...\n",
      " $ 16:'data.frame':\t8784 obs. of  8 variables:\n",
      "  ..$ .imp   : int [1:8784] 16 16 16 16 16 16 16 16 16 16 ...\n",
      "  ..$ .id    : Factor w/ 8784 levels \"Abrahamia_buxifolia\",..: 1 2 3 4 5 6 7 8 9 10 ...\n",
      "  ..$ SeWi   : num [1:8784] 10.3 8 12.7 15.3 8.6 ...\n",
      "  ..$ For    : Factor w/ 2 levels \"no\",\"yes\": 2 2 1 1 2 2 2 2 2 2 ...\n",
      "  ..$ Bush   : chr [1:8784] \"no\" \"no\" \"yes\" \"yes\" ...\n",
      "  ..$ Grass  : Factor w/ 2 levels \"no\",\"yes\": 1 1 1 1 1 1 1 1 1 1 ...\n",
      "  ..$ Anthr  : Factor w/ 2 levels \"no\",\"yes\": 1 1 1 1 1 1 1 1 1 1 ...\n",
      "  ..$ SyndAB2: Factor w/ 2 levels \"Abiotic\",\"Biotic\": 2 2 2 2 2 2 2 2 2 2 ...\n",
      " $ 17:'data.frame':\t8784 obs. of  8 variables:\n",
      "  ..$ .imp   : int [1:8784] 17 17 17 17 17 17 17 17 17 17 ...\n",
      "  ..$ .id    : Factor w/ 8784 levels \"Abrahamia_buxifolia\",..: 1 2 3 4 5 6 7 8 9 10 ...\n",
      "  ..$ SeWi   : num [1:8784] 10.3 8 12.7 15.3 13 ...\n",
      "  ..$ For    : Factor w/ 2 levels \"no\",\"yes\": 2 2 2 1 2 2 2 2 2 2 ...\n",
      "  ..$ Bush   : chr [1:8784] \"no\" \"no\" \"no\" \"yes\" ...\n",
      "  ..$ Grass  : Factor w/ 2 levels \"no\",\"yes\": 1 1 1 1 1 1 1 1 1 1 ...\n",
      "  ..$ Anthr  : Factor w/ 2 levels \"no\",\"yes\": 1 1 1 1 1 1 1 1 1 1 ...\n",
      "  ..$ SyndAB2: Factor w/ 2 levels \"Abiotic\",\"Biotic\": 2 2 2 2 2 2 2 2 2 2 ...\n",
      " $ 18:'data.frame':\t8784 obs. of  8 variables:\n",
      "  ..$ .imp   : int [1:8784] 18 18 18 18 18 18 18 18 18 18 ...\n",
      "  ..$ .id    : Factor w/ 8784 levels \"Abrahamia_buxifolia\",..: 1 2 3 4 5 6 7 8 9 10 ...\n",
      "  ..$ SeWi   : num [1:8784] 10.3 8 12.7 15.3 8.8 ...\n",
      "  ..$ For    : Factor w/ 2 levels \"no\",\"yes\": 2 2 2 1 2 1 1 2 2 2 ...\n",
      "  ..$ Bush   : chr [1:8784] \"no\" \"no\" \"no\" \"yes\" ...\n",
      "  ..$ Grass  : Factor w/ 2 levels \"no\",\"yes\": 1 1 1 1 1 1 1 1 1 1 ...\n",
      "  ..$ Anthr  : Factor w/ 2 levels \"no\",\"yes\": 1 1 1 1 2 1 1 1 1 1 ...\n",
      "  ..$ SyndAB2: Factor w/ 2 levels \"Abiotic\",\"Biotic\": 2 2 2 2 2 2 2 2 2 2 ...\n",
      " $ 19:'data.frame':\t8784 obs. of  8 variables:\n",
      "  ..$ .imp   : int [1:8784] 19 19 19 19 19 19 19 19 19 19 ...\n",
      "  ..$ .id    : Factor w/ 8784 levels \"Abrahamia_buxifolia\",..: 1 2 3 4 5 6 7 8 9 10 ...\n",
      "  ..$ SeWi   : num [1:8784] 10.3 8 12.7 15.3 8 ...\n",
      "  ..$ For    : Factor w/ 2 levels \"no\",\"yes\": 2 1 2 1 2 1 2 2 2 2 ...\n",
      "  ..$ Bush   : chr [1:8784] \"no\" \"no\" \"no\" \"yes\" ...\n",
      "  ..$ Grass  : Factor w/ 2 levels \"no\",\"yes\": 1 1 1 1 1 1 1 1 1 1 ...\n",
      "  ..$ Anthr  : Factor w/ 2 levels \"no\",\"yes\": 1 1 1 1 1 1 1 1 1 1 ...\n",
      "  ..$ SyndAB2: Factor w/ 2 levels \"Abiotic\",\"Biotic\": 2 2 2 2 2 2 2 2 2 2 ...\n",
      " $ 20:'data.frame':\t8784 obs. of  8 variables:\n",
      "  ..$ .imp   : int [1:8784] 20 20 20 20 20 20 20 20 20 20 ...\n",
      "  ..$ .id    : Factor w/ 8784 levels \"Abrahamia_buxifolia\",..: 1 2 3 4 5 6 7 8 9 10 ...\n",
      "  ..$ SeWi   : num [1:8784] 10.3 8 12.7 15.3 5 ...\n",
      "  ..$ For    : Factor w/ 2 levels \"no\",\"yes\": 2 2 2 1 2 2 2 2 2 2 ...\n",
      "  ..$ Bush   : chr [1:8784] \"no\" \"no\" \"no\" \"yes\" ...\n",
      "  ..$ Grass  : Factor w/ 2 levels \"no\",\"yes\": 1 1 1 1 1 1 1 1 1 1 ...\n",
      "  ..$ Anthr  : Factor w/ 2 levels \"no\",\"yes\": 1 1 2 1 1 1 1 1 1 1 ...\n",
      "  ..$ SyndAB2: Factor w/ 2 levels \"Abiotic\",\"Biotic\": 2 2 2 2 2 2 2 2 2 2 ...\n"
     ]
    }
   ],
   "source": [
    "# Load data\n",
    "traitveg<-read.csv(\"PT-data-miceP.csv\")\n",
    "\n",
    "# Prepare a dataset with the variables needed: Seed width, the various vegetation formations (For, Bush, Grass, Anthr), and whether a plant is endozoochorous or not (SyndAB2)\n",
    "traitveg$Veg_Bush2 <- ifelse(traitveg$Veg_Bush==\"yes\"|traitveg$Veg_Shrub==\"yes\",\"yes\",\"no\") #combine Shrubland with Bushland (to have a match with the vegetation formations in the vegetation map) \n",
    "traitveg <- traitveg[,c(\".imp\",\".id\", \"SeWi\", \"Veg_Forest\",\"Veg_Bush2\",\"Veg_Grass\",\"Veg_Anthr\", \"SyndAB2\")]\n",
    "colnames(traitveg) <- c(\".imp\", \".id\", \"SeWi\", \"For\", \"Bush\", \"Grass\", \"Anthr\", \"SyndAB2\")\n",
    "traitveg<-split(traitveg, list(traitveg$.imp))\n",
    "traitveg<-traitveg[-1]\n",
    "str(traitveg)"
   ]
  },
  {
   "cell_type": "code",
   "execution_count": null,
   "metadata": {
    "collapsed": true
   },
   "outputs": [],
   "source": [
    "# For each of the 20 imputed datasets, create a file with the data (this is to avoid subsequent memory issues)\n",
    "for (d in 1:20) {\n",
    "namefilev <- paste(\"traitveg\", d, \".csv\", sep=\"\")\n",
    "write.csv(traitveg[[d]], file=namefilev, row.names=TRUE)\n",
    "}"
   ]
  },
  {
   "cell_type": "markdown",
   "metadata": {},
   "source": [
    "We have to download points of occurrence of Madagascan plant species (i.e. locations where individuals of a given species have been observed) on GBIF http://www.gbif.org/occurrence/search?TAXON_KEY=6&COUNTRY=MG."
   ]
  },
  {
   "cell_type": "code",
   "execution_count": null,
   "metadata": {
    "collapsed": true
   },
   "outputs": [],
   "source": [
    "# Load points of occurrence of Madagascan plant species\n",
    "dat <- read.table(\"Plant_occurrences.txt\", sep=\"\\t\", header=TRUE, fill=TRUE,quote = \"\")\t\n",
    "dat <- dat[,c(\"species\", \"decimalLatitude\", \"decimalLongitude\")]\n",
    "\n",
    "# replace \" \" by \"_\" in species name to match species names in our datasets\n",
    "dat$species <- gsub(\" \", \"_\", dat$species)            \n",
    "\n",
    "# remove species with no distribution data\n",
    "dat <- subset(dat, decimalLatitude != \"NA\" & decimalLongitude != \"NA\")      \n",
    "\n",
    "# Save distribution data\n",
    "write.table(dat, file=\"Plant_coord.txt\", sep=\"\\t\")"
   ]
  },
  {
   "cell_type": "markdown",
   "metadata": {},
   "source": [
    "<br>\n",
    "### Vegetation formations"
   ]
  },
  {
   "cell_type": "markdown",
   "metadata": {},
   "source": [
    "###### 1) Create rasters for each vegetation type\n",
    "\n",
    "We first download the vegetation map on http://www.vegmad.org/datasets_gis.html.<br>"
   ]
  },
  {
   "cell_type": "code",
   "execution_count": 4,
   "metadata": {
    "collapsed": false
   },
   "outputs": [
    {
     "data": {
      "text/html": [
       "<table>\n",
       "<thead><tr><th scope=col>VALUE</th><th scope=col>COUNT</th><th scope=col>RED</th><th scope=col>GREEN</th><th scope=col>BLUE</th><th scope=col>OPACITY</th><th scope=col>NAME12</th><th scope=col>CHAPTER12</th><th scope=col>WEBSITE_N1</th><th scope=col>ORDER2</th><th scope=col>RECLASS1</th></tr></thead>\n",
       "<tbody>\n",
       "\t<tr><td>0                                                                    </td><td>975559657                                                            </td><td>1.00                                                                 </td><td>1.00                                                                 </td><td>1.00                                                                 </td><td>1                                                                    </td><td><span style=white-space:pre-wrap>Background        </span>           </td><td>&lt;NA&gt;                                                           </td><td><span style=white-space:pre-wrap>Unknown                      </span></td><td>20                                                                   </td><td>0                                                                    </td></tr>\n",
       "\t<tr><td>1                                                                    </td><td><span style=white-space:pre-wrap>  4039415</span>                    </td><td>0.25                                                                 </td><td>0.88                                                                 </td><td>0.82                                                                 </td><td>1                                                                    </td><td><span style=white-space:pre-wrap>Water             </span>           </td><td>&lt;NA&gt;                                                           </td><td><span style=white-space:pre-wrap>12 Water                     </span></td><td>17                                                                   </td><td>0                                                                    </td></tr>\n",
       "\t<tr><td>2                                                                    </td><td><span style=white-space:pre-wrap>  6774651</span>                    </td><td>0.83                                                                 </td><td>0.83                                                                 </td><td>0.83                                                                 </td><td>1                                                                    </td><td><span style=white-space:pre-wrap>Bare Soil/Rock    </span>           </td><td>&lt;NA&gt;                                                           </td><td><span style=white-space:pre-wrap>12 Bare Soil/Rock            </span></td><td>16                                                                   </td><td>0                                                                    </td></tr>\n",
       "\t<tr><td>3                            </td><td>  2893166                    </td><td>0.93                         </td><td>0.51                         </td><td>0.93                         </td><td>1                            </td><td>Mangroves                    </td><td>5.14                         </td><td>7 Mangroves                  </td><td>11                           </td><td>3                            </td></tr>\n",
       "\t<tr><td>4                                                         </td><td> 27969115                                                 </td><td>0.63                                                      </td><td>0.13                                                      </td><td>0.94                                                      </td><td>1                                                         </td><td><span style=white-space:pre-wrap>Cultivation       </span></td><td>5.15                                                      </td><td>11 Anthropic&amp;Cultivated Areas                         </td><td>15                                                        </td><td>0                                                         </td></tr>\n",
       "\t<tr><td>5                            </td><td> 31235887                    </td><td>0.65                         </td><td>0.16                         </td><td>0.16                         </td><td>1                            </td><td>Western dry forest           </td><td>5.8                          </td><td>1 Western Dry Forest         </td><td> 3                           </td><td>5                            </td></tr>\n",
       "</tbody>\n",
       "</table>\n"
      ],
      "text/latex": [
       "\\begin{tabular}{r|lllllllllll}\n",
       " VALUE & COUNT & RED & GREEN & BLUE & OPACITY & NAME12 & CHAPTER12 & WEBSITE\\_N1 & ORDER2 & RECLASS1\\\\\n",
       "\\hline\n",
       "\t 0                             & 975559657                     & 1.00                          & 1.00                          & 1.00                          & 1                             & Background                    & <NA>                          & Unknown                       & 20                            & 0                            \\\\\n",
       "\t 1                             &   4039415                     & 0.25                          & 0.88                          & 0.82                          & 1                             & Water                         & <NA>                          & 12 Water                      & 17                            & 0                            \\\\\n",
       "\t 2                             &   6774651                     & 0.83                          & 0.83                          & 0.83                          & 1                             & Bare Soil/Rock                & <NA>                          & 12 Bare Soil/Rock             & 16                            & 0                            \\\\\n",
       "\t 3                             &   2893166                     & 0.93                          & 0.51                          & 0.93                          & 1                             & Mangroves                     & 5.14                          & 7 Mangroves                   & 11                            & 3                            \\\\\n",
       "\t 4                               &  27969115                       & 0.63                            & 0.13                            & 0.94                            & 1                               & Cultivation                     & 5.15                            & 11 Anthropic\\&Cultivated Areas & 15                              & 0                              \\\\\n",
       "\t 5                             &  31235887                     & 0.65                          & 0.16                          & 0.16                          & 1                             & Western dry forest            & 5.8                           & 1 Western Dry Forest          &  3                            & 5                            \\\\\n",
       "\\end{tabular}\n"
      ],
      "text/markdown": [
       "\n",
       "VALUE | COUNT | RED | GREEN | BLUE | OPACITY | NAME12 | CHAPTER12 | WEBSITE_N1 | ORDER2 | RECLASS1 | \n",
       "|---|---|---|---|---|---|\n",
       "| 0                             | 975559657                     | 1.00                          | 1.00                          | 1.00                          | 1                             | Background                    | <NA>                          | Unknown                       | 20                            | 0                             | \n",
       "| 1                             |   4039415                     | 0.25                          | 0.88                          | 0.82                          | 1                             | Water                         | <NA>                          | 12 Water                      | 17                            | 0                             | \n",
       "| 2                             |   6774651                     | 0.83                          | 0.83                          | 0.83                          | 1                             | Bare Soil/Rock                | <NA>                          | 12 Bare Soil/Rock             | 16                            | 0                             | \n",
       "| 3                             |   2893166                     | 0.93                          | 0.51                          | 0.93                          | 1                             | Mangroves                     | 5.14                          | 7 Mangroves                   | 11                            | 3                             | \n",
       "| 4                             |  27969115                     | 0.63                          | 0.13                          | 0.94                          | 1                             | Cultivation                   | 5.15                          | 11 Anthropic&Cultivated Areas | 15                            | 0                             | \n",
       "| 5                             |  31235887                     | 0.65                          | 0.16                          | 0.16                          | 1                             | Western dry forest            | 5.8                           | 1 Western Dry Forest          |  3                            | 5                             | \n",
       "\n",
       "\n"
      ],
      "text/plain": [
       "  VALUE COUNT     RED  GREEN BLUE OPACITY NAME12             CHAPTER12\n",
       "1 0     975559657 1.00 1.00  1.00 1       Background         <NA>     \n",
       "2 1       4039415 0.25 0.88  0.82 1       Water              <NA>     \n",
       "3 2       6774651 0.83 0.83  0.83 1       Bare Soil/Rock     <NA>     \n",
       "4 3       2893166 0.93 0.51  0.93 1       Mangroves          5.14     \n",
       "5 4      27969115 0.63 0.13  0.94 1       Cultivation        5.15     \n",
       "6 5      31235887 0.65 0.16  0.16 1       Western dry forest 5.8      \n",
       "  WEBSITE_N1                    ORDER2 RECLASS1\n",
       "1 Unknown                       20     0       \n",
       "2 12 Water                      17     0       \n",
       "3 12 Bare Soil/Rock             16     0       \n",
       "4 7 Mangroves                   11     3       \n",
       "5 11 Anthropic&Cultivated Areas 15     0       \n",
       "6 1 Western Dry Forest           3     5       "
      ]
     },
     "metadata": {},
     "output_type": "display_data"
    }
   ],
   "source": [
    "## Check the map information\n",
    "cat0 <- read.csv(\"TIF-VegetationTypesValuesOriginal.csv\", sep=\";\")\n",
    "head(cat0)"
   ]
  },
  {
   "cell_type": "markdown",
   "metadata": {},
   "source": [
    "There are too many vegetation types (26). We don't need highly accurate vegetation types so we will combine some of them by adding new values to the file. For example, the vegetation types 7, 11, 12 and 19 are all different kinds of bushes so we assign an identical new value (4) to all of them."
   ]
  },
  {
   "cell_type": "code",
   "execution_count": 14,
   "metadata": {
    "collapsed": false
   },
   "outputs": [
    {
     "data": {
      "text/html": [
       "<table>\n",
       "<thead><tr><th scope=col>VALUE</th><th scope=col>COUNT</th><th scope=col>RED</th><th scope=col>GREEN</th><th scope=col>BLUE</th><th scope=col>OPACITY</th><th scope=col>NAME12</th><th scope=col>CHAPTER12</th><th scope=col>WEBSITE_N1</th><th scope=col>ORDER2</th><th scope=col>RECLASS1</th><th scope=col>Lemurs</th><th scope=col>PlantTrait_types</th><th scope=col>New.value</th><th scope=col>New.valueFor</th><th scope=col>New.valueBush</th><th scope=col>New.valueGrass</th><th scope=col>New.valueAnthr</th><th scope=col>New.valueBase</th></tr></thead>\n",
       "<tbody>\n",
       "\t<tr><td> 0                                                                                    </td><td>975559657                                                                             </td><td>1.00                                                                                  </td><td>1.00                                                                                  </td><td>1.00                                                                                  </td><td>1                                                                                     </td><td><span style=white-space:pre-wrap>Background                               </span>     </td><td>&lt;NA&gt;                                                                            </td><td><span style=white-space:pre-wrap>Unknown                                       </span></td><td>20                                                                                    </td><td> 0                                                                                    </td><td>0                                                                                     </td><td><span style=white-space:pre-wrap>NA        </span>                                    </td><td>NA                                                                                    </td><td>0                                                                                     </td><td>0                                                                                     </td><td>0                                                                                     </td><td>0                                                                                     </td><td>0                                                                                     </td></tr>\n",
       "\t<tr><td> 1                                                                                    </td><td><span style=white-space:pre-wrap>  4039415</span>                                     </td><td>0.25                                                                                  </td><td>0.88                                                                                  </td><td>0.82                                                                                  </td><td>1                                                                                     </td><td><span style=white-space:pre-wrap>Water                                    </span>     </td><td>&lt;NA&gt;                                                                            </td><td><span style=white-space:pre-wrap>12 Water                                      </span></td><td>17                                                                                    </td><td> 0                                                                                    </td><td>0                                                                                     </td><td><span style=white-space:pre-wrap>NA        </span>                                    </td><td>NA                                                                                    </td><td>0                                                                                     </td><td>0                                                                                     </td><td>0                                                                                     </td><td>0                                                                                     </td><td>0                                                                                     </td></tr>\n",
       "\t<tr><td> 2                                                                                    </td><td><span style=white-space:pre-wrap>  6774651</span>                                     </td><td>0.83                                                                                  </td><td>0.83                                                                                  </td><td>0.83                                                                                  </td><td>1                                                                                     </td><td><span style=white-space:pre-wrap>Bare Soil/Rock                           </span>     </td><td>&lt;NA&gt;                                                                            </td><td><span style=white-space:pre-wrap>12 Bare Soil/Rock                             </span></td><td>16                                                                                    </td><td> 0                                                                                    </td><td>0                                                                                     </td><td><span style=white-space:pre-wrap>NA        </span>                                    </td><td>NA                                                                                    </td><td>0                                                                                     </td><td>0                                                                                     </td><td>0                                                                                     </td><td>0                                                                                     </td><td>0                                                                                     </td></tr>\n",
       "\t<tr><td> 3                                            </td><td>  2893166                                     </td><td>0.93                                          </td><td>0.51                                          </td><td>0.93                                          </td><td>1                                             </td><td>Mangroves                                     </td><td>5.14                                          </td><td>7 Mangroves                                   </td><td>11                                            </td><td> 3                                            </td><td>0                                             </td><td>Veg_Mang                                      </td><td>NA                                            </td><td>0                                             </td><td>0                                             </td><td>0                                             </td><td>0                                             </td><td>0                                             </td></tr>\n",
       "\t<tr><td> 4                                                                                        </td><td> 27969115                                                                                 </td><td>0.63                                                                                      </td><td>0.13                                                                                      </td><td>0.94                                                                                      </td><td>1                                                                                         </td><td><span style=white-space:pre-wrap>Cultivation                              </span>         </td><td>5.15                                                                                      </td><td><span style=white-space:pre-wrap>11 Anthropic&amp;Cultivated Areas                 </span></td><td>15                                                                                        </td><td> 0                                                                                        </td><td>0                                                                                         </td><td>Veg_Anthr                                                                                 </td><td> 1                                                                                        </td><td>0                                                                                         </td><td>0                                                                                         </td><td>0                                                                                         </td><td>1                                                                                         </td><td>0                                                                                         </td></tr>\n",
       "\t<tr><td> 5                                            </td><td> 31235887                                     </td><td>0.65                                          </td><td>0.16                                          </td><td>0.16                                          </td><td>1                                             </td><td>Western dry forest                            </td><td>5.8                                           </td><td>1 Western Dry Forest                          </td><td> 3                                            </td><td> 5                                            </td><td>1                                             </td><td>Veg_Forest                                    </td><td> 4                                            </td><td>4                                             </td><td>0                                             </td><td>0                                             </td><td>0                                             </td><td>0                                             </td></tr>\n",
       "\t<tr><td> 6                                            </td><td>293326191                                     </td><td>0.82                                          </td><td>0.70                                          </td><td>0.55                                          </td><td>1                                             </td><td>Plateau grassland-wooded grassland mosaic     </td><td>5.5                                           </td><td>6/3a Plateau grassland-wooded grassland mosaic</td><td>14                                            </td><td> 0                                            </td><td>0                                             </td><td>Veg_Grass                                     </td><td> 2                                            </td><td>0                                             </td><td>0                                             </td><td>2                                             </td><td>0                                             </td><td>0                                             </td></tr>\n",
       "\t<tr><td> 7                                            </td><td>161401940                                     </td><td>0.95                                          </td><td>0.95                                          </td><td>0.86                                          </td><td>1                                             </td><td>Wooded grassland-bushland                     </td><td>5.4                                           </td><td>6/5 Wooded grassland-bushland                 </td><td>13                                            </td><td> 0                                            </td><td>0                                             </td><td>Veg_Bush2                                     </td><td> 3                                            </td><td>0                                             </td><td>3                                             </td><td>0                                             </td><td>0                                             </td><td>0                                             </td></tr>\n",
       "\t<tr><td> 9                                            </td><td>    85762                                     </td><td>0.25                                          </td><td>0.88                                          </td><td>0.82                                          </td><td>1                                             </td><td>Western humid forest                          </td><td>5.7                                           </td><td>1 Western humid forest                        </td><td> 4                                            </td><td>14                                            </td><td>1                                             </td><td>Veg_Forest                                    </td><td> 4                                            </td><td>4                                             </td><td>0                                             </td><td>0                                             </td><td>0                                             </td><td>0                                             </td></tr>\n",
       "\t<tr><td>10                                            </td><td>  6777964                                     </td><td>0.65                                          </td><td>0.16                                          </td><td>0.16                                          </td><td>1                                             </td><td>Western dry forest                            </td><td>5.8                                           </td><td>1 Western Dry Forest                          </td><td> 1                                            </td><td> 5                                            </td><td>1                                             </td><td>Veg_Forest                                    </td><td> 4                                            </td><td>4                                             </td><td>0                                             </td><td>0                                             </td><td>0                                             </td><td>0                                             </td></tr>\n",
       "\t<tr><td>11                                            </td><td>  6453626                                     </td><td>1.00                                          </td><td>0.65                                          </td><td>0.00                                          </td><td>1                                             </td><td>Degraded south western dry spiny forest       </td><td>5.11                                          </td><td>12 Degraded south western dry spiny forest    </td><td>10                                            </td><td>12                                            </td><td>1                                             </td><td>Veg_Bush2                                     </td><td> 3                                            </td><td>0                                             </td><td>3                                             </td><td>0                                             </td><td>0                                             </td><td>0                                             </td></tr>\n",
       "\t<tr><td>12                                            </td><td> 21825208                                     </td><td>0.63                                          </td><td>0.32                                          </td><td>0.17                                          </td><td>1                                             </td><td>South western dry spiny forest-thicket        </td><td>5.1                                           </td><td>1/3b South western dry spiny forest-thicket   </td><td> 6                                            </td><td>12                                            </td><td>1                                             </td><td>Veg_Bush2                                     </td><td> 3                                            </td><td>0                                             </td><td>3                                             </td><td>0                                             </td><td>0                                             </td><td>0                                             </td></tr>\n",
       "\t<tr><td>13                                            </td><td>  6585863                                     </td><td>0.75                                          </td><td>0.75                                          </td><td>0.75                                          </td><td>1                                             </td><td>Wetlands                                      </td><td>5.13                                          </td><td>8/9 Wetlands/Marshlands                       </td><td>12                                            </td><td>13                                            </td><td>0                                             </td><td>NA                                            </td><td>NA                                            </td><td>0                                             </td><td>0                                             </td><td>0                                             </td><td>0                                             </td><td>0                                             </td></tr>\n",
       "\t<tr><td>14                                            </td><td> 56762011                                     </td><td>0.00                                          </td><td>0.39                                          </td><td>0.00                                          </td><td>1                                             </td><td>Humid forest                                  </td><td>5.1                                           </td><td>1 Humid Forest                                </td><td> 3                                            </td><td>14                                            </td><td>1                                             </td><td>Veg_Forest                                    </td><td> 4                                            </td><td>4                                             </td><td>0                                             </td><td>0                                             </td><td>0                                             </td><td>0                                             </td></tr>\n",
       "\t<tr><td>15                                            </td><td>   325492                                     </td><td>1.00                                          </td><td>0.00                                          </td><td>1.00                                          </td><td>1                                             </td><td>Littoral forest                               </td><td>5.3                                           </td><td>1 Littoral forest                             </td><td> 2                                            </td><td>15                                            </td><td>1                                             </td><td>Veg_Forest                                    </td><td> 4                                            </td><td>4                                             </td><td>0                                             </td><td>0                                             </td><td>0                                             </td><td>0                                             </td></tr>\n",
       "\t<tr><td>16                                            </td><td> 69033947                                     </td><td>0.50                                          </td><td>1.00                                          </td><td>0.00                                          </td><td>1                                             </td><td>Degraded humid forest                         </td><td>5.2                                           </td><td>12 Degraded Humid Forest                      </td><td> 9                                            </td><td>14                                            </td><td>1                                             </td><td>Veg_Forest                                    </td><td> 4                                            </td><td>4                                             </td><td>0                                             </td><td>0                                             </td><td>0                                             </td><td>0                                             </td></tr>\n",
       "\t<tr><td>18                                                                                    </td><td><span style=white-space:pre-wrap>     9863</span>                                     </td><td>1.00                                                                                  </td><td>1.00                                                                                  </td><td>1.00                                                                                  </td><td>1                                                                                     </td><td><span style=white-space:pre-wrap>Clouds/Unclassified                      </span>     </td><td>&lt;NA&gt;                                                                            </td><td><span style=white-space:pre-wrap>12 Clouds                                     </span></td><td>18                                                                                    </td><td> 0                                                                                    </td><td>0                                                                                     </td><td><span style=white-space:pre-wrap>NA        </span>                                    </td><td>NA                                                                                    </td><td>0                                                                                     </td><td>0                                                                                     </td><td>0                                                                                     </td><td>0                                                                                     </td><td>0                                                                                     </td></tr>\n",
       "\t<tr><td>19                                            </td><td>  2094042                                     </td><td>0.95                                          </td><td>0.95                                          </td><td>0.86                                          </td><td>1                                             </td><td>South western coastal bushland                </td><td>5.12                                          </td><td>3a South western coastal bushland             </td><td> 7                                            </td><td>12                                            </td><td>0                                             </td><td>Veg_Bush2                                     </td><td> 3                                            </td><td>0                                             </td><td>3                                             </td><td>0                                             </td><td>0                                             </td><td>0                                             </td></tr>\n",
       "\t<tr><td>22                                            </td><td>  4768509                                     </td><td>0.00                                          </td><td>1.00                                          </td><td>0.00                                          </td><td>1                                             </td><td>Western sub-humid forest                      </td><td>5.9                                           </td><td>1 Western sub-humid forest                    </td><td> 5                                            </td><td>22                                            </td><td>1                                             </td><td>Veg_Forest                                    </td><td> 4                                            </td><td>4                                             </td><td>0                                             </td><td>0                                             </td><td>0                                             </td><td>0                                             </td></tr>\n",
       "\t<tr><td>23                                            </td><td>  1568196                                     </td><td>1.00                                          </td><td>1.00                                          </td><td>0.00                                          </td><td>1                                             </td><td>Tapia forest                                  </td><td>5.6                                           </td><td>1 Tapia forest                                </td><td> 8                                            </td><td>23                                            </td><td>1                                             </td><td>Veg_Forest                                    </td><td> 4                                            </td><td>4                                             </td><td>0                                             </td><td>0                                             </td><td>0                                             </td><td>0                                             </td></tr>\n",
       "\t<tr><td>25                                                                                    </td><td>119368727                                                                             </td><td>0.25                                                                                  </td><td>0.88                                                                                  </td><td>0.82                                                                                  </td><td>1                                                                                     </td><td><span style=white-space:pre-wrap>Coastal buffer                           </span>     </td><td>&lt;NA&gt;                                                                            </td><td><span style=white-space:pre-wrap>12 Sea                                        </span></td><td>19                                                                                    </td><td> 0                                                                                    </td><td>0                                                                                     </td><td><span style=white-space:pre-wrap>NA        </span>                                    </td><td>NA                                                                                    </td><td>0                                                                                     </td><td>0                                                                                     </td><td>0                                                                                     </td><td>0                                                                                     </td><td>0                                                                                     </td></tr>\n",
       "</tbody>\n",
       "</table>\n"
      ],
      "text/latex": [
       "\\begin{tabular}{r|lllllllllllllllllll}\n",
       " VALUE & COUNT & RED & GREEN & BLUE & OPACITY & NAME12 & CHAPTER12 & WEBSITE\\_N1 & ORDER2 & RECLASS1 & Lemurs & PlantTrait\\_types & New.value & New.valueFor & New.valueBush & New.valueGrass & New.valueAnthr & New.valueBase\\\\\n",
       "\\hline\n",
       "\t  0                                             & 975559657                                      & 1.00                                           & 1.00                                           & 1.00                                           & 1                                              & Background                                     & <NA>                                           & Unknown                                        & 20                                             &  0                                             & 0                                              & NA                                             & NA                                             & 0                                              & 0                                              & 0                                              & 0                                              & 0                                             \\\\\n",
       "\t  1                                             &   4039415                                      & 0.25                                           & 0.88                                           & 0.82                                           & 1                                              & Water                                          & <NA>                                           & 12 Water                                       & 17                                             &  0                                             & 0                                              & NA                                             & NA                                             & 0                                              & 0                                              & 0                                              & 0                                              & 0                                             \\\\\n",
       "\t  2                                             &   6774651                                      & 0.83                                           & 0.83                                           & 0.83                                           & 1                                              & Bare Soil/Rock                                 & <NA>                                           & 12 Bare Soil/Rock                              & 16                                             &  0                                             & 0                                              & NA                                             & NA                                             & 0                                              & 0                                              & 0                                              & 0                                              & 0                                             \\\\\n",
       "\t  3                                             &   2893166                                      & 0.93                                           & 0.51                                           & 0.93                                           & 1                                              & Mangroves                                      & 5.14                                           & 7 Mangroves                                    & 11                                             &  3                                             & 0                                              & Veg\\_Mang                                     & NA                                             & 0                                              & 0                                              & 0                                              & 0                                              & 0                                             \\\\\n",
       "\t  4                                               &  27969115                                        & 0.63                                             & 0.13                                             & 0.94                                             & 1                                                & Cultivation                                      & 5.15                                             & 11 Anthropic\\&Cultivated Areas                  & 15                                               &  0                                               & 0                                                & Veg\\_Anthr                                      &  1                                               & 0                                                & 0                                                & 0                                                & 1                                                & 0                                               \\\\\n",
       "\t  5                                             &  31235887                                      & 0.65                                           & 0.16                                           & 0.16                                           & 1                                              & Western dry forest                             & 5.8                                            & 1 Western Dry Forest                           &  3                                             &  5                                             & 1                                              & Veg\\_Forest                                   &  4                                             & 4                                              & 0                                              & 0                                              & 0                                              & 0                                             \\\\\n",
       "\t  6                                             & 293326191                                      & 0.82                                           & 0.70                                           & 0.55                                           & 1                                              & Plateau grassland-wooded grassland mosaic      & 5.5                                            & 6/3a Plateau grassland-wooded grassland mosaic & 14                                             &  0                                             & 0                                              & Veg\\_Grass                                    &  2                                             & 0                                              & 0                                              & 2                                              & 0                                              & 0                                             \\\\\n",
       "\t  7                                             & 161401940                                      & 0.95                                           & 0.95                                           & 0.86                                           & 1                                              & Wooded grassland-bushland                      & 5.4                                            & 6/5 Wooded grassland-bushland                  & 13                                             &  0                                             & 0                                              & Veg\\_Bush2                                    &  3                                             & 0                                              & 3                                              & 0                                              & 0                                              & 0                                             \\\\\n",
       "\t  9                                             &     85762                                      & 0.25                                           & 0.88                                           & 0.82                                           & 1                                              & Western humid forest                           & 5.7                                            & 1 Western humid forest                         &  4                                             & 14                                             & 1                                              & Veg\\_Forest                                   &  4                                             & 4                                              & 0                                              & 0                                              & 0                                              & 0                                             \\\\\n",
       "\t 10                                             &   6777964                                      & 0.65                                           & 0.16                                           & 0.16                                           & 1                                              & Western dry forest                             & 5.8                                            & 1 Western Dry Forest                           &  1                                             &  5                                             & 1                                              & Veg\\_Forest                                   &  4                                             & 4                                              & 0                                              & 0                                              & 0                                              & 0                                             \\\\\n",
       "\t 11                                             &   6453626                                      & 1.00                                           & 0.65                                           & 0.00                                           & 1                                              & Degraded south western dry spiny forest        & 5.11                                           & 12 Degraded south western dry spiny forest     & 10                                             & 12                                             & 1                                              & Veg\\_Bush2                                    &  3                                             & 0                                              & 3                                              & 0                                              & 0                                              & 0                                             \\\\\n",
       "\t 12                                             &  21825208                                      & 0.63                                           & 0.32                                           & 0.17                                           & 1                                              & South western dry spiny forest-thicket         & 5.1                                            & 1/3b South western dry spiny forest-thicket    &  6                                             & 12                                             & 1                                              & Veg\\_Bush2                                    &  3                                             & 0                                              & 3                                              & 0                                              & 0                                              & 0                                             \\\\\n",
       "\t 13                                             &   6585863                                      & 0.75                                           & 0.75                                           & 0.75                                           & 1                                              & Wetlands                                       & 5.13                                           & 8/9 Wetlands/Marshlands                        & 12                                             & 13                                             & 0                                              & NA                                             & NA                                             & 0                                              & 0                                              & 0                                              & 0                                              & 0                                             \\\\\n",
       "\t 14                                             &  56762011                                      & 0.00                                           & 0.39                                           & 0.00                                           & 1                                              & Humid forest                                   & 5.1                                            & 1 Humid Forest                                 &  3                                             & 14                                             & 1                                              & Veg\\_Forest                                   &  4                                             & 4                                              & 0                                              & 0                                              & 0                                              & 0                                             \\\\\n",
       "\t 15                                             &    325492                                      & 1.00                                           & 0.00                                           & 1.00                                           & 1                                              & Littoral forest                                & 5.3                                            & 1 Littoral forest                              &  2                                             & 15                                             & 1                                              & Veg\\_Forest                                   &  4                                             & 4                                              & 0                                              & 0                                              & 0                                              & 0                                             \\\\\n",
       "\t 16                                             &  69033947                                      & 0.50                                           & 1.00                                           & 0.00                                           & 1                                              & Degraded humid forest                          & 5.2                                            & 12 Degraded Humid Forest                       &  9                                             & 14                                             & 1                                              & Veg\\_Forest                                   &  4                                             & 4                                              & 0                                              & 0                                              & 0                                              & 0                                             \\\\\n",
       "\t 18                                             &      9863                                      & 1.00                                           & 1.00                                           & 1.00                                           & 1                                              & Clouds/Unclassified                            & <NA>                                           & 12 Clouds                                      & 18                                             &  0                                             & 0                                              & NA                                             & NA                                             & 0                                              & 0                                              & 0                                              & 0                                              & 0                                             \\\\\n",
       "\t 19                                             &   2094042                                      & 0.95                                           & 0.95                                           & 0.86                                           & 1                                              & South western coastal bushland                 & 5.12                                           & 3a South western coastal bushland              &  7                                             & 12                                             & 0                                              & Veg\\_Bush2                                    &  3                                             & 0                                              & 3                                              & 0                                              & 0                                              & 0                                             \\\\\n",
       "\t 22                                             &   4768509                                      & 0.00                                           & 1.00                                           & 0.00                                           & 1                                              & Western sub-humid forest                       & 5.9                                            & 1 Western sub-humid forest                     &  5                                             & 22                                             & 1                                              & Veg\\_Forest                                   &  4                                             & 4                                              & 0                                              & 0                                              & 0                                              & 0                                             \\\\\n",
       "\t 23                                             &   1568196                                      & 1.00                                           & 1.00                                           & 0.00                                           & 1                                              & Tapia forest                                   & 5.6                                            & 1 Tapia forest                                 &  8                                             & 23                                             & 1                                              & Veg\\_Forest                                   &  4                                             & 4                                              & 0                                              & 0                                              & 0                                              & 0                                             \\\\\n",
       "\t 25                                             & 119368727                                      & 0.25                                           & 0.88                                           & 0.82                                           & 1                                              & Coastal buffer                                 & <NA>                                           & 12 Sea                                         & 19                                             &  0                                             & 0                                              & NA                                             & NA                                             & 0                                              & 0                                              & 0                                              & 0                                              & 0                                             \\\\\n",
       "\\end{tabular}\n"
      ],
      "text/markdown": [
       "\n",
       "VALUE | COUNT | RED | GREEN | BLUE | OPACITY | NAME12 | CHAPTER12 | WEBSITE_N1 | ORDER2 | RECLASS1 | Lemurs | PlantTrait_types | New.value | New.valueFor | New.valueBush | New.valueGrass | New.valueAnthr | New.valueBase | \n",
       "|---|---|---|---|---|---|---|---|---|---|---|---|---|---|---|---|---|---|---|---|---|\n",
       "|  0                                             | 975559657                                      | 1.00                                           | 1.00                                           | 1.00                                           | 1                                              | Background                                     | <NA>                                           | Unknown                                        | 20                                             |  0                                             | 0                                              | NA                                             | NA                                             | 0                                              | 0                                              | 0                                              | 0                                              | 0                                              | \n",
       "|  1                                             |   4039415                                      | 0.25                                           | 0.88                                           | 0.82                                           | 1                                              | Water                                          | <NA>                                           | 12 Water                                       | 17                                             |  0                                             | 0                                              | NA                                             | NA                                             | 0                                              | 0                                              | 0                                              | 0                                              | 0                                              | \n",
       "|  2                                             |   6774651                                      | 0.83                                           | 0.83                                           | 0.83                                           | 1                                              | Bare Soil/Rock                                 | <NA>                                           | 12 Bare Soil/Rock                              | 16                                             |  0                                             | 0                                              | NA                                             | NA                                             | 0                                              | 0                                              | 0                                              | 0                                              | 0                                              | \n",
       "|  3                                             |   2893166                                      | 0.93                                           | 0.51                                           | 0.93                                           | 1                                              | Mangroves                                      | 5.14                                           | 7 Mangroves                                    | 11                                             |  3                                             | 0                                              | Veg_Mang                                       | NA                                             | 0                                              | 0                                              | 0                                              | 0                                              | 0                                              | \n",
       "|  4                                             |  27969115                                      | 0.63                                           | 0.13                                           | 0.94                                           | 1                                              | Cultivation                                    | 5.15                                           | 11 Anthropic&Cultivated Areas                  | 15                                             |  0                                             | 0                                              | Veg_Anthr                                      |  1                                             | 0                                              | 0                                              | 0                                              | 1                                              | 0                                              | \n",
       "|  5                                             |  31235887                                      | 0.65                                           | 0.16                                           | 0.16                                           | 1                                              | Western dry forest                             | 5.8                                            | 1 Western Dry Forest                           |  3                                             |  5                                             | 1                                              | Veg_Forest                                     |  4                                             | 4                                              | 0                                              | 0                                              | 0                                              | 0                                              | \n",
       "|  6                                             | 293326191                                      | 0.82                                           | 0.70                                           | 0.55                                           | 1                                              | Plateau grassland-wooded grassland mosaic      | 5.5                                            | 6/3a Plateau grassland-wooded grassland mosaic | 14                                             |  0                                             | 0                                              | Veg_Grass                                      |  2                                             | 0                                              | 0                                              | 2                                              | 0                                              | 0                                              | \n",
       "|  7                                             | 161401940                                      | 0.95                                           | 0.95                                           | 0.86                                           | 1                                              | Wooded grassland-bushland                      | 5.4                                            | 6/5 Wooded grassland-bushland                  | 13                                             |  0                                             | 0                                              | Veg_Bush2                                      |  3                                             | 0                                              | 3                                              | 0                                              | 0                                              | 0                                              | \n",
       "|  9                                             |     85762                                      | 0.25                                           | 0.88                                           | 0.82                                           | 1                                              | Western humid forest                           | 5.7                                            | 1 Western humid forest                         |  4                                             | 14                                             | 1                                              | Veg_Forest                                     |  4                                             | 4                                              | 0                                              | 0                                              | 0                                              | 0                                              | \n",
       "| 10                                             |   6777964                                      | 0.65                                           | 0.16                                           | 0.16                                           | 1                                              | Western dry forest                             | 5.8                                            | 1 Western Dry Forest                           |  1                                             |  5                                             | 1                                              | Veg_Forest                                     |  4                                             | 4                                              | 0                                              | 0                                              | 0                                              | 0                                              | \n",
       "| 11                                             |   6453626                                      | 1.00                                           | 0.65                                           | 0.00                                           | 1                                              | Degraded south western dry spiny forest        | 5.11                                           | 12 Degraded south western dry spiny forest     | 10                                             | 12                                             | 1                                              | Veg_Bush2                                      |  3                                             | 0                                              | 3                                              | 0                                              | 0                                              | 0                                              | \n",
       "| 12                                             |  21825208                                      | 0.63                                           | 0.32                                           | 0.17                                           | 1                                              | South western dry spiny forest-thicket         | 5.1                                            | 1/3b South western dry spiny forest-thicket    |  6                                             | 12                                             | 1                                              | Veg_Bush2                                      |  3                                             | 0                                              | 3                                              | 0                                              | 0                                              | 0                                              | \n",
       "| 13                                             |   6585863                                      | 0.75                                           | 0.75                                           | 0.75                                           | 1                                              | Wetlands                                       | 5.13                                           | 8/9 Wetlands/Marshlands                        | 12                                             | 13                                             | 0                                              | NA                                             | NA                                             | 0                                              | 0                                              | 0                                              | 0                                              | 0                                              | \n",
       "| 14                                             |  56762011                                      | 0.00                                           | 0.39                                           | 0.00                                           | 1                                              | Humid forest                                   | 5.1                                            | 1 Humid Forest                                 |  3                                             | 14                                             | 1                                              | Veg_Forest                                     |  4                                             | 4                                              | 0                                              | 0                                              | 0                                              | 0                                              | \n",
       "| 15                                             |    325492                                      | 1.00                                           | 0.00                                           | 1.00                                           | 1                                              | Littoral forest                                | 5.3                                            | 1 Littoral forest                              |  2                                             | 15                                             | 1                                              | Veg_Forest                                     |  4                                             | 4                                              | 0                                              | 0                                              | 0                                              | 0                                              | \n",
       "| 16                                             |  69033947                                      | 0.50                                           | 1.00                                           | 0.00                                           | 1                                              | Degraded humid forest                          | 5.2                                            | 12 Degraded Humid Forest                       |  9                                             | 14                                             | 1                                              | Veg_Forest                                     |  4                                             | 4                                              | 0                                              | 0                                              | 0                                              | 0                                              | \n",
       "| 18                                             |      9863                                      | 1.00                                           | 1.00                                           | 1.00                                           | 1                                              | Clouds/Unclassified                            | <NA>                                           | 12 Clouds                                      | 18                                             |  0                                             | 0                                              | NA                                             | NA                                             | 0                                              | 0                                              | 0                                              | 0                                              | 0                                              | \n",
       "| 19                                             |   2094042                                      | 0.95                                           | 0.95                                           | 0.86                                           | 1                                              | South western coastal bushland                 | 5.12                                           | 3a South western coastal bushland              |  7                                             | 12                                             | 0                                              | Veg_Bush2                                      |  3                                             | 0                                              | 3                                              | 0                                              | 0                                              | 0                                              | \n",
       "| 22                                             |   4768509                                      | 0.00                                           | 1.00                                           | 0.00                                           | 1                                              | Western sub-humid forest                       | 5.9                                            | 1 Western sub-humid forest                     |  5                                             | 22                                             | 1                                              | Veg_Forest                                     |  4                                             | 4                                              | 0                                              | 0                                              | 0                                              | 0                                              | \n",
       "| 23                                             |   1568196                                      | 1.00                                           | 1.00                                           | 0.00                                           | 1                                              | Tapia forest                                   | 5.6                                            | 1 Tapia forest                                 |  8                                             | 23                                             | 1                                              | Veg_Forest                                     |  4                                             | 4                                              | 0                                              | 0                                              | 0                                              | 0                                              | \n",
       "| 25                                             | 119368727                                      | 0.25                                           | 0.88                                           | 0.82                                           | 1                                              | Coastal buffer                                 | <NA>                                           | 12 Sea                                         | 19                                             |  0                                             | 0                                              | NA                                             | NA                                             | 0                                              | 0                                              | 0                                              | 0                                              | 0                                              | \n",
       "\n",
       "\n"
      ],
      "text/plain": [
       "   VALUE COUNT     RED  GREEN BLUE OPACITY\n",
       "1   0    975559657 1.00 1.00  1.00 1      \n",
       "2   1      4039415 0.25 0.88  0.82 1      \n",
       "3   2      6774651 0.83 0.83  0.83 1      \n",
       "4   3      2893166 0.93 0.51  0.93 1      \n",
       "5   4     27969115 0.63 0.13  0.94 1      \n",
       "6   5     31235887 0.65 0.16  0.16 1      \n",
       "7   6    293326191 0.82 0.70  0.55 1      \n",
       "8   7    161401940 0.95 0.95  0.86 1      \n",
       "9   9        85762 0.25 0.88  0.82 1      \n",
       "10 10      6777964 0.65 0.16  0.16 1      \n",
       "11 11      6453626 1.00 0.65  0.00 1      \n",
       "12 12     21825208 0.63 0.32  0.17 1      \n",
       "13 13      6585863 0.75 0.75  0.75 1      \n",
       "14 14     56762011 0.00 0.39  0.00 1      \n",
       "15 15       325492 1.00 0.00  1.00 1      \n",
       "16 16     69033947 0.50 1.00  0.00 1      \n",
       "17 18         9863 1.00 1.00  1.00 1      \n",
       "18 19      2094042 0.95 0.95  0.86 1      \n",
       "19 22      4768509 0.00 1.00  0.00 1      \n",
       "20 23      1568196 1.00 1.00  0.00 1      \n",
       "21 25    119368727 0.25 0.88  0.82 1      \n",
       "   NAME12                                    CHAPTER12\n",
       "1  Background                                <NA>     \n",
       "2  Water                                     <NA>     \n",
       "3  Bare Soil/Rock                            <NA>     \n",
       "4  Mangroves                                 5.14     \n",
       "5  Cultivation                               5.15     \n",
       "6  Western dry forest                        5.8      \n",
       "7  Plateau grassland-wooded grassland mosaic 5.5      \n",
       "8  Wooded grassland-bushland                 5.4      \n",
       "9  Western humid forest                      5.7      \n",
       "10 Western dry forest                        5.8      \n",
       "11 Degraded south western dry spiny forest   5.11     \n",
       "12 South western dry spiny forest-thicket    5.1      \n",
       "13 Wetlands                                  5.13     \n",
       "14 Humid forest                              5.1      \n",
       "15 Littoral forest                           5.3      \n",
       "16 Degraded humid forest                     5.2      \n",
       "17 Clouds/Unclassified                       <NA>     \n",
       "18 South western coastal bushland            5.12     \n",
       "19 Western sub-humid forest                  5.9      \n",
       "20 Tapia forest                              5.6      \n",
       "21 Coastal buffer                            <NA>     \n",
       "   WEBSITE_N1                                     ORDER2 RECLASS1 Lemurs\n",
       "1  Unknown                                        20      0       0     \n",
       "2  12 Water                                       17      0       0     \n",
       "3  12 Bare Soil/Rock                              16      0       0     \n",
       "4  7 Mangroves                                    11      3       0     \n",
       "5  11 Anthropic&Cultivated Areas                  15      0       0     \n",
       "6  1 Western Dry Forest                            3      5       1     \n",
       "7  6/3a Plateau grassland-wooded grassland mosaic 14      0       0     \n",
       "8  6/5 Wooded grassland-bushland                  13      0       0     \n",
       "9  1 Western humid forest                          4     14       1     \n",
       "10 1 Western Dry Forest                            1      5       1     \n",
       "11 12 Degraded south western dry spiny forest     10     12       1     \n",
       "12 1/3b South western dry spiny forest-thicket     6     12       1     \n",
       "13 8/9 Wetlands/Marshlands                        12     13       0     \n",
       "14 1 Humid Forest                                  3     14       1     \n",
       "15 1 Littoral forest                               2     15       1     \n",
       "16 12 Degraded Humid Forest                        9     14       1     \n",
       "17 12 Clouds                                      18      0       0     \n",
       "18 3a South western coastal bushland               7     12       0     \n",
       "19 1 Western sub-humid forest                      5     22       1     \n",
       "20 1 Tapia forest                                  8     23       1     \n",
       "21 12 Sea                                         19      0       0     \n",
       "   PlantTrait_types New.value New.valueFor New.valueBush New.valueGrass\n",
       "1  NA               NA        0            0             0             \n",
       "2  NA               NA        0            0             0             \n",
       "3  NA               NA        0            0             0             \n",
       "4  Veg_Mang         NA        0            0             0             \n",
       "5  Veg_Anthr         1        0            0             0             \n",
       "6  Veg_Forest        4        4            0             0             \n",
       "7  Veg_Grass         2        0            0             2             \n",
       "8  Veg_Bush2         3        0            3             0             \n",
       "9  Veg_Forest        4        4            0             0             \n",
       "10 Veg_Forest        4        4            0             0             \n",
       "11 Veg_Bush2         3        0            3             0             \n",
       "12 Veg_Bush2         3        0            3             0             \n",
       "13 NA               NA        0            0             0             \n",
       "14 Veg_Forest        4        4            0             0             \n",
       "15 Veg_Forest        4        4            0             0             \n",
       "16 Veg_Forest        4        4            0             0             \n",
       "17 NA               NA        0            0             0             \n",
       "18 Veg_Bush2         3        0            3             0             \n",
       "19 Veg_Forest        4        4            0             0             \n",
       "20 Veg_Forest        4        4            0             0             \n",
       "21 NA               NA        0            0             0             \n",
       "   New.valueAnthr New.valueBase\n",
       "1  0              0            \n",
       "2  0              0            \n",
       "3  0              0            \n",
       "4  0              0            \n",
       "5  1              0            \n",
       "6  0              0            \n",
       "7  0              0            \n",
       "8  0              0            \n",
       "9  0              0            \n",
       "10 0              0            \n",
       "11 0              0            \n",
       "12 0              0            \n",
       "13 0              0            \n",
       "14 0              0            \n",
       "15 0              0            \n",
       "16 0              0            \n",
       "17 0              0            \n",
       "18 0              0            \n",
       "19 0              0            \n",
       "20 0              0            \n",
       "21 0              0            "
      ]
     },
     "metadata": {},
     "output_type": "display_data"
    }
   ],
   "source": [
    "cat <- read.csv(\"TIF-VegetationTypesValues.csv\", sep=\",\")\n",
    "cat"
   ]
  },
  {
   "cell_type": "markdown",
   "metadata": {},
   "source": [
    "Now, we have a file giving the correspondence between old and new values for each vegetation type. <br>\n",
    "The new values will be our raster's values."
   ]
  },
  {
   "cell_type": "markdown",
   "metadata": {},
   "source": [
    "The vegetation map combines all vegetation formations and it is huge (1.7 Go). So, to avoid subsequent memory issues, we want to create one raster per vegetation formation. Thus, when we need only one vegetation formation, we don't have to read the huge vegetation map."
   ]
  },
  {
   "cell_type": "code",
   "execution_count": null,
   "metadata": {
    "collapsed": true
   },
   "outputs": [],
   "source": [
    "vegtype <- c(\"For\",\"Grass\",\"Anthr\",\"Bush\")\n",
    "\n",
    "## Read raster from vegetation map (UTM zone 38 North, spheroid/datum WGS 84)\n",
    "rasterveg <- raster(\"vegetation.tif\")\n",
    "\n",
    "## Create base map\n",
    "mBase <- matrix(c(cat$VALUE, cat$New.valueBase),nrow=21, ncol=2)\n",
    "rasterBase <- reclassify(rasterveg,mBase)       \n",
    "writeRaster(rasterBase, filename=\"rasterBase.tif\",format=\"GTiff\", overwrite=TRUE) \n",
    "\n",
    "## Subset raster according to each vegetation type\n",
    "mFor <- matrix(c(cat$VALUE, cat$New.valueFor),nrow=21, ncol=2)\n",
    "rasterFor <- reclassify(rasterveg,mFor)        # Creates a new raster map whose category values are based upon a reclassification of the categories in an existing raster map (i.e. we use the new values instead of the old ones), here only taking into account Forests (other types=0)\n",
    "writeRaster(rasterFor, filename=\"rasterFor.tif\",format=\"GTiff\", overwrite=TRUE) \n",
    "\n",
    "mBush <- matrix(c(cat$VALUE, cat$New.valueBush),nrow=21, ncol=2)\n",
    "rasterBush <- reclassify(rasterveg,mBush)\n",
    "writeRaster(rasterBush, filename=\"rasterBush.tif\",format=\"GTiff\", overwrite=TRUE) \n",
    "\n",
    "mGrass <- matrix(c(cat$VALUE, cat$New.valueGrass),nrow=21, ncol=2)\n",
    "rasterGrass <- reclassify(rasterveg,mGrass)\n",
    "writeRaster(rasterGrass, filename=\"rasterGrass.tif\",format=\"GTiff\", overwrite=TRUE) \n",
    "\n",
    "mAnthr <- matrix(c(cat$VALUE, cat$New.valueAnthr),nrow=21, ncol=2)\n",
    "rasterAnthr <- reclassify(rasterveg,mAnthr)\n",
    "writeRaster(rasterAnthr, filename=\"rasterAnthr.tif\",format=\"GTiff\", overwrite=TRUE) "
   ]
  },
  {
   "cell_type": "markdown",
   "metadata": {},
   "source": [
    "<br>\n",
    "###### 2) Create rasters for each combination of vegetation types"
   ]
  },
  {
   "cell_type": "code",
   "execution_count": null,
   "metadata": {
    "collapsed": true
   },
   "outputs": [],
   "source": [
    "matveg <- expand.grid(For=c(\"no\",\"yes\"), Bush=c(\"no\",\"yes\"), Grass=c(\"no\",\"yes\"), Anthr=c(\"no\",\"yes\")) # combination matrix\n",
    "matveg <- matveg[-1,]           # remove first line (with \"no\" only)\n",
    "\n",
    "for (c in 1:nrow(matveg)) {\n",
    "\tcombveg <- names(matveg[, matveg[c,]==\"yes\", drop=FALSE]) \t# vegetation types in combination c\n",
    "\tnameraster <- NULL\n",
    "\tlistrast <- list()\n",
    "\n",
    "\t## Create a list with, as elements, the rasters of vegetation types (in the combination c)\n",
    "\tfor (v in seq_along(combveg)) {\n",
    "\t\tnameraster[v] <- paste(\"raster\",combveg[v], sep=\"\")  # create name of the corresponding raster (vector of names)\n",
    "\t\tlistrast[[v]] <- get(nameraster[v])                  # get the raster based on the character string of its name (list of rasters)\n",
    "\t}\n",
    "\n",
    "\t## When more than 1 raster in the list, stack them and write the corresponding combination raster\n",
    "\tif (length(listrast)>1) {\n",
    "\t\tstackrast <- stack (listrast, quick=TRUE)\n",
    "\t\trasterTot <- overlay(stackrast, fun=sum,unstack=TRUE)    # raster combining all vegetation types included in 'combveg'\n",
    "\t\tcombname <- paste(combveg, collapse=\"\")\n",
    "\t\tnamerastervegtif <- paste(\"raster\",combname, \".tif\", sep=\"\") \n",
    "\t\twriteRaster(rasterTot, filename=namerastervegtif,format=\"GTiff\", overwrite=TRUE)\n",
    "\t}\t\n",
    "}"
   ]
  },
  {
   "cell_type": "markdown",
   "metadata": {},
   "source": [
    "<br>\n",
    "###### 3) Decrease resolution of each raster (from 29 m² to 1015 m² cells) (otherwise memory issues)"
   ]
  },
  {
   "cell_type": "code",
   "execution_count": null,
   "metadata": {
    "collapsed": true
   },
   "outputs": [],
   "source": [
    "for (c in 1:nrow(matveg)) {\n",
    "\tcombveg <- names(matveg[, matveg[c,]==\"yes\", drop=FALSE]) \n",
    "\tcombname <- paste(combveg, collapse=\"\")\n",
    "\tnamerasterveg <- paste(\"raster\", combname, sep=\"\")\n",
    "\tnamerastervegtif <- paste(namerasterveg, \".tif\", sep=\"\") \n",
    "\trasterveg <- raster(namerastervegtif)\t\n",
    "\trastervegagg <- aggregate(rasterveg, fact=35, fun=modal)             # to have 1015 m² cells\n",
    "\tnamerasteraggvegtif <- paste(\"raster\",combname, \"Agg.tif\", sep=\"\") \n",
    "\twriteRaster(rastervegagg, filename=namerasteraggvegtif,format=\"GTiff\", overwrite=TRUE)\n",
    "}\n",
    "\n",
    "\n",
    "nameBase <- \"rasterBase.tif\"\n",
    "rasterBase <- raster(nameBase)\n",
    "rasterbasagg <- aggregate(rasterBase, fact=35, fun=modal)\n",
    "writeRaster(rasterbasagg, filename=\"rasterBaseAgg.tif\",format=\"GTiff\", overwrite=TRUE)"
   ]
  },
  {
   "cell_type": "markdown",
   "metadata": {},
   "source": [
    "###### 4) Reproject every vegetation raster to longlat"
   ]
  },
  {
   "cell_type": "code",
   "execution_count": null,
   "metadata": {
    "collapsed": true
   },
   "outputs": [],
   "source": [
    "rasterBase <- rasterbasagg\n",
    "\n",
    "proj4string(rasterBase) <- CRS(\"+proj=utm +zone=38 +south +datum=WGS84 +units=m +no_defs +ellps=WGS84 +towgs84=0,0,0\")   # original data in UTM\n",
    "\n",
    "# reproject to longlat without keeping values (projectExtent)\n",
    "rasterBasepr <- projectExtent(rasterBase, crs=CRS(\"+proj=longlat +ellps=WGS84 +datum=WGS84\"))  \n",
    "writeRaster(rasterBasepr, filename=\"rasterBaseAggpr.tif\",format=\"GTiff\", overwrite=TRUE)\n",
    "\n",
    "# reproject to longlat while keeping values (projectRaster), with rasterBasepr as a template (to keep the same dimensions, resolution and extent)\n",
    "for (c in 1:nrow(matveg)) {\n",
    "#c=2\n",
    "    combveg <- names(matveg[, matveg[c,]==\"yes\", drop=FALSE]) \n",
    "    combname <- paste(combveg, collapse=\"\")\n",
    "    namerastervegAgg <- paste(\"raster\", combname, \"Agg\", sep=\"\")\n",
    "    namerastervegAggtif <- paste(namerastervegAgg, \".tif\", sep=\"\") \n",
    "    rasterveg <- raster(namerastervegAggtif)\t\n",
    "    proj4string(rasterveg) <- CRS(\"+proj=utm +zone=38 +south +datum=WGS84 +units=m +no_defs +ellps=WGS84 +towgs84=0,0,0\")  \t\t# original data in UTM\n",
    "    pr_rasterveg <- projectRaster(rasterveg, rasterBasepr, crs=CRS(\"+proj=longlat +ellps=WGS84 +datum=WGS84\"), method = \"ngb\")\n",
    "    namerastervegAggprtif <- paste(namerastervegAgg, \"pr.tif\", sep=\"\")\n",
    "    writeRaster(pr_rasterveg, filename=namerastervegAggprtif,format=\"GTiff\", overwrite=TRUE)\n",
    "}"
   ]
  },
  {
   "cell_type": "markdown",
   "metadata": {},
   "source": [
    "<br>\n",
    "### Lemurs"
   ]
  },
  {
   "cell_type": "markdown",
   "metadata": {},
   "source": [
    "##### Lemur traits (max width of seeds dispersed by each disperser)"
   ]
  },
  {
   "cell_type": "code",
   "execution_count": null,
   "metadata": {
    "collapsed": true
   },
   "outputs": [],
   "source": [
    "traitdisp <- read.csv(\"Dispersers.csv\", sep=\";\")\n",
    "\n",
    "## For this spatial analysis, we work only on lemurs (i.e. primates)\n",
    "lemur <- subset(traitdisp, Taxon==\"Primate\")\n",
    "lemur$Disperser = factor(lemur$Disperser)\n",
    "lemursp <- lemur$Disperser\n",
    "\n",
    "rasterForBushNA[rasterForBushNA==0] <- NA"
   ]
  },
  {
   "cell_type": "markdown",
   "metadata": {},
   "source": [
    "<br>\n",
    "###### Create rasters for each lemur species"
   ]
  },
  {
   "cell_type": "code",
   "execution_count": null,
   "metadata": {
    "collapsed": true
   },
   "outputs": [],
   "source": [
    "listrasterlem <- list()\n",
    "arealem <- list()\n",
    "\n",
    "lem <- data.frame(NAsrasterlem=rep(NA,length(lemursp)), NAsbuf=rep(NA,length(lemursp)), DiffNAs=rep(NA,length(lemursp)), Area=rep(NA,length(lemursp)))\n",
    "row.names(lem) <- lemursp\n",
    "\n",
    "rasterBase <- rasterBasepr\n",
    "\n",
    "for (l in seq_along(lemursp)) {\n",
    "\tnamefile <- paste(\"F:/Boulot/4-Kew/Data/Analyses/Spatial/Lemurs/\", lemursp[l], \".csv\", sep=\"\")\n",
    "\n",
    "\t### Transform points into a raster object\n",
    "\tdistr <- read.csv(file=namefile, sep=\";\")\n",
    "\td <- rasterize(distr, rasterBase, field=1)\n",
    "\n",
    "\t### Create 5000-m buffer circles around each lemur cell and merge overlapping buffers\n",
    "\tbuf <- buffer(d, width=5000)                              # create a new Raster object\n",
    "\n",
    "\t### Keep only forest/bush areas in the raster (lemurs live only in forests or bushes; to remove points that are artefacts or too old to represent the current distribution of lemurs, we remove any points that are not in a forest or bush area)\n",
    "\trasterlem <- mask(buf, rasterForBushNA)\n",
    "\tlistrasterlem[[l]] <- rasterlem\n",
    "\n",
    "\t### Calculate area of the raster\n",
    "\tareacells <- area(rasterlem)                               # area of each cell in the raster\n",
    "\tvalues(rasterlem)[is.na(values(rasterlem))] <- 0           # replace NAs by 0, otherwise the multiplication will not be computed\n",
    "\tvalues(areacells) <- values(areacells) * values(rasterlem) # multiply the cell areas with Raster object with presence/absence values\n",
    "\tlem[l,\"Area\"] <- cellStats(areacells , 'sum')              # potential distribution area of the lemur species l (in km²)\n",
    "\trasterlem[rasterlem==0] <- NA\n",
    "\n",
    "\t### Save the raster\n",
    "\tnamerasterlemtif <- paste(\"raster\",lemursp[l], \".tif\", sep=\"\") \n",
    "\twriteRaster(rasterlem, filename=namerasterlemtif,format=\"GTiff\", overwrite=TRUE)\n",
    "}\n",
    "\n",
    "names(listrasterlem) <- lemursp\n",
    "save(listrasterlem, file=\"listrasterlem.rda\")\n"
   ]
  }
 ],
 "metadata": {
  "kernelspec": {
   "display_name": "R 3.3",
   "language": "R",
   "name": "ir33"
  },
  "language_info": {
   "codemirror_mode": "r",
   "file_extension": ".r",
   "mimetype": "text/x-r-source",
   "name": "R",
   "pygments_lexer": "r",
   "version": "3.3.1"
  }
 },
 "nbformat": 4,
 "nbformat_minor": 2
}
