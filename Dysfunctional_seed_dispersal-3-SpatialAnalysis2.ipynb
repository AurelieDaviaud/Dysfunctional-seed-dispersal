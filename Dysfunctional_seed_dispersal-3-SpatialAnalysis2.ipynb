{
 "cells": [
  {
   "cell_type": "markdown",
   "metadata": {},
   "source": [
    "# Dysfunctional seed dispersal in the endemic flora of Madagascar\n",
    "\n",
    "* Language: R\n",
    "* Methods: linear regression, multivariate imputation by chained equations (MICE), spatial analyses\n",
    "* Associated publication: (in prep)"
   ]
  },
  {
   "cell_type": "code",
   "execution_count": 3,
   "metadata": {
    "collapsed": false
   },
   "outputs": [],
   "source": [
    "library(raster);\n",
    "library(igraph);"
   ]
  },
  {
   "cell_type": "markdown",
   "metadata": {},
   "source": [
    "<br>\n",
    "<br>\n",
    "## Overlap between plant and lemur distributions"
   ]
  },
  {
   "cell_type": "markdown",
   "metadata": {},
   "source": [
    "We want to answer the following questions:\t\t\t\t\t\t\t\t\n",
    "1) How many lemurs are able to disperse a given species s?\t\n",
    "2) How many lemurs co-occur with species s?\t\t\n",
    "3) How many lemurs are able to disperse species s AND co-occur with it?"
   ]
  },
  {
   "cell_type": "markdown",
   "metadata": {},
   "source": [
    "##### Read distribution data of plant species"
   ]
  },
  {
   "cell_type": "code",
   "execution_count": null,
   "metadata": {
    "collapsed": true
   },
   "outputs": [],
   "source": [
    "dat <- read.table(\"Plant_coord.txt\", sep=\"\\t\", header=TRUE)\t"
   ]
  },
  {
   "cell_type": "markdown",
   "metadata": {},
   "source": [
    "##### Read all vegetation rasters (lower resolution)"
   ]
  },
  {
   "cell_type": "code",
   "execution_count": null,
   "metadata": {
    "collapsed": true
   },
   "outputs": [],
   "source": [
    "matveg <- expand.grid(For=c(\"no\",\"yes\"), Bush=c(\"no\",\"yes\"), Grass=c(\"no\",\"yes\"), Anthr=c(\"no\",\"yes\")) # combination matrix\n",
    "matveg <- matveg[-1,]        # remove first line (with \"no\" only)\n",
    "\n",
    "\n",
    "for (c in 1:nrow(matveg)) {\n",
    "\tcombveg <- names(matveg[, matveg[c,]==\"yes\", drop=FALSE]) \n",
    "\tcombname <- paste(combveg, collapse=\"\")\n",
    "\tnamerasterveg <- paste(\"raster\", combname, sep=\"\")\n",
    "\tnamerastervegAggprtif <- paste(namerasterveg, \"Aggpr.tif\", sep=\"\") \n",
    "\tassign(namerasterveg, raster(namerastervegAggprtif))\n",
    "\trasterveg <- get(namerasterveg)\n",
    "\trasterveg[rasterveg==0] <- NA\n",
    "\tassign(namerasterveg, rasterveg)\n",
    "}\n",
    "\n",
    "\n",
    "# Prepare base map (values=0) to create rasters for plants\n",
    "rasterBase <- raster(\"rasterBaseAggpr.tif\")\n",
    "proj4string(rasterBase) <- CRS(\"+proj=longlat +ellps=WGS84 +datum=WGS84\")\n",
    "\n",
    "# Area of each cell of the raster (km²)\n",
    "areacell <- area(rasterBase)"
   ]
  },
  {
   "cell_type": "markdown",
   "metadata": {},
   "source": [
    "##### Read all lemur rasters"
   ]
  },
  {
   "cell_type": "code",
   "execution_count": null,
   "metadata": {
    "collapsed": true
   },
   "outputs": [],
   "source": [
    "lemur <- read.csv(\"Dispersers.csv\")\n",
    "lemur <- subset(lemur, Taxon==\"Primate\")\n",
    "lemur$Disperser = factor(lemur$Disperser)\n",
    "\n",
    "lemursp <- lemur$Disperser\n",
    "for (l in seq_along(lemursp)) {\n",
    "#l=2\n",
    "\tnamerasterlem <- paste(\"raster\", lemursp[l], sep=\"\")\n",
    "\tnamerasterlemtif <- paste(\"raster\",lemursp[l], \".tif\", sep=\"\") \n",
    "\tassign(namerasterlem, raster(namerasterlemtif))\n",
    "}"
   ]
  },
  {
   "cell_type": "markdown",
   "metadata": {},
   "source": [
    "##### Prepare containers for data"
   ]
  },
  {
   "cell_type": "code",
   "execution_count": null,
   "metadata": {
    "collapsed": true
   },
   "outputs": [],
   "source": [
    "distrAreaTot <- list()\n",
    "distrCoLemurTot <- list()\n",
    "distrDispLemurTot <- list()\n",
    "distrDispCoLemurTot <- list()"
   ]
  },
  {
   "cell_type": "markdown",
   "metadata": {},
   "source": [
    "##### Loop through every imputed dataset"
   ]
  },
  {
   "cell_type": "code",
   "execution_count": null,
   "metadata": {
    "collapsed": true
   },
   "outputs": [],
   "source": [
    "for (d in 1:20) {\n",
    "\t######## Endozoochorous plant species\n",
    "\tnamefiled <- paste(\"traitveg\", d, \".csv\", sep=\"\")\n",
    "\ttraitendo <- read.csv(namefiled)\n",
    "\ttraitendo <- subset(traitendo, SyndAB2 == \"Biotic\")\n",
    "\tspeciesendo <- traitendo$.id\n",
    "\trownames(traitendo) <- speciesendo\n",
    "\n",
    "\n",
    "\t#========================== For each plant species s\n",
    "    ## Prepare containers for data\n",
    "\tdistrArea <- list()\n",
    "\tdistrCoLemur <- list()\n",
    "\tdistrDispLemur <- list()\n",
    "\tdistrDispCoLemur <- list()\n",
    "\n",
    "\n",
    "\tfor (s in seq_along(speciesendo)) {\n",
    "\n",
    "\t\t#========================== CREATE A RASTER FOR EACH PLANT SPECIES S (=rasterpls) ====================\n",
    "\n",
    "\t\tspeciesendos <- as.character(speciesendo[s])\n",
    "\t\tdats <- subset(dat, species==speciesendos)\n",
    "\n",
    "\n",
    "\t\tif (nrow(dats)==0) {\n",
    "\t\tdistrArea[[s]] <- \"no gbif data\"\n",
    "\t\tdistrCoLemur[[s]] <- \"no gbif data\"\n",
    "\t\tdistrDispLemur[[s]] <- \"no gbif data\"\n",
    "\t\tdistrDispCoLemur[[s]] <- \"no gbif data\"\n",
    "\t\t} else {  \n",
    "\n",
    "\n",
    "\t\t\t######## Create rasters for plants (Transform points into a Raster object)\n",
    "\t\t\tx <- dats$decimalLongitude\n",
    "\t\t\ty <- dats$decimalLatitude\n",
    "\t\t\tcoord <- data.frame(x,y)\n",
    "\t\t\trasterpls <- rasterize(coord, rasterBase, field=1)\n",
    "\n",
    "\n",
    "\t\t\t######## Keep, in rasters, only vegetation types associated with species s (to remove any artefact)\n",
    "\t\t\ttraitendos <- subset(traitendo, .id==speciesendo[s])                 # species s in dataset d\n",
    "\t\t\tvegtypes <- names(traitendos[, traitendos[1,]==\"yes\", drop=FALSE])   # vegetation types associated with species s\n",
    "\t\t\n",
    "\t\t\tif (length(vegtypes) != 0) {                              # some species have an estimated \"no\" for every vegetation type (except Veg_Mang not imputed)\n",
    "\t\t\tcombnames <- paste(vegtypes, collapse=\"\") \n",
    "\t\t\tnamerasterveg <- paste(\"raster\", combname, sep=\"\")        # name of the corresponding vegetation raster\n",
    "\t\t\trasterveg <- get(namerasterveg)\n",
    "\t\t\tprojection(rasterpls) <- projection(rasterveg)\n",
    "\t\t\trasterpls <- mask(rasterpls, rasterveg)                   # intersection between plant species raster and vegetation raster\n",
    "\t\t\t} \n",
    "\n",
    "\t\t\t######## Calculate and save total area\n",
    "\t\t\tvalues(rasterpls)[is.na(values(rasterpls))] <- 0          # replace NAs by 0, otherwise the multiplication will not be computed\n",
    "\t\t\tvalues(rasterpls) <- values(areacell) * values(rasterpls) # multiply the cell areas with Raster object with presence/absence values\n",
    "\t\t\tdistrArea[[s]] <- cellStats(rasterpls, 'sum')             # potential distribution area of the plant species s (in km²)\n",
    "\t\t\trasterpls[rasterpls==0] <- NA\n",
    "\n",
    "\n",
    "\n",
    "\t\t\t#========================== OVERLAP BETWEEN PLANT S AND LEMUR RASTERS =====================================\n",
    "\n",
    "\t\t\t######## Identify lemurs co-occurring with plant species s\n",
    "\t\t\tcooclem <- data.frame(CoLemur=rep(NA, 20), CoArea=rep(NA, 20))\n",
    "\n",
    "\t\t\tfor (l in seq_along(lemursp)) {\n",
    "\t\t\t\tnamerasterlem <- paste(\"raster\", lemursp[l], sep=\"\")\n",
    "\t\t\t\trasterlemur <- get(namerasterlem)\n",
    "\t\t\t\tcooccur <- mask(rasterlemur, rasterpls)               # Co-occurrence\n",
    "\t\t\t\tvalues(cooccur)[is.na(values(cooccur))] <- 0          # replace NAs by 0, otherwise the multiplication will not be computed\n",
    "\t\t\t\tvalues(cooccur) <- values(areacell) * values(cooccur) # multiply the cell areas with Raster object with presence/absence values\n",
    "\t\t\t\tcooclem[l, \"CoArea\"] <- cellStats(cooccur , 'sum')    # Area of co-occurrence (km²) (may be 0)\n",
    "\t\t\t\tcooclem[l, \"CoLemur\"] <- as.character(lemursp[l])     # Save names of lemurs in a dataframe\n",
    "\t\t\t}\n",
    "\t\t\tdistrCoLemur[[s]] <- cooclem\n",
    "\t\t\tdistrCoLemur[[s]] <- subset(distrCoLemur[[s]], CoArea>0)  # Save names of co-occurring lemurs + CoArea (km²)\n",
    "\t\t\tif (nrow(distrCoLemur[[s]])==0) {\n",
    "\t\t\tdistrCoLemur[[s]] <- \"no disperser\"}\n",
    "\n",
    "\n",
    "\t\t\t######## Identify lemurs able to disperse species s according to seed width\n",
    "\t\t\tSeWi <- traitendo[as.character(speciesendo[s]),\"SeWi\"]   # Seed width of species s\n",
    "\t\t\tlemur$disp <- ifelse (SeWi <= lemur$MaxSeWi, 1, 0)       # Able to disperse? 1/0\n",
    "\t\t\tlemurdisp <- (subset(lemur, disp==\"1\"))$Disperser        # Species of lemurs able to disperse species s\n",
    "\t\t\tnblemurdisp <- length(lemurdisp)                         # Nb of lemurs able to disperse species s\n",
    "\t\t\tdistrDispLemur[[s]] <- lemurdisp                         # Save names of lemurs able to disperse species s\n",
    "\n",
    "\n",
    "\t\t\t######## Identify lemurs able to disperse species s according to seed width and co-occurring with it\n",
    "\t\t\tcooclemdisp <-data.frame(CoLemurDisp=rep(NA, length(cooclem)), CoAreaDisp=rep(NA, length(cooclem)))\n",
    "\t\t\tfor (ld in seq_along(lemurdisp)) {\n",
    "\t\t\t\tnamerasterlemurdisp <- paste(\"raster\", lemurdisp[ld], sep=\"\")\n",
    "\t\t\t\trasterlemur <- get(namerasterlemurdisp)\n",
    "\t\t\t\tcooccur <- mask(rasterlemur,rasterpls)                      # Co-occurrence\n",
    "\t\t\t\tvalues(cooccur)[is.na(values(cooccur))] <- 0                # replace NAs by 0, otherwise the multiplication will not be computed\n",
    "\t\t\t\tvalues(cooccur) <- values(areacell) * values(cooccur)       # multiply the cell areas with Raster object with presence/absence values\n",
    "\t\t\t\tcooclemdisp[ld, \"CoAreaDisp\"] <- cellStats(cooccur,'sum')   # Save area\n",
    "\t\t\t\tcooclemdisp[ld, \"CoLemurDisp\"] <- as.character(lemurdisp[ld]) # Save names of lemurs\n",
    "\t\t\t}\n",
    "\t\t\tdistrDispCoLemur[[s]] <- cooclemdisp\n",
    "\t\t\tdistrDispCoLemur[[s]] <- subset(distrDispCoLemur[[s]], CoAreaDisp>0)\n",
    "\t\t} # end ifelse\n",
    "        \n",
    "names(distrArea) <- as.character(speciesendo[1:s])\n",
    "names(distrCoLemur) <- as.character(speciesendo[1:s])\n",
    "names(distrDispLemur) <- as.character(speciesendo[1:s])\n",
    "names(distrDispCoLemur) <- as.character(speciesendo[1:s])\n",
    "\n",
    "\n",
    "\n",
    "\t} # end loop species s\n",
    "\n",
    "\n",
    "## Save data in a list that will contain the results for every imputed dataset\n",
    "distrAreaTot[[d]] <- distrArea\n",
    "distrCoLemurTot[[d]] <- distrCoLemur\n",
    "distrDispLemurTot[[d]] <- distrDispLemur\n",
    "distrDispCoLemurTot[[d]] <- distrDispCoLemur\n",
    "\n",
    "\n",
    "## Save data\n",
    "namedistrAreaTot <- paste(\"distrAreaTot\", d, \".rda\", sep=\"\")\n",
    "namedistrCoLemurTot <- paste(\"distrCoLemurTot\", d, \".rda\", sep=\"\")\n",
    "namedistrDispLemurTot <- paste(\"distrDispLemurTot\", d, \".rda\", sep=\"\")\n",
    "namedistrDispCoLemurTot <- paste(\"distrDispCoLemurTot\", d, \".rda\", sep=\"\")\n",
    "\n",
    "save(distrAreaTot, file=namedistrAreaTot)\n",
    "save(distrCoLemurTot, file=namedistrCoLemurTot)\n",
    "save(distrDispLemurTot, file=namedistrDispLemurTot)\n",
    "save(distrDispCoLemurTot, file=namedistrDispCoLemurTot)\n",
    "\n",
    "\n",
    "} # end loop imputed datasets d\n",
    "\n",
    "## Give proper name to each list element\n",
    "names(distrAreaTot) <- 1:d\n",
    "names(distrCoLemurTot) <- 1:d\n",
    "names(distrDispLemurTot) <- 1:d\n",
    "names(distrDispCoLemurTot) <- 1:d"
   ]
  },
  {
   "cell_type": "markdown",
   "metadata": {},
   "source": [
    "Note: We could perform the spatial analyses on 3018 endozoochorous species for which GBIF had georeferenced records."
   ]
  }
 ],
 "metadata": {
  "kernelspec": {
   "display_name": "R 3.3",
   "language": "R",
   "name": "ir33"
  },
  "language_info": {
   "codemirror_mode": "r",
   "file_extension": ".r",
   "mimetype": "text/x-r-source",
   "name": "R",
   "pygments_lexer": "r",
   "version": "3.3.1"
  }
 },
 "nbformat": 4,
 "nbformat_minor": 2
}
